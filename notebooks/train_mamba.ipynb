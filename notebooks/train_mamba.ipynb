{
  "cells": [
    {
      "attachments": {},
      "cell_type": "markdown",
      "metadata": {
        "id": "FU-1GTZT28li"
      },
      "source": [
        "# The tuned lens 🔎\n",
        "A tuned lens allows us to peak at the iterative computations that a transformer is using the compute the next token.\n",
        "\n",
        "A lens into a transformer with n layers allows you to replace the last $m$ layers of the model with an [affine transformation](https://pytorch.org/docs/stable/generated/torch.nn.Linear.html) (we call these affine translators).\n",
        "\n",
        "This essentially skips over these last few layers and lets you see the best prediction that can be made from the model's representations, i.e. the residual stream, at layer $n - m$. Since the representations may be rotated, shifted, or stretched from layer to layer it's useful to train the len's affine translators specifically on each layer. This training is what differentiates this method from simpler approaches that decode the residual stream of the network directly using the unembedding layer i.e. the logit lens. We explain this process along with more applications of the method in [the paper](ttps://arxiv.org/abs/2303.08112).\n",
        "\n",
        "You can find the complete set of pretrained lenses on [the hugging face space](https://huggingface.co/spaces/AlignmentResearch/tuned-lens/tree/main/lens).\n",
        "\n",
        "## Usage\n",
        "Since the tuned lens produces a distribution of predictions to visualize it's output we need to we need to provide a summary statistic to plot.  The default is simply [entropy](https://en.wikipedia.org/wiki/Entropy_(information_theory)), but you can also choose the [cross entropy](https://en.wikipedia.org/wiki/Cross_entropy) with the target token, or the [KL divergence](https://en.wikipedia.org/wiki/Kullback%E2%80%93Leibler_divergence) between the model's predictions and the tuned lens' predictions. You can also hover over a token to see more of the distribution i.e. the top 10 most probable tokens and their probabilities.\n",
        "\n",
        "## Examples\n",
        "Some interesting examples you can try.\n",
        "\n",
        "### Copy paste:\n",
        "```\n",
        "Copy: A!2j!#u&NGApS&MkkHe8Gm!#\n",
        "Paste: A!2j!#u&NGApS&MkkHe8Gm!#\n",
        "```\n",
        "\n",
        "### Trivial in-context learning\n",
        "```\n",
        "inc 1 2\n",
        "inc 4 5\n",
        "inc 13 \n",
        "```\n",
        "\n",
        "#### Addition\n",
        "```\n",
        "add 1 1 2\n",
        "add 3 4 7\n",
        "add 13 2 \n",
        "```"
      ]
    },
    {
      "cell_type": "code",
      "execution_count": null,
      "metadata": {},
      "outputs": [],
      "source": [
        "#!pip install tuned-lens"
      ]
    },
    {
      "cell_type": "code",
      "execution_count": null,
      "metadata": {},
      "outputs": [],
      "source": [
        "#!pip uninstall -y tuned-lens"
      ]
    },
    {
      "cell_type": "code",
      "execution_count": 10,
      "metadata": {
        "id": "W9cRsIdK2-Jm"
      },
      "outputs": [
        {
          "name": "stdout",
          "output_type": "stream",
          "text": [
            "Requirement already satisfied: plotly in /home/gpaulo/GpiT/.conda/lib/python3.11/site-packages (5.18.0)\n",
            "Requirement already satisfied: tenacity>=6.2.0 in /home/gpaulo/GpiT/.conda/lib/python3.11/site-packages (from plotly) (8.2.3)\n",
            "Requirement already satisfied: packaging in /home/gpaulo/GpiT/.conda/lib/python3.11/site-packages (from plotly) (23.2)\n",
            "Requirement already satisfied: ipywidgets in /home/gpaulo/GpiT/.conda/lib/python3.11/site-packages (8.1.1)\n",
            "Requirement already satisfied: comm>=0.1.3 in /home/gpaulo/GpiT/.conda/lib/python3.11/site-packages (from ipywidgets) (0.1.4)\n",
            "Requirement already satisfied: ipython>=6.1.0 in /home/gpaulo/GpiT/.conda/lib/python3.11/site-packages (from ipywidgets) (8.18.1)\n",
            "Requirement already satisfied: traitlets>=4.3.1 in /home/gpaulo/GpiT/.conda/lib/python3.11/site-packages (from ipywidgets) (5.14.0)\n",
            "Requirement already satisfied: widgetsnbextension~=4.0.9 in /home/gpaulo/GpiT/.conda/lib/python3.11/site-packages (from ipywidgets) (4.0.9)\n",
            "Requirement already satisfied: jupyterlab-widgets~=3.0.9 in /home/gpaulo/GpiT/.conda/lib/python3.11/site-packages (from ipywidgets) (3.0.9)\n",
            "Requirement already satisfied: decorator in /home/gpaulo/GpiT/.conda/lib/python3.11/site-packages (from ipython>=6.1.0->ipywidgets) (5.1.1)\n",
            "Requirement already satisfied: jedi>=0.16 in /home/gpaulo/GpiT/.conda/lib/python3.11/site-packages (from ipython>=6.1.0->ipywidgets) (0.19.1)\n",
            "Requirement already satisfied: matplotlib-inline in /home/gpaulo/GpiT/.conda/lib/python3.11/site-packages (from ipython>=6.1.0->ipywidgets) (0.1.6)\n",
            "Requirement already satisfied: prompt-toolkit<3.1.0,>=3.0.41 in /home/gpaulo/GpiT/.conda/lib/python3.11/site-packages (from ipython>=6.1.0->ipywidgets) (3.0.42)\n",
            "Requirement already satisfied: pygments>=2.4.0 in /home/gpaulo/GpiT/.conda/lib/python3.11/site-packages (from ipython>=6.1.0->ipywidgets) (2.17.2)\n",
            "Requirement already satisfied: stack-data in /home/gpaulo/GpiT/.conda/lib/python3.11/site-packages (from ipython>=6.1.0->ipywidgets) (0.6.2)\n",
            "Requirement already satisfied: pexpect>4.3 in /home/gpaulo/GpiT/.conda/lib/python3.11/site-packages (from ipython>=6.1.0->ipywidgets) (4.8.0)\n",
            "Requirement already satisfied: parso<0.9.0,>=0.8.3 in /home/gpaulo/GpiT/.conda/lib/python3.11/site-packages (from jedi>=0.16->ipython>=6.1.0->ipywidgets) (0.8.3)\n",
            "Requirement already satisfied: ptyprocess>=0.5 in /home/gpaulo/GpiT/.conda/lib/python3.11/site-packages (from pexpect>4.3->ipython>=6.1.0->ipywidgets) (0.7.0)\n",
            "Requirement already satisfied: wcwidth in /home/gpaulo/GpiT/.conda/lib/python3.11/site-packages (from prompt-toolkit<3.1.0,>=3.0.41->ipython>=6.1.0->ipywidgets) (0.2.12)\n",
            "Requirement already satisfied: executing>=1.2.0 in /home/gpaulo/GpiT/.conda/lib/python3.11/site-packages (from stack-data->ipython>=6.1.0->ipywidgets) (2.0.1)\n",
            "Requirement already satisfied: asttokens>=2.1.0 in /home/gpaulo/GpiT/.conda/lib/python3.11/site-packages (from stack-data->ipython>=6.1.0->ipywidgets) (2.4.1)\n",
            "Requirement already satisfied: pure-eval in /home/gpaulo/GpiT/.conda/lib/python3.11/site-packages (from stack-data->ipython>=6.1.0->ipywidgets) (0.2.2)\n",
            "Requirement already satisfied: six>=1.12.0 in /home/gpaulo/GpiT/.conda/lib/python3.11/site-packages (from asttokens>=2.1.0->stack-data->ipython>=6.1.0->ipywidgets) (1.16.0)\n",
            "Collecting nbformat\n",
            "  Downloading nbformat-5.9.2-py3-none-any.whl.metadata (3.4 kB)\n",
            "Collecting fastjsonschema (from nbformat)\n",
            "  Downloading fastjsonschema-2.19.0-py3-none-any.whl.metadata (2.0 kB)\n",
            "Collecting jsonschema>=2.6 (from nbformat)\n",
            "  Downloading jsonschema-4.20.0-py3-none-any.whl.metadata (8.1 kB)\n",
            "Requirement already satisfied: jupyter-core in /home/gpaulo/GpiT/.conda/lib/python3.11/site-packages (from nbformat) (5.5.1)\n",
            "Requirement already satisfied: traitlets>=5.1 in /home/gpaulo/GpiT/.conda/lib/python3.11/site-packages (from nbformat) (5.14.0)\n",
            "Requirement already satisfied: attrs>=22.2.0 in /home/gpaulo/GpiT/.conda/lib/python3.11/site-packages (from jsonschema>=2.6->nbformat) (23.1.0)\n",
            "Collecting jsonschema-specifications>=2023.03.6 (from jsonschema>=2.6->nbformat)\n",
            "  Downloading jsonschema_specifications-2023.11.2-py3-none-any.whl.metadata (3.0 kB)\n",
            "Collecting referencing>=0.28.4 (from jsonschema>=2.6->nbformat)\n",
            "  Downloading referencing-0.32.0-py3-none-any.whl.metadata (2.7 kB)\n",
            "Collecting rpds-py>=0.7.1 (from jsonschema>=2.6->nbformat)\n",
            "  Downloading rpds_py-0.15.2-cp311-cp311-manylinux_2_17_x86_64.manylinux2014_x86_64.whl.metadata (4.1 kB)\n",
            "Requirement already satisfied: platformdirs>=2.5 in /home/gpaulo/GpiT/.conda/lib/python3.11/site-packages (from jupyter-core->nbformat) (4.1.0)\n",
            "Downloading nbformat-5.9.2-py3-none-any.whl (77 kB)\n",
            "\u001b[2K   \u001b[90m━━━━━━━━━━━━━━━━━━━━━━━━━━━━━━━━━━━━━━━━\u001b[0m \u001b[32m77.6/77.6 kB\u001b[0m \u001b[31m4.0 MB/s\u001b[0m eta \u001b[36m0:00:00\u001b[0m\n",
            "\u001b[?25hDownloading jsonschema-4.20.0-py3-none-any.whl (84 kB)\n",
            "\u001b[2K   \u001b[90m━━━━━━━━━━━━━━━━━━━━━━━━━━━━━━━━━━━━━━━━\u001b[0m \u001b[32m84.7/84.7 kB\u001b[0m \u001b[31m5.6 MB/s\u001b[0m eta \u001b[36m0:00:00\u001b[0m\n",
            "\u001b[?25hDownloading fastjsonschema-2.19.0-py3-none-any.whl (23 kB)\n",
            "Downloading jsonschema_specifications-2023.11.2-py3-none-any.whl (17 kB)\n",
            "Downloading referencing-0.32.0-py3-none-any.whl (26 kB)\n",
            "Downloading rpds_py-0.15.2-cp311-cp311-manylinux_2_17_x86_64.manylinux2014_x86_64.whl (1.2 MB)\n",
            "\u001b[2K   \u001b[90m━━━━━━━━━━━━━━━━━━━━━━━━━━━━━━━━━━━━━━━━\u001b[0m \u001b[32m1.2/1.2 MB\u001b[0m \u001b[31m34.7 MB/s\u001b[0m eta \u001b[36m0:00:00\u001b[0m00:01\u001b[0m\n",
            "\u001b[?25hInstalling collected packages: fastjsonschema, rpds-py, referencing, jsonschema-specifications, jsonschema, nbformat\n",
            "Successfully installed fastjsonschema-2.19.0 jsonschema-4.20.0 jsonschema-specifications-2023.11.2 nbformat-5.9.2 referencing-0.32.0 rpds-py-0.15.2\n"
          ]
        }
      ],
      "source": [
        "\n",
        "!pip install plotly\n",
        "!pip install ipywidgets\n",
        "!pip install nbformat"
      ]
    },
    {
      "cell_type": "code",
      "execution_count": 1,
      "metadata": {
        "id": "FGd2YmyD28lk",
        "scrolled": true
      },
      "outputs": [
        {
          "name": "stderr",
          "output_type": "stream",
          "text": [
            "Special tokens have been added in the vocabulary, make sure the associated word embeddings are fine-tuned or trained.\n"
          ]
        }
      ],
      "source": [
        "import torch\n",
        "import sys\n",
        "from mamba_ssm.models.mixer_seq_simple import MambaLMHeadModel\n",
        "import mamba_ssm\n",
        "sys.path.append('/mnt/c/Users/g-spa/Desktop/tuned-lens/')\n",
        "from tuned_lens.nn.lenses import TunedLens, LogitLens\n",
        "from transformers import AutoModelForCausalLM, AutoTokenizer\n",
        "from transformers import AutoTokenizer, AutoModelForCausalLM\n",
        "\n",
        "device = torch.device('cpu')\n",
        "# To try a diffrent modle / lens check if the lens is avalible then modify this code\n",
        "#model = AutoModelForCausalLM.from_pretrained('gpt2-large')\n",
        "#model = model.to(device)\n",
        "#tokenizer = AutoTokenizer.from_pretrained('gpt2-large')\n",
        "model = MambaLMHeadModel.from_pretrained(\"state-spaces/mamba-130m\", device=\"cuda\", dtype=torch.float16)\n",
        "\n",
        "tokenizer = AutoTokenizer.from_pretrained(\"EleutherAI/gpt-neox-20b\")\n"
      ]
    },
    {
      "cell_type": "code",
      "execution_count": 2,
      "metadata": {},
      "outputs": [],
      "source": [
        "from transformers.configuration_utils import PretrainedConfig\n",
        "from transformers import PreTrainedModel\n",
        "from collections import namedtuple\n",
        "\n",
        "class MambaConfig(PretrainedConfig):\n",
        "    model_type = \"mamba\"\n",
        "    attribute_map = {\"max_position_embeddings\": \"context_length\"}\n",
        "\n",
        "    def __init__(\n",
        "        self,\n",
        "        dmodel=768,\n",
        "        vocab_size=50280,\n",
        "        n_layer=24,\n",
        "        **kwargs,\n",
        "    ):\n",
        "        self.vocab_size = vocab_size\n",
        "        self.hidden_size = dmodel\n",
        "        self.num_hidden_layers = n_layer\n",
        "        \n",
        "        super().__init__(**kwargs)\n",
        "\n",
        "activations = {}\n",
        "class MambaModel(PreTrainedModel):\n",
        "    config_class = MambaConfig\n",
        "    base_model_prefix = \"model\"\n",
        "    name_or_path = \"mamba\"\n",
        "    name = \"mamba-130m\"\n",
        "    def activation_hook(self, module,input, output):\n",
        "        if len(output)>1:\n",
        "            output = output[0]\n",
        "        activations[module] = output\n",
        "    \n",
        "    def __init__(self, config: MambaConfig):\n",
        "        super().__init__(config)\n",
        "        self.tokenizer=tokenizer\n",
        "        self.dmodel = config.hidden_size\n",
        "        self.vocab_size = config.vocab_size\n",
        "        self.num_hidden_layers = config.num_hidden_layers   \n",
        "        self.model = MambaLMHeadModel(self.dmodel, self.num_hidden_layers,self.vocab_size,device=\"cuda\", dtype=torch.float16)\n",
        "        self.model.name_or_path = \"mamba\"\n",
        "    def load_state_dict(self, state_dict, strict=False):\n",
        "        self.model.load_state_dict(state_dict, strict=strict)\n",
        "\n",
        "    def hook_intermediate(self):\n",
        "        activation_hook = self.activation_hook\n",
        "        self.model.backbone.embedding.register_forward_hook(activation_hook)\n",
        "        for layer in self.model.backbone.layers:\n",
        "            layer.register_forward_hook(activation_hook)\n",
        "    def forward(self, input_ids, output_hidden_states=True):\n",
        "        activations.clear()\n",
        "        if output_hidden_states==True:\n",
        "            self.hook_intermediate()\n",
        "        outputs = self.model(input_ids).logits\n",
        "        hidden_states=[]\n",
        "        for layer in activations.keys():\n",
        "            hidden_states.append(activations[layer])\n",
        "        hidden_states=hidden_states\n",
        "        CausalLMOutput = namedtuple(\"CausalLMOutput\", [\"logits\", \"hidden_states\"])\n",
        "        return CausalLMOutput(logits=outputs, hidden_states=hidden_states)\n",
        "\n",
        "    def get_output_embeddings(self):\n",
        "        return self.model.lm_head\n",
        "\n",
        "    def load(self,device):\n",
        "        return self.to(device), self.tokenizer\n"
      ]
    },
    {
      "cell_type": "code",
      "execution_count": null,
      "metadata": {},
      "outputs": [],
      "source": [
        "gpt = AutoModelForCausalLM.from_pretrained('gpt2-large')\n",
        "gpt = gpt.to(device)"
      ]
    },
    {
      "cell_type": "code",
      "execution_count": null,
      "metadata": {},
      "outputs": [],
      "source": [
        "text = \"Hello darkness\"\n",
        "input_ids = tokenizer.encode(text)\n",
        "targets = input_ids[1:] + [tokenizer.eos_token_id]\n",
        "\n",
        "with torch.no_grad():\n",
        "    input_ids_th = torch.tensor(input_ids, dtype=torch.int64, device=mamba.device)\n",
        "    input_ids_th=input_ids_th.unsqueeze(0)\n",
        "    print(input_ids_th.shape)\n",
        "    outputs = mamba(input_ids_th, output_hidden_states=True)\n",
        "\n",
        "# Slice arrays the specified range\n",
        "model_log_probs = (\n",
        "    outputs.logits[..., :].log_softmax(-1).squeeze().detach().cpu().numpy()\n",
        ")\n",
        "stream = list(outputs.hidden_states)"
      ]
    },
    {
      "cell_type": "code",
      "execution_count": 8,
      "metadata": {},
      "outputs": [],
      "source": [
        "device = torch.device('cuda')\n",
        "tuned_lens = TunedLens.from_model(mamba)\n",
        "tuned_lens = tuned_lens.to(device)\n",
        "logit_lens = LogitLens.from_model(mamba)"
      ]
    },
    {
      "cell_type": "code",
      "execution_count": 11,
      "metadata": {
        "id": "DL8f4i2828lm",
        "scrolled": true
      },
      "outputs": [
        {
          "data": {
            "application/vnd.jupyter.widget-view+json": {
              "model_id": "6d2a1f820a20443080ffa78acedef3bc",
              "version_major": 2,
              "version_minor": 0
            },
            "text/plain": [
              "interactive(children=(Dropdown(description='Select Lens:', options=(('Tuned Lens', TunedLens(\n",
              "  (unembed): Une…"
            ]
          },
          "metadata": {},
          "output_type": "display_data"
        },
        {
          "data": {
            "application/vnd.plotly.v1+json": {
              "config": {
                "plotlyServerURL": "https://plot.ly"
              },
              "data": [
                {
                  "colorbar": {
                    "title": {
                      "side": "right",
                      "text": "Entropy (nats)"
                    }
                  },
                  "colorscale": [
                    [
                      0,
                      "rgb(5,48,97)"
                    ],
                    [
                      0.1,
                      "rgb(33,102,172)"
                    ],
                    [
                      0.2,
                      "rgb(67,147,195)"
                    ],
                    [
                      0.3,
                      "rgb(146,197,222)"
                    ],
                    [
                      0.4,
                      "rgb(209,229,240)"
                    ],
                    [
                      0.5,
                      "rgb(247,247,247)"
                    ],
                    [
                      0.6,
                      "rgb(253,219,199)"
                    ],
                    [
                      0.7,
                      "rgb(244,165,130)"
                    ],
                    [
                      0.8,
                      "rgb(214,96,77)"
                    ],
                    [
                      0.9,
                      "rgb(178,24,43)"
                    ],
                    [
                      1,
                      "rgb(103,0,31)"
                    ]
                  ],
                  "customdata": [
                    [
                      [
                        "      it",
                        " 100.00%",
                        "      IT",
                        "   0.00%",
                        "     its",
                        "   0.00%",
                        "    iten",
                        "   0.00%",
                        "      It",
                        "   0.00%",
                        "    itan",
                        "   0.00%",
                        "    itet",
                        "   0.00%",
                        "   itted",
                        "   0.00%",
                        "    itte",
                        "   0.00%",
                        "     _it",
                        "   0.00%"
                      ],
                      [
                        "    _was",
                        " 100.00%",
                        "     _is",
                        "   0.00%",
                        "   _were",
                        "   0.00%",
                        "    _and",
                        "   0.00%",
                        "       ,",
                        "   0.00%",
                        "      _(",
                        "   0.00%",
                        "     _in",
                        "   0.00%",
                        "    _had",
                        "   0.00%",
                        "    _has",
                        "   0.00%",
                        "    _for",
                        "   0.00%"
                      ],
                      [
                        "    _the",
                        " 100.00%",
                        "      _a",
                        "   0.00%",
                        "     _in",
                        "   0.00%",
                        "    _and",
                        "   0.00%",
                        "       ,",
                        "   0.00%",
                        "      _(",
                        "   0.00%",
                        "     _an",
                        "   0.00%",
                        "     _to",
                        "   0.00%",
                        "     _at",
                        "   0.00%",
                        "     _as",
                        "   0.00%"
                      ],
                      [
                        "   _best",
                        " 100.00%",
                        "    best",
                        "   0.00%",
                        "    Best",
                        "   0.00%",
                        "   _Best",
                        "   0.00%",
                        "  _worst",
                        "   0.00%",
                        " _better",
                        "   0.00%",
                        " _finest",
                        "   0.00%",
                        " _easie…",
                        "   0.00%",
                        " _stron…",
                        "   0.00%",
                        " _great…",
                        "   0.00%"
                      ],
                      [
                        "     _of",
                        " 100.00%",
                        "    _and",
                        "   0.00%",
                        "     _in",
                        "   0.00%",
                        "       ,",
                        "   0.00%",
                        "      _(",
                        "   0.00%",
                        "     _to",
                        "   0.00%",
                        "    _for",
                        "   0.00%",
                        "     _or",
                        "   0.00%",
                        "     _at",
                        "   0.00%",
                        "     _as",
                        "   0.00%"
                      ],
                      [
                        "  _times",
                        " 100.00%",
                        "   times",
                        "   0.00%",
                        "   uvant",
                        "   0.00%",
                        "   _time",
                        "   0.00%",
                        "   14514",
                        "   0.00%",
                        "   _fois",
                        "   0.00%",
                        "    time",
                        "   0.00%",
                        " ometim…",
                        "   0.00%",
                        "  _occas",
                        "   0.00%",
                        "  _Times",
                        "   0.00%"
                      ],
                      [
                        "       ,",
                        " 100.00%",
                        "    _and",
                        "   0.00%",
                        "       .",
                        "   0.00%",
                        "      _(",
                        "   0.00%",
                        "       -",
                        "   0.00%",
                        "     _in",
                        "   0.00%",
                        "      \\n",
                        "   0.00%",
                        "     _or",
                        "   0.00%",
                        "     _to",
                        "   0.00%",
                        "       :",
                        "   0.00%"
                      ],
                      [
                        "     _it",
                        " 100.00%",
                        "     _It",
                        "   0.00%",
                        "      it",
                        "   0.00%",
                        "    _its",
                        "   0.00%",
                        "      It",
                        "   0.00%",
                        "    _the",
                        "   0.00%",
                        "      _a",
                        "   0.00%",
                        "     _in",
                        "   0.00%",
                        "       ,",
                        "   0.00%",
                        "    _and",
                        "   0.00%"
                      ],
                      [
                        "    _was",
                        " 100.00%",
                        "     _is",
                        "   0.00%",
                        "   _were",
                        "   0.00%",
                        "    _and",
                        "   0.00%",
                        "       ,",
                        "   0.00%",
                        "      _(",
                        "   0.00%",
                        "     _in",
                        "   0.00%",
                        "    _had",
                        "   0.00%",
                        "    _has",
                        "   0.00%",
                        "    _for",
                        "   0.00%"
                      ],
                      [
                        "    _the",
                        " 100.00%",
                        "      _a",
                        "   0.00%",
                        "     _in",
                        "   0.00%",
                        "    _and",
                        "   0.00%",
                        "       ,",
                        "   0.00%",
                        "      _(",
                        "   0.00%",
                        "     _an",
                        "   0.00%",
                        "     _to",
                        "   0.00%",
                        "     _at",
                        "   0.00%",
                        "     _as",
                        "   0.00%"
                      ],
                      [
                        " ometim…",
                        " 100.00%",
                        " icroso…",
                        "   0.01%",
                        " _prede…",
                        "   0.00%",
                        "    amss",
                        "   0.00%",
                        " acebook",
                        "   0.00%",
                        "    uilt",
                        "   0.00%",
                        "      ĥ½",
                        "   0.00%",
                        "   ORAND",
                        "   0.00%",
                        " iversal",
                        "   0.00%",
                        "   uvant",
                        "   0.00%"
                      ],
                      [
                        "     _of",
                        " 100.00%",
                        "    _and",
                        "   0.00%",
                        "     _in",
                        "   0.00%",
                        "       ,",
                        "   0.00%",
                        "      _(",
                        "   0.00%",
                        "     _to",
                        "   0.00%",
                        "    _for",
                        "   0.00%",
                        "     _or",
                        "   0.00%",
                        "     _at",
                        "   0.00%",
                        "     _as",
                        "   0.00%"
                      ],
                      [
                        "  _times",
                        " 100.00%",
                        "   times",
                        "   0.00%",
                        "   uvant",
                        "   0.00%",
                        "   _time",
                        "   0.00%",
                        "   14514",
                        "   0.00%",
                        "   _fois",
                        "   0.00%",
                        "    time",
                        "   0.00%",
                        " ometim…",
                        "   0.00%",
                        "  _occas",
                        "   0.00%",
                        "  _Times",
                        "   0.00%"
                      ]
                    ],
                    [
                      [
                        " _dehyd…",
                        "  97.44%",
                        " _nonne…",
                        "   1.11%",
                        " _recycl",
                        "   1.09%",
                        " _Custo…",
                        "   0.11%",
                        " _symmet",
                        "   0.06%",
                        "  _exerc",
                        "   0.06%",
                        " _racket",
                        "   0.05%",
                        "  scious",
                        "   0.02%",
                        "   _laun",
                        "   0.02%",
                        " _arrang",
                        "   0.02%"
                      ],
                      [
                        " commut…",
                        "  98.62%",
                        "  _still",
                        "   1.09%",
                        "     _to",
                        "   0.17%",
                        "  onance",
                        "   0.02%",
                        "      _s",
                        "   0.01%",
                        "   _into",
                        "   0.01%",
                        " _Lapla…",
                        "   0.01%",
                        " _assert",
                        "   0.01%",
                        " _final…",
                        "   0.01%",
                        "     _as",
                        "   0.01%"
                      ],
                      [
                        " _Pales…",
                        "  99.94%",
                        " _reluct",
                        "   0.06%",
                        " _traje…",
                        "   0.00%",
                        "   _CURI",
                        "   0.00%",
                        " Undeci…",
                        "   0.00%",
                        "   empre",
                        "   0.00%",
                        "     TTP",
                        "   0.00%",
                        " ------…",
                        "   0.00%",
                        " ------…",
                        "   0.00%",
                        "    OPLE",
                        "   0.00%"
                      ],
                      [
                        "      _(",
                        "  94.06%",
                        "      _a",
                        "   4.01%",
                        "    _and",
                        "   1.67%",
                        "       ,",
                        "   0.25%",
                        "     _in",
                        "   0.00%",
                        "       .",
                        "   0.00%",
                        "     _as",
                        "   0.00%",
                        "     _to",
                        "   0.00%",
                        "       :",
                        "   0.00%",
                        "   _that",
                        "   0.00%"
                      ],
                      [
                        "       ,",
                        "  41.97%",
                        "    _the",
                        "  24.67%",
                        "      _\"",
                        "  18.05%",
                        "      _(",
                        "  12.04%",
                        "     _in",
                        "   1.19%",
                        "      _B",
                        "   0.68%",
                        "      _L",
                        "   0.48%",
                        "      _F",
                        "   0.40%",
                        "      _a",
                        "   0.26%",
                        "       -",
                        "   0.07%"
                      ],
                      [
                        "      _a",
                        "  92.06%",
                        "    _the",
                        "   5.36%",
                        "      _(",
                        "   2.20%",
                        "    _and",
                        "   0.17%",
                        "      _F",
                        "   0.07%",
                        "      _\"",
                        "   0.06%",
                        "      \\n",
                        "   0.02%",
                        "   _that",
                        "   0.01%",
                        "     _as",
                        "   0.00%",
                        "      _B",
                        "   0.00%"
                      ],
                      [
                        "   14514",
                        "  99.19%",
                        " _trigl…",
                        "   0.46%",
                        " onelin…",
                        "   0.38%",
                        " perties",
                        "   0.00%",
                        " fficie…",
                        "   0.00%",
                        " SEQUEN…",
                        "   0.00%",
                        " prehens",
                        "   0.00%",
                        "   acerb",
                        "   0.00%",
                        " plitud…",
                        "   0.00%",
                        "   ****,",
                        "   0.00%"
                      ],
                      [
                        "      _(",
                        "  97.62%",
                        "       ,",
                        "   2.30%",
                        "    _and",
                        "   0.05%",
                        "      \\n",
                        "   0.04%",
                        "       .",
                        "   0.01%",
                        "      _\"",
                        "   0.01%",
                        "       -",
                        "   0.00%",
                        "     _in",
                        "   0.00%",
                        "      _a",
                        "   0.00%",
                        "      's",
                        "   0.00%"
                      ],
                      [
                        "       ,",
                        "  84.88%",
                        "      _a",
                        "  14.30%",
                        "      _(",
                        "   0.45%",
                        "     _in",
                        "   0.18%",
                        "     _to",
                        "   0.13%",
                        "    _the",
                        "   0.07%",
                        "      _d",
                        "   0.00%",
                        "      _\"",
                        "   0.00%",
                        "     _as",
                        "   0.00%",
                        "      __",
                        "   0.00%"
                      ],
                      [
                        "       ,",
                        "  49.78%",
                        "       -",
                        "  23.16%",
                        "      _\"",
                        "   9.66%",
                        "     _in",
                        "   8.26%",
                        "      _(",
                        "   6.74%",
                        "      _a",
                        "   1.32%",
                        "      _v",
                        "   0.75%",
                        "      _p",
                        "   0.19%",
                        "      _-",
                        "   0.03%",
                        "     _or",
                        "   0.02%"
                      ],
                      [
                        "       ,",
                        "  98.56%",
                        "      _(",
                        "   1.40%",
                        "    _and",
                        "   0.05%",
                        "       -",
                        "   0.00%",
                        "      \\n",
                        "   0.00%",
                        "       .",
                        "   0.00%",
                        "      _a",
                        "   0.00%",
                        "      _\"",
                        "   0.00%",
                        "     _in",
                        "   0.00%",
                        "     _or",
                        "   0.00%"
                      ],
                      [
                        "       ,",
                        "  98.56%",
                        "      _(",
                        "   1.32%",
                        "    _the",
                        "   0.06%",
                        "       -",
                        "   0.01%",
                        "      _a",
                        "   0.01%",
                        "    _and",
                        "   0.01%",
                        "      \\n",
                        "   0.00%",
                        "      _\"",
                        "   0.00%",
                        "     _in",
                        "   0.00%",
                        "       .",
                        "   0.00%"
                      ],
                      [
                        "      _(",
                        "  82.12%",
                        "      _a",
                        "  10.94%",
                        "    _and",
                        "   5.59%",
                        "       ,",
                        "   0.91%",
                        "      \\n",
                        "   0.24%",
                        "    _the",
                        "   0.18%",
                        "      _\"",
                        "   0.02%",
                        "     _as",
                        "   0.00%",
                        "       .",
                        "   0.00%",
                        "       -",
                        "   0.00%"
                      ]
                    ],
                    [
                      [
                        "      \\n",
                        "  62.75%",
                        "      _(",
                        "  20.36%",
                        "    _and",
                        "  15.73%",
                        "       ,",
                        "   0.54%",
                        "       .",
                        "   0.28%",
                        "     _in",
                        "   0.22%",
                        "       -",
                        "   0.09%",
                        "      _f",
                        "   0.02%",
                        "    _set",
                        "   0.01%",
                        "     _is",
                        "   0.00%"
                      ],
                      [
                        "       ,",
                        "  86.25%",
                        "    _and",
                        "  13.65%",
                        "       -",
                        "   0.09%",
                        "      _(",
                        "   0.00%",
                        "       .",
                        "   0.00%",
                        "     _in",
                        "   0.00%",
                        "      _\"",
                        "   0.00%",
                        "      \\n",
                        "   0.00%",
                        "      _a",
                        "   0.00%",
                        "     _on",
                        "   0.00%"
                      ],
                      [
                        "       ,",
                        " 100.00%",
                        "     _in",
                        "   0.00%",
                        "      _a",
                        "   0.00%",
                        "      _(",
                        "   0.00%",
                        "      \\n",
                        "   0.00%",
                        "    _the",
                        "   0.00%",
                        "       -",
                        "   0.00%",
                        "    _and",
                        "   0.00%",
                        "      _\"",
                        "   0.00%",
                        "     _is",
                        "   0.00%"
                      ],
                      [
                        "       ,",
                        "  98.56%",
                        "      _(",
                        "   1.40%",
                        "      \\n",
                        "   0.00%",
                        "    _and",
                        "   0.00%",
                        "     _in",
                        "   0.00%",
                        "       -",
                        "   0.00%",
                        "     _or",
                        "   0.00%",
                        "       .",
                        "   0.00%",
                        "      _a",
                        "   0.00%",
                        "     _to",
                        "   0.00%"
                      ],
                      [
                        "   ermal",
                        "  50.44%",
                        "   ricks",
                        "  25.75%",
                        "  isible",
                        "   9.78%",
                        "    lain",
                        "   4.41%",
                        "  ffield",
                        "   2.44%",
                        "   _cart",
                        "   2.22%",
                        "  hattan",
                        "   2.15%",
                        "    frey",
                        "   0.87%",
                        "  oclast",
                        "   0.59%",
                        "   ption",
                        "   0.42%"
                      ],
                      [
                        "     _to",
                        "  86.62%",
                        "     _on",
                        "   4.73%",
                        "    _for",
                        "   3.80%",
                        "       ,",
                        "   3.69%",
                        "     _in",
                        "   0.90%",
                        "    _the",
                        "   0.09%",
                        "     _at",
                        "   0.05%",
                        "      _(",
                        "   0.03%",
                        "     _an",
                        "   0.02%",
                        "   _when",
                        "   0.02%"
                      ],
                      [
                        "    _and",
                        "  97.25%",
                        "     _or",
                        "   2.02%",
                        "       ,",
                        "   0.48%",
                        "   _from",
                        "   0.11%",
                        "      _(",
                        "   0.11%",
                        "     _to",
                        "   0.02%",
                        "     _in",
                        "   0.01%",
                        "    _the",
                        "   0.00%",
                        "     _on",
                        "   0.00%",
                        "      \\n",
                        "   0.00%"
                      ],
                      [
                        "       ,",
                        "  95.94%",
                        "     _in",
                        "   3.96%",
                        "    _and",
                        "   0.07%",
                        "      _(",
                        "   0.00%",
                        "       .",
                        "   0.00%",
                        "     _or",
                        "   0.00%",
                        "       -",
                        "   0.00%",
                        "     _of",
                        "   0.00%",
                        "     _to",
                        "   0.00%",
                        "      \\n",
                        "   0.00%"
                      ],
                      [
                        "       ,",
                        "  99.88%",
                        "    _and",
                        "   0.11%",
                        "       .",
                        "   0.00%",
                        "       -",
                        "   0.00%",
                        "      _(",
                        "   0.00%",
                        "     _on",
                        "   0.00%",
                        "    _the",
                        "   0.00%",
                        "      _\"",
                        "   0.00%",
                        "     _in",
                        "   0.00%",
                        "      _a",
                        "   0.00%"
                      ],
                      [
                        "       ,",
                        " 100.00%",
                        "    _the",
                        "   0.00%",
                        "     _in",
                        "   0.00%",
                        "      _(",
                        "   0.00%",
                        "      _a",
                        "   0.00%",
                        "      \\n",
                        "   0.00%",
                        "    _and",
                        "   0.00%",
                        "       .",
                        "   0.00%",
                        "      _\"",
                        "   0.00%",
                        "       -",
                        "   0.00%"
                      ],
                      [
                        "       ,",
                        "  88.31%",
                        "      _(",
                        "  11.22%",
                        "       -",
                        "   0.19%",
                        "      \\n",
                        "   0.18%",
                        "       .",
                        "   0.06%",
                        "    _and",
                        "   0.02%",
                        "      _I",
                        "   0.00%",
                        "     _or",
                        "   0.00%",
                        "      _\"",
                        "   0.00%",
                        "      _-",
                        "   0.00%"
                      ],
                      [
                        "      _a",
                        "  95.88%",
                        "     _to",
                        "   2.32%",
                        "     _in",
                        "   0.72%",
                        "      _2",
                        "   0.46%",
                        "    _and",
                        "   0.38%",
                        "      _(",
                        "   0.21%",
                        "       ,",
                        "   0.02%",
                        "    _the",
                        "   0.01%",
                        "      _T",
                        "   0.01%",
                        "      _1",
                        "   0.00%"
                      ],
                      [
                        "     _to",
                        "  86.19%",
                        "     _on",
                        "  10.96%",
                        "    _for",
                        "   2.03%",
                        "       ,",
                        "   0.68%",
                        "     _in",
                        "   0.05%",
                        "    _all",
                        "   0.02%",
                        "   _when",
                        "   0.02%",
                        "     _at",
                        "   0.01%",
                        "       .",
                        "   0.01%",
                        "      _(",
                        "   0.01%"
                      ]
                    ],
                    [
                      [
                        "       ,",
                        "  41.72%",
                        "      _(",
                        "  33.53%",
                        "    _and",
                        "  24.53%",
                        "     _in",
                        "   0.18%",
                        "       -",
                        "   0.01%",
                        "     _or",
                        "   0.00%",
                        "     _of",
                        "   0.00%",
                        "       /",
                        "   0.00%",
                        "       .",
                        "   0.00%",
                        "     _on",
                        "   0.00%"
                      ],
                      [
                        "       ,",
                        "  98.81%",
                        "      _(",
                        "   1.00%",
                        "    _and",
                        "   0.08%",
                        "     _in",
                        "   0.07%",
                        "       -",
                        "   0.02%",
                        "      _a",
                        "   0.00%",
                        "     _of",
                        "   0.00%",
                        "    _the",
                        "   0.00%",
                        "    _not",
                        "   0.00%",
                        "       .",
                        "   0.00%"
                      ],
                      [
                        "      _(",
                        "  49.69%",
                        "     _or",
                        "  23.81%",
                        "      \\n",
                        "  16.89%",
                        "      _[",
                        "   1.52%",
                        "      _*",
                        "   1.39%",
                        "      _\"",
                        "   1.24%",
                        "    _end",
                        "   0.92%",
                        "   _also",
                        "   0.83%",
                        "   _only",
                        "   0.75%",
                        "    _and",
                        "   0.70%"
                      ],
                      [
                        "   _good",
                        "  91.81%",
                        "   _well",
                        "   6.05%",
                        "  _close",
                        "   1.00%",
                        "  _other",
                        "   0.57%",
                        "   _back",
                        "   0.44%",
                        "    _and",
                        "   0.05%",
                        "       -",
                        "   0.02%",
                        "     _in",
                        "   0.02%",
                        "      _a",
                        "   0.02%",
                        "   _even",
                        "   0.01%"
                      ],
                      [
                        "      \\n",
                        "  61.81%",
                        "     _on",
                        "  13.17%",
                        "      _(",
                        "   8.50%",
                        "      _P",
                        "   7.62%",
                        "     _pr",
                        "   2.68%",
                        "       ,",
                        "   1.78%",
                        "      _e",
                        "   0.78%",
                        "   _part",
                        "   0.75%",
                        "      _f",
                        "   0.69%",
                        "      _c",
                        "   0.33%"
                      ],
                      [
                        "   _with",
                        "  73.69%",
                        "   _like",
                        "  12.59%",
                        "       -",
                        "   5.01%",
                        "      _(",
                        "   4.15%",
                        "    _one",
                        "   1.99%",
                        "       ,",
                        "   1.05%",
                        "     _by",
                        "   0.94%",
                        "     _on",
                        "   0.16%",
                        "     _un",
                        "   0.09%",
                        "   _only",
                        "   0.08%"
                      ],
                      [
                        "    _and",
                        "  70.44%",
                        "      _(",
                        "  16.72%",
                        "       ,",
                        "   6.76%",
                        "     _in",
                        "   5.97%",
                        "     _or",
                        "   0.09%",
                        "    _but",
                        "   0.01%",
                        "    _for",
                        "   0.00%",
                        "      _I",
                        "   0.00%",
                        "    _the",
                        "   0.00%",
                        "      _a",
                        "   0.00%"
                      ],
                      [
                        "    _and",
                        "  96.38%",
                        "     _or",
                        "   3.30%",
                        "       ,",
                        "   0.29%",
                        "      _(",
                        "   0.01%",
                        "     _in",
                        "   0.00%",
                        "     _of",
                        "   0.00%",
                        "      _\"",
                        "   0.00%",
                        "    _for",
                        "   0.00%",
                        "     _to",
                        "   0.00%",
                        "      _M",
                        "   0.00%"
                      ],
                      [
                        "     _or",
                        "  62.12%",
                        "       ,",
                        "  37.66%",
                        "    _and",
                        "   0.07%",
                        "     _in",
                        "   0.07%",
                        "      _(",
                        "   0.03%",
                        "   _part",
                        "   0.01%",
                        "     _of",
                        "   0.01%",
                        "       .",
                        "   0.00%",
                        "     _at",
                        "   0.00%",
                        "     _on",
                        "   0.00%"
                      ],
                      [
                        "     _or",
                        "  73.62%",
                        "      _(",
                        "  25.83%",
                        "    _and",
                        "   0.42%",
                        "      \\n",
                        "   0.05%",
                        "   _part",
                        "   0.03%",
                        "      __",
                        "   0.02%",
                        "     _to",
                        "   0.02%",
                        "       ,",
                        "   0.01%",
                        "     _as",
                        "   0.01%",
                        "      _\"",
                        "   0.01%"
                      ],
                      [
                        "    _and",
                        "  99.69%",
                        "     _in",
                        "   0.17%",
                        "       ,",
                        "   0.12%",
                        "   _than",
                        "   0.02%",
                        "      _(",
                        "   0.00%",
                        "      _a",
                        "   0.00%",
                        "    _not",
                        "   0.00%",
                        "    _for",
                        "   0.00%",
                        "     _to",
                        "   0.00%",
                        "       -",
                        "   0.00%"
                      ],
                      [
                        "       ,",
                        "  71.88%",
                        "      _(",
                        "  21.91%",
                        "    _and",
                        "   2.01%",
                        "     _at",
                        "   1.77%",
                        "     _on",
                        "   1.51%",
                        "       .",
                        "   0.35%",
                        "      \\n",
                        "   0.23%",
                        "       -",
                        "   0.18%",
                        "     _as",
                        "   0.11%",
                        "     _in",
                        "   0.02%"
                      ],
                      [
                        "       -",
                        "  36.09%",
                        "      _(",
                        "  32.34%",
                        "   _with",
                        "  19.61%",
                        "       ,",
                        "   3.86%",
                        "      \\n",
                        "   2.96%",
                        "       .",
                        "   2.34%",
                        "    _for",
                        "   0.95%",
                        "      _I",
                        "   0.57%",
                        "     _re",
                        "   0.45%",
                        "     _un",
                        "   0.32%"
                      ]
                    ],
                    [
                      [
                        "    _the",
                        "  48.34%",
                        "      is",
                        "  11.85%",
                        "       /",
                        "  11.48%",
                        "      _(",
                        "   7.89%",
                        "    _non",
                        "   4.64%",
                        "      _T",
                        "   4.50%",
                        "      _a",
                        "   4.36%",
                        "       ,",
                        "   2.73%",
                        "      \\n",
                        "   1.39%",
                        "       -",
                        "   0.79%"
                      ],
                      [
                        "   _also",
                        "  27.38%",
                        "      _a",
                        "  22.34%",
                        "      _I",
                        "  15.11%",
                        "      _(",
                        "  11.40%",
                        "    _not",
                        "   4.26%",
                        "      _\"",
                        "   4.19%",
                        "      \\n",
                        "   4.12%",
                        "       .",
                        "   3.82%",
                        "      _i",
                        "   1.72%",
                        "       ,",
                        "   1.57%"
                      ],
                      [
                        "      _I",
                        "  30.59%",
                        "     _in",
                        "  15.62%",
                        "    _and",
                        "  11.24%",
                        "      _a",
                        "  10.08%",
                        "   _that",
                        "   9.77%",
                        "       ,",
                        "   9.61%",
                        "     _of",
                        "   3.32%",
                        "    _one",
                        "   2.65%",
                        "     _an",
                        "   1.80%",
                        "    _for",
                        "   1.30%"
                      ],
                      [
                        "       ,",
                        " 100.00%",
                        "       .",
                        "   0.01%",
                        "     _in",
                        "   0.01%",
                        "      _C",
                        "   0.00%",
                        "       -",
                        "   0.00%",
                        "      _\"",
                        "   0.00%",
                        "     _on",
                        "   0.00%",
                        "      _G",
                        "   0.00%",
                        "    _for",
                        "   0.00%",
                        "    _and",
                        "   0.00%"
                      ],
                      [
                        "     _re",
                        "  71.19%",
                        "      _(",
                        "  10.25%",
                        "       -",
                        "   4.55%",
                        "    _led",
                        "   3.44%",
                        "       ;",
                        "   1.96%",
                        "    _set",
                        "   1.75%",
                        "    _one",
                        "   1.52%",
                        "     _fl",
                        "   1.15%",
                        "      --",
                        "   0.75%",
                        "     _un",
                        "   0.67%"
                      ],
                      [
                        "     _no",
                        "  52.28%",
                        "      _a",
                        "  26.70%",
                        "     _an",
                        "   8.02%",
                        "   _with",
                        "   4.43%",
                        "    _the",
                        "   3.09%",
                        "     _on",
                        "   1.68%",
                        "       ,",
                        "   0.86%",
                        "    _and",
                        "   0.59%",
                        "    _not",
                        "   0.55%",
                        "    _two",
                        "   0.41%"
                      ],
                      [
                        "       ,",
                        "  78.50%",
                        "      _(",
                        "  10.96%",
                        "    _and",
                        "   4.57%",
                        "      _\"",
                        "   4.03%",
                        "      _a",
                        "   1.37%",
                        "     _in",
                        "   0.26%",
                        "       .",
                        "   0.08%",
                        "     _as",
                        "   0.05%",
                        "       /",
                        "   0.05%",
                        "    _the",
                        "   0.05%"
                      ],
                      [
                        "       ,",
                        "  78.44%",
                        "     _as",
                        "  17.78%",
                        "     _in",
                        "   1.48%",
                        "    _for",
                        "   1.46%",
                        "     _on",
                        "   0.32%",
                        "     _at",
                        "   0.25%",
                        "      _a",
                        "   0.17%",
                        "    _and",
                        "   0.06%",
                        "     _of",
                        "   0.03%",
                        "   _also",
                        "   0.02%"
                      ],
                      [
                        "       ,",
                        "  99.69%",
                        "       .",
                        "   0.26%",
                        "      _a",
                        "   0.03%",
                        "     _in",
                        "   0.02%",
                        "      _(",
                        "   0.00%",
                        "      \\n",
                        "   0.00%",
                        "   _also",
                        "   0.00%",
                        "     _as",
                        "   0.00%",
                        "    _not",
                        "   0.00%",
                        "      _\"",
                        "   0.00%"
                      ],
                      [
                        "       ,",
                        "  43.59%",
                        "     _in",
                        "  18.17%",
                        "      _a",
                        "  11.55%",
                        "     _of",
                        "   7.82%",
                        "      _L",
                        "   7.23%",
                        "    _and",
                        "   3.81%",
                        "       -",
                        "   3.21%",
                        "    _one",
                        "   1.57%",
                        "      _d",
                        "   0.97%",
                        "      _I",
                        "   0.45%"
                      ],
                      [
                        "       ,",
                        "  34.00%",
                        "      _R",
                        "  25.27%",
                        "    _the",
                        "   8.08%",
                        "      _A",
                        "   7.83%",
                        "       -",
                        "   7.59%",
                        "     _in",
                        "   4.26%",
                        "   _from",
                        "   2.66%",
                        "    _bit",
                        "   2.50%",
                        "     _of",
                        "   1.49%",
                        "      _C",
                        "   1.45%"
                      ],
                      [
                        "    _the",
                        "  48.03%",
                        "      _T",
                        "  24.14%",
                        "       -",
                        "  10.90%",
                        "      _(",
                        "   5.48%",
                        "      _H",
                        "   4.84%",
                        "   _this",
                        "   2.32%",
                        "     _un",
                        "   1.20%",
                        "    _one",
                        "   0.87%",
                        "      _a",
                        "   0.80%",
                        "      _F",
                        "   0.40%"
                      ],
                      [
                        "       ,",
                        "  72.75%",
                        "     _in",
                        "  23.61%",
                        "     _at",
                        "   0.92%",
                        "      _a",
                        "   0.88%",
                        "     _on",
                        "   0.69%",
                        "     _no",
                        "   0.67%",
                        "    _for",
                        "   0.31%",
                        "    _the",
                        "   0.11%",
                        "   _with",
                        "   0.04%",
                        "    _not",
                        "   0.02%"
                      ]
                    ],
                    [
                      [
                        "       ,",
                        " 100.00%",
                        "    _and",
                        "   0.01%",
                        "       .",
                        "   0.00%",
                        "     _in",
                        "   0.00%",
                        " docume…",
                        "   0.00%",
                        "      _v",
                        "   0.00%",
                        "     _or",
                        "   0.00%",
                        "   _into",
                        "   0.00%",
                        "     _on",
                        "   0.00%",
                        "      _b",
                        "   0.00%"
                      ],
                      [
                        "       ,",
                        " 100.00%",
                        "      _(",
                        "   0.00%",
                        "       .",
                        "   0.00%",
                        "       -",
                        "   0.00%",
                        "     _in",
                        "   0.00%",
                        "      _\"",
                        "   0.00%",
                        "    _and",
                        "   0.00%",
                        "     _or",
                        "   0.00%",
                        "     _to",
                        "   0.00%",
                        "    _for",
                        "   0.00%"
                      ],
                      [
                        "       ,",
                        "  99.31%",
                        "      _(",
                        "   0.55%",
                        "       .",
                        "   0.14%",
                        "     _in",
                        "   0.00%",
                        "       -",
                        "   0.00%",
                        "     _as",
                        "   0.00%",
                        "      _A",
                        "   0.00%",
                        "    _and",
                        "   0.00%",
                        "    _for",
                        "   0.00%",
                        "      _\"",
                        "   0.00%"
                      ],
                      [
                        "       ,",
                        "  99.00%",
                        "      _(",
                        "   0.91%",
                        "      _\"",
                        "   0.04%",
                        "       -",
                        "   0.01%",
                        "    _and",
                        "   0.01%",
                        "      _S",
                        "   0.00%",
                        "       .",
                        "   0.00%",
                        "      _I",
                        "   0.00%",
                        "      _m",
                        "   0.00%",
                        "     _in",
                        "   0.00%"
                      ],
                      [
                        "     _of",
                        "  97.44%",
                        "    _all",
                        "   2.56%",
                        "    _and",
                        "   0.01%",
                        "     _or",
                        "   0.00%",
                        "    _for",
                        "   0.00%",
                        "  _three",
                        "   0.00%",
                        "       ,",
                        "   0.00%",
                        "     _to",
                        "   0.00%",
                        "   _from",
                        "   0.00%",
                        "   _both",
                        "   0.00%"
                      ],
                      [
                        "     _at",
                        "  63.38%",
                        "    CCCC",
                        "  11.73%",
                        "    EEEE",
                        "  10.36%",
                        "     _in",
                        "   6.28%",
                        "    _but",
                        "   3.93%",
                        "    _one",
                        "   1.05%",
                        "   _than",
                        "   0.67%",
                        " _inclu…",
                        "   0.57%",
                        "    _for",
                        "   0.51%",
                        "  _still",
                        "   0.24%"
                      ],
                      [
                        "    _and",
                        " 100.00%",
                        "     _or",
                        "   0.01%",
                        "       ,",
                        "   0.00%",
                        "      _a",
                        "   0.00%",
                        "     _in",
                        "   0.00%",
                        "     _to",
                        "   0.00%",
                        "     _as",
                        "   0.00%",
                        "    _the",
                        "   0.00%",
                        "    _for",
                        "   0.00%",
                        "      _(",
                        "   0.00%"
                      ],
                      [
                        "     _or",
                        "  99.06%",
                        "      _a",
                        "   0.59%",
                        "     _in",
                        "   0.32%",
                        "     _is",
                        "   0.01%",
                        "       -",
                        "   0.01%",
                        "       ,",
                        "   0.01%",
                        "     _to",
                        "   0.01%",
                        "      _(",
                        "   0.01%",
                        "    _and",
                        "   0.00%",
                        "     _St",
                        "   0.00%"
                      ],
                      [
                        "    _and",
                        "  98.31%",
                        "     _in",
                        "   1.59%",
                        "     _or",
                        "   0.12%",
                        "     _to",
                        "   0.01%",
                        "    _not",
                        "   0.00%",
                        "       ,",
                        "   0.00%",
                        "      _(",
                        "   0.00%",
                        "     _on",
                        "   0.00%",
                        "    _for",
                        "   0.00%",
                        "     _at",
                        "   0.00%"
                      ],
                      [
                        "    _and",
                        "  94.00%",
                        "       ,",
                        "   4.82%",
                        "     _in",
                        "   0.84%",
                        "       .",
                        "   0.13%",
                        "     _or",
                        "   0.09%",
                        "     _as",
                        "   0.08%",
                        "    _for",
                        "   0.03%",
                        "    _the",
                        "   0.02%",
                        "      _(",
                        "   0.01%",
                        "       -",
                        "   0.00%"
                      ],
                      [
                        "       ,",
                        "  99.94%",
                        "    _and",
                        "   0.04%",
                        "       .",
                        "   0.02%",
                        "     _in",
                        "   0.00%",
                        "      _(",
                        "   0.00%",
                        "      \\n",
                        "   0.00%",
                        "     _or",
                        "   0.00%",
                        "      _\"",
                        "   0.00%",
                        "     _on",
                        "   0.00%",
                        "     _as",
                        "   0.00%"
                      ],
                      [
                        "     _of",
                        " 100.00%",
                        "    _and",
                        "   0.00%",
                        "     _or",
                        "   0.00%",
                        "    _all",
                        "   0.00%",
                        "     _to",
                        "   0.00%",
                        "    _for",
                        "   0.00%",
                        "     _in",
                        "   0.00%",
                        "       ,",
                        "   0.00%",
                        "       .",
                        "   0.00%",
                        "      _(",
                        "   0.00%"
                      ],
                      [
                        "       .",
                        "  99.19%",
                        "       ,",
                        "   0.85%",
                        " _conta…",
                        "   0.00%",
                        "    _all",
                        "   0.00%",
                        "     _at",
                        "   0.00%",
                        "     _as",
                        "   0.00%",
                        "     _no",
                        "   0.00%",
                        "    _for",
                        "   0.00%",
                        "   _just",
                        "   0.00%",
                        "    _yes",
                        "   0.00%"
                      ]
                    ],
                    [
                      [
                        "       ,",
                        "  97.81%",
                        "      _(",
                        "   2.03%",
                        "    _and",
                        "   0.16%",
                        "     _in",
                        "   0.01%",
                        "       -",
                        "   0.00%",
                        "      _a",
                        "   0.00%",
                        "       .",
                        "   0.00%",
                        "    _the",
                        "   0.00%",
                        "     _or",
                        "   0.00%",
                        "     _to",
                        "   0.00%"
                      ],
                      [
                        "       ,",
                        "  97.44%",
                        "    _and",
                        "   1.34%",
                        "     _in",
                        "   1.12%",
                        "      _(",
                        "   0.08%",
                        "      _a",
                        "   0.01%",
                        "     _at",
                        "   0.00%",
                        "     _to",
                        "   0.00%",
                        "      _\"",
                        "   0.00%",
                        "    _the",
                        "   0.00%",
                        "       -",
                        "   0.00%"
                      ],
                      [
                        "      _\"",
                        "  48.59%",
                        "      _a",
                        "  30.42%",
                        "       ,",
                        "  19.62%",
                        "      _(",
                        "   1.06%",
                        "      _'",
                        "   0.09%",
                        "     _in",
                        "   0.07%",
                        "       -",
                        "   0.05%",
                        "    _and",
                        "   0.03%",
                        "      _L",
                        "   0.01%",
                        "     _to",
                        "   0.01%"
                      ],
                      [
                        "     _in",
                        "  66.19%",
                        "       ,",
                        "  33.31%",
                        "      \\n",
                        "   0.36%",
                        "       .",
                        "   0.05%",
                        "    _and",
                        "   0.05%",
                        "      _(",
                        "   0.02%",
                        "      _c",
                        "   0.02%",
                        "     _to",
                        "   0.00%",
                        "      _\"",
                        "   0.00%",
                        "      _b",
                        "   0.00%"
                      ],
                      [
                        "      _L",
                        "  30.56%",
                        "      _(",
                        "  24.17%",
                        "      _'",
                        "  14.66%",
                        "       ,",
                        "  12.74%",
                        "    _the",
                        "   7.61%",
                        "      _\"",
                        "   3.22%",
                        "    _and",
                        "   2.14%",
                        "     _in",
                        "   1.65%",
                        "      _M",
                        "   1.22%",
                        "      _a",
                        "   1.02%"
                      ],
                      [
                        "    _and",
                        "  99.50%",
                        "    _but",
                        "   0.48%",
                        "     _or",
                        "   0.00%",
                        "   _well",
                        "   0.00%",
                        "       ,",
                        "   0.00%",
                        "     _st",
                        "   0.00%",
                        "      _T",
                        "   0.00%",
                        "   _both",
                        "   0.00%",
                        " _former",
                        "   0.00%",
                        "     _as",
                        "   0.00%"
                      ],
                      [
                        "    _and",
                        "  98.56%",
                        "    _but",
                        "   1.00%",
                        "     _or",
                        "   0.37%",
                        "     _we",
                        "   0.02%",
                        "     _he",
                        "   0.01%",
                        "     _in",
                        "   0.00%",
                        "     _at",
                        "   0.00%",
                        "   _even",
                        "   0.00%",
                        "       ,",
                        "   0.00%",
                        "  _still",
                        "   0.00%"
                      ],
                      [
                        "       ,",
                        "  66.19%",
                        "     _in",
                        "  32.25%",
                        "    _and",
                        "   1.51%",
                        "      _(",
                        "   0.07%",
                        "      \\n",
                        "   0.01%",
                        "     _or",
                        "   0.01%",
                        "     _is",
                        "   0.00%",
                        "     _to",
                        "   0.00%",
                        "    _the",
                        "   0.00%",
                        "      _a",
                        "   0.00%"
                      ],
                      [
                        "       ,",
                        "  93.00%",
                        "      _(",
                        "   5.41%",
                        "     _in",
                        "   0.94%",
                        "    _and",
                        "   0.65%",
                        "      _\"",
                        "   0.00%",
                        "      \\n",
                        "   0.00%",
                        "     _or",
                        "   0.00%",
                        "      _a",
                        "   0.00%",
                        "     _as",
                        "   0.00%",
                        "       -",
                        "   0.00%"
                      ],
                      [
                        "      _\"",
                        "  51.38%",
                        "      _(",
                        "  40.00%",
                        "       ,",
                        "   5.25%",
                        "       -",
                        "   2.40%",
                        "      _a",
                        "   0.71%",
                        "      \\n",
                        "   0.13%",
                        "      __",
                        "   0.07%",
                        "    _and",
                        "   0.03%",
                        "     _in",
                        "   0.02%",
                        "       .",
                        "   0.01%"
                      ],
                      [
                        "     _in",
                        "  54.59%",
                        "       ,",
                        "  33.12%",
                        "       .",
                        "   3.03%",
                        "      _(",
                        "   2.63%",
                        "       -",
                        "   2.44%",
                        "      _c",
                        "   2.05%",
                        "      _b",
                        "   1.22%",
                        "      \\n",
                        "   0.53%",
                        "      _l",
                        "   0.06%",
                        "     _co",
                        "   0.04%"
                      ],
                      [
                        "      _(",
                        "  95.00%",
                        "       ,",
                        "   2.20%",
                        "    _and",
                        "   2.04%",
                        "     _in",
                        "   0.65%",
                        "     _at",
                        "   0.09%",
                        "      _L",
                        "   0.01%",
                        "      _\"",
                        "   0.01%",
                        "    _the",
                        "   0.00%",
                        "      _a",
                        "   0.00%",
                        "      _I",
                        "   0.00%"
                      ],
                      [
                        "   _vice",
                        "  32.28%",
                        "      _(",
                        "  27.17%",
                        "       .",
                        "  21.50%",
                        "       ,",
                        "   8.16%",
                        "     _ex",
                        "   5.97%",
                        "    _and",
                        "   1.76%",
                        "       -",
                        "   1.19%",
                        "  _inter",
                        "   0.94%",
                        "     _or",
                        "   0.25%",
                        "      _-",
                        "   0.23%"
                      ]
                    ],
                    [
                      [
                        "       ,",
                        "  99.88%",
                        "      _(",
                        "   0.17%",
                        "     _in",
                        "   0.01%",
                        "      \\n",
                        "   0.00%",
                        "    _and",
                        "   0.00%",
                        "      _a",
                        "   0.00%",
                        "       -",
                        "   0.00%",
                        "    _the",
                        "   0.00%",
                        "       .",
                        "   0.00%",
                        "     _is",
                        "   0.00%"
                      ],
                      [
                        "      _(",
                        "  70.31%",
                        "   _also",
                        "  14.28%",
                        "     _in",
                        "  10.14%",
                        "       ,",
                        "   4.23%",
                        "      _a",
                        "   0.71%",
                        "      \\n",
                        "   0.13%",
                        "     _to",
                        "   0.11%",
                        "    _the",
                        "   0.04%",
                        "    _not",
                        "   0.04%",
                        "    _and",
                        "   0.03%"
                      ],
                      [
                        "     _in",
                        "  90.31%",
                        "   _only",
                        "   7.41%",
                        "       ,",
                        "   1.46%",
                        "     _on",
                        "   0.36%",
                        "    _the",
                        "   0.32%",
                        "      _(",
                        "   0.09%",
                        "      _a",
                        "   0.00%",
                        "      _M",
                        "   0.00%",
                        "      _T",
                        "   0.00%",
                        "    _and",
                        "   0.00%"
                      ],
                      [
                        "     _in",
                        "  79.62%",
                        "       ,",
                        "  18.92%",
                        "       -",
                        "   0.65%",
                        "     _to",
                        "   0.42%",
                        "    _for",
                        "   0.31%",
                        "      _(",
                        "   0.03%",
                        "     _of",
                        "   0.02%",
                        "      _I",
                        "   0.02%",
                        "      _S",
                        "   0.01%",
                        "    _set",
                        "   0.01%"
                      ],
                      [
                        "    _all",
                        " 100.00%",
                        "     _in",
                        "   0.00%",
                        "    _and",
                        "   0.00%",
                        "      _(",
                        "   0.00%",
                        "       ,",
                        "   0.00%",
                        "      \\n",
                        "   0.00%",
                        "     _to",
                        "   0.00%",
                        "      _C",
                        "   0.00%",
                        "       :",
                        "   0.00%",
                        "      _\"",
                        "   0.00%"
                      ],
                      [
                        "      _(",
                        "  63.03%",
                        "       ,",
                        "  27.12%",
                        "    _and",
                        "   8.53%",
                        "     _in",
                        "   1.23%",
                        "       .",
                        "   0.06%",
                        "      _a",
                        "   0.00%",
                        "     _or",
                        "   0.00%",
                        "    _for",
                        "   0.00%",
                        "      _\"",
                        "   0.00%",
                        "     _by",
                        "   0.00%"
                      ],
                      [
                        "    _and",
                        "  99.62%",
                        "       ,",
                        "   0.41%",
                        "      _(",
                        "   0.00%",
                        "      _a",
                        "   0.00%",
                        "    _the",
                        "   0.00%",
                        "      \\n",
                        "   0.00%",
                        "     _in",
                        "   0.00%",
                        "     _or",
                        "   0.00%",
                        "     _to",
                        "   0.00%",
                        "    _one",
                        "   0.00%"
                      ],
                      [
                        "    _all",
                        "  70.88%",
                        "    _was",
                        "  23.36%",
                        "     âĢĻ",
                        "   5.38%",
                        " _surfa…",
                        "   0.10%",
                        "      's",
                        "   0.07%",
                        "   _also",
                        "   0.06%",
                        "  _seems",
                        "   0.05%",
                        "    _now",
                        "   0.02%",
                        " _dendr…",
                        "   0.02%",
                        "    _may",
                        "   0.01%"
                      ],
                      [
                        "    _not",
                        "  97.25%",
                        "   _also",
                        "   1.60%",
                        "    _all",
                        "   0.63%",
                        "     _at",
                        "   0.19%",
                        "     _in",
                        "   0.09%",
                        "    _and",
                        "   0.07%",
                        "      _a",
                        "   0.06%",
                        "     _to",
                        "   0.03%",
                        "    _the",
                        "   0.03%",
                        "    _one",
                        "   0.01%"
                      ],
                      [
                        "   _only",
                        "  43.69%",
                        "     _in",
                        "  42.34%",
                        " _follo…",
                        "   6.49%",
                        "    _one",
                        "   4.90%",
                        "   _more",
                        "   1.69%",
                        "      _a",
                        "   0.42%",
                        "     _at",
                        "   0.21%",
                        "       ,",
                        "   0.08%",
                        "  _other",
                        "   0.03%",
                        "    _all",
                        "   0.02%"
                      ],
                      [
                        "      _S",
                        "  98.81%",
                        "     _in",
                        "   0.69%",
                        " _others",
                        "   0.30%",
                        "       ,",
                        "   0.16%",
                        "       -",
                        "   0.01%",
                        "    _for",
                        "   0.01%",
                        "      _\"",
                        "   0.00%",
                        "  _other",
                        "   0.00%",
                        "      _D",
                        "   0.00%",
                        "    _one",
                        "   0.00%"
                      ],
                      [
                        " _others",
                        "  46.16%",
                        "      _S",
                        "  22.14%",
                        "   _none",
                        "  14.98%",
                        "      _B",
                        "  10.79%",
                        "      _A",
                        "   2.60%",
                        "       ,",
                        "   1.31%",
                        "    _all",
                        "   1.00%",
                        "     _in",
                        "   0.31%",
                        " _anoth…",
                        "   0.15%",
                        "  _other",
                        "   0.14%"
                      ],
                      [
                        "       ,",
                        "  99.25%",
                        "      _(",
                        "   0.52%",
                        "      _\"",
                        "   0.16%",
                        "        ",
                        "   0.03%",
                        "     _in",
                        "   0.02%",
                        "       .",
                        "   0.02%",
                        "       :",
                        "   0.01%",
                        "    _and",
                        "   0.01%",
                        "       -",
                        "   0.01%",
                        "      \\n",
                        "   0.00%"
                      ]
                    ],
                    [
                      [
                        "       ,",
                        "  99.88%",
                        "      _(",
                        "   0.05%",
                        "     _in",
                        "   0.03%",
                        "      _a",
                        "   0.01%",
                        "    _and",
                        "   0.01%",
                        "     _to",
                        "   0.00%",
                        "       -",
                        "   0.00%",
                        "    _the",
                        "   0.00%",
                        "       .",
                        "   0.00%",
                        "    _for",
                        "   0.00%"
                      ],
                      [
                        "       ,",
                        "  97.75%",
                        "    _and",
                        "   1.85%",
                        "      _a",
                        "   0.22%",
                        "    _the",
                        "   0.13%",
                        "     _in",
                        "   0.07%",
                        "      _(",
                        "   0.00%",
                        "      _\"",
                        "   0.00%",
                        "     _to",
                        "   0.00%",
                        "       .",
                        "   0.00%",
                        "    _for",
                        "   0.00%"
                      ],
                      [
                        "  _first",
                        "  88.25%",
                        "       ,",
                        "  10.88%",
                        "     _in",
                        "   0.87%",
                        "    _and",
                        "   0.03%",
                        "      _(",
                        "   0.00%",
                        "    _the",
                        "   0.00%",
                        "   _only",
                        "   0.00%",
                        "    _for",
                        "   0.00%",
                        "      _\"",
                        "   0.00%",
                        "       -",
                        "   0.00%"
                      ],
                      [
                        "       ,",
                        "  89.62%",
                        "    _and",
                        "   6.10%",
                        "     _in",
                        "   4.19%",
                        "      _(",
                        "   0.11%",
                        "       .",
                        "   0.00%",
                        "     _as",
                        "   0.00%",
                        "     _or",
                        "   0.00%",
                        "       -",
                        "   0.00%",
                        "     _to",
                        "   0.00%",
                        "     _at",
                        "   0.00%"
                      ],
                      [
                        "    _the",
                        "  87.38%",
                        "      _(",
                        "   8.38%",
                        "       ,",
                        "   3.96%",
                        "     _in",
                        "   0.24%",
                        "    _and",
                        "   0.02%",
                        "      _a",
                        "   0.02%",
                        "      _d",
                        "   0.00%",
                        "     _to",
                        "   0.00%",
                        "      _\"",
                        "   0.00%",
                        "     _as",
                        "   0.00%"
                      ],
                      [
                        "    _and",
                        "  77.69%",
                        "       ,",
                        "  22.27%",
                        "    _for",
                        "   0.01%",
                        "      _(",
                        "   0.01%",
                        "     _as",
                        "   0.00%",
                        "       -",
                        "   0.00%",
                        "       .",
                        "   0.00%",
                        "      \\n",
                        "   0.00%",
                        "     _in",
                        "   0.00%",
                        "    _the",
                        "   0.00%"
                      ],
                      [
                        "    _the",
                        " 100.00%",
                        "    _and",
                        "   0.00%",
                        "   _best",
                        "   0.00%",
                        "   _most",
                        "   0.00%",
                        "     _as",
                        "   0.00%",
                        "      _(",
                        "   0.00%",
                        "  _first",
                        "   0.00%",
                        "     _or",
                        "   0.00%",
                        "     _of",
                        "   0.00%",
                        "       ,",
                        "   0.00%"
                      ],
                      [
                        "    _not",
                        "  42.22%",
                        "    _out",
                        "  25.61%",
                        "    _the",
                        "  18.16%",
                        "   _only",
                        "  11.55%",
                        "      _(",
                        "   1.54%",
                        "       ,",
                        "   0.36%",
                        "   _very",
                        "   0.32%",
                        "  _being",
                        "   0.09%",
                        "    _and",
                        "   0.02%",
                        "   _well",
                        "   0.02%"
                      ],
                      [
                        "    _the",
                        " 100.00%",
                        "   _best",
                        "   0.00%",
                        "    _The",
                        "   0.00%",
                        "   _also",
                        "   0.00%",
                        "    _and",
                        "   0.00%",
                        "    _not",
                        "   0.00%",
                        "       ,",
                        "   0.00%",
                        "   _most",
                        "   0.00%",
                        "   _even",
                        "   0.00%",
                        "      _a",
                        "   0.00%"
                      ],
                      [
                        "   _best",
                        "  99.94%",
                        "  _worst",
                        "   0.06%",
                        "  _least",
                        "   0.00%",
                        " _lowest",
                        "   0.00%",
                        "   _most",
                        "   0.00%",
                        "   _beat",
                        "   0.00%",
                        "    _low",
                        "   0.00%",
                        " _great…",
                        "   0.00%",
                        "  _under",
                        "   0.00%",
                        "   _very",
                        "   0.00%"
                      ],
                      [
                        "       ,",
                        "  83.88%",
                        "       .",
                        "  16.00%",
                        "    _and",
                        "   0.07%",
                        "     _as",
                        "   0.00%",
                        "     _of",
                        "   0.00%",
                        "    _off",
                        "   0.00%",
                        "    _out",
                        "   0.00%",
                        "      _(",
                        "   0.00%",
                        "       -",
                        "   0.00%",
                        "       :",
                        "   0.00%"
                      ],
                      [
                        "    _off",
                        "  38.34%",
                        "   _phyt",
                        "   9.39%",
                        "   _said",
                        "   8.96%",
                        "   _days",
                        "   8.03%",
                        "    _out",
                        "   8.03%",
                        "      _d",
                        "   4.88%",
                        "    _Lyn",
                        "   3.40%",
                        " _there…",
                        "   3.00%",
                        " _drain…",
                        "   1.85%",
                        "  _input",
                        "   1.37%"
                      ],
                      [
                        "  ãĥ¼ãĥ«",
                        "  65.31%",
                        "      ĥ½",
                        "  28.08%",
                        "   _$('.",
                        "   1.69%",
                        "    TTPS",
                        "   1.49%",
                        "     DLT",
                        "   1.40%",
                        "   oscow",
                        "   0.54%",
                        " elling…",
                        "   0.51%",
                        "   umbai",
                        "   0.50%",
                        "     _'{",
                        "   0.18%",
                        "     _{}",
                        "   0.13%"
                      ]
                    ],
                    [
                      [
                        "   typen",
                        " 100.00%",
                        " _errno…",
                        "   0.00%",
                        "      ¿½",
                        "   0.00%",
                        " omitem…",
                        "   0.00%",
                        "  gorith",
                        "   0.00%",
                        " č\\nč\\n_",
                        "   0.00%",
                        " prehens",
                        "   0.00%",
                        "  _orche",
                        "   0.00%",
                        " ioxida…",
                        "   0.00%",
                        "   othal",
                        "   0.00%"
                      ],
                      [
                        "       ,",
                        "  87.25%",
                        "     _in",
                        "   7.27%",
                        "     _at",
                        "   3.54%",
                        "      _(",
                        "   1.43%",
                        "    _for",
                        "   0.21%",
                        "     _on",
                        "   0.07%",
                        "    _and",
                        "   0.04%",
                        "      _a",
                        "   0.03%",
                        "    _sub",
                        "   0.02%",
                        "     _so",
                        "   0.02%"
                      ],
                      [
                        "       ,",
                        "  89.00%",
                        "       -",
                        "  10.79%",
                        "      _(",
                        "   0.13%",
                        "       .",
                        "   0.03%",
                        "      _v",
                        "   0.02%",
                        "      _p",
                        "   0.01%",
                        "    _and",
                        "   0.00%",
                        "       _",
                        "   0.00%",
                        "     _at",
                        "   0.00%",
                        "     _by",
                        "   0.00%"
                      ],
                      [
                        "       -",
                        "  85.38%",
                        "       ,",
                        "  13.09%",
                        "    _and",
                        "   1.20%",
                        "   _part",
                        "   0.15%",
                        "     _or",
                        "   0.07%",
                        "       .",
                        "   0.05%",
                        "      _(",
                        "   0.04%",
                        "    _one",
                        "   0.02%",
                        "       _",
                        "   0.00%",
                        "      _p",
                        "   0.00%"
                      ],
                      [
                        "  _three",
                        "  83.06%",
                        "   _both",
                        "  10.56%",
                        "    _who",
                        "   2.29%",
                        "       ,",
                        "   1.65%",
                        "       -",
                        "   0.80%",
                        "   _four",
                        "   0.35%",
                        "  _lower",
                        "   0.30%",
                        "  _given",
                        "   0.26%",
                        "   _land",
                        "   0.20%",
                        "  _times",
                        "   0.11%"
                      ],
                      [
                        "       ,",
                        "  84.75%",
                        "    _and",
                        "  15.20%",
                        "     _or",
                        "   0.01%",
                        "      _(",
                        "   0.00%",
                        "       -",
                        "   0.00%",
                        "      _a",
                        "   0.00%",
                        "   _both",
                        "   0.00%",
                        "     _to",
                        "   0.00%",
                        "     _in",
                        "   0.00%",
                        "     _as",
                        "   0.00%"
                      ],
                      [
                        "  ÑĤÐµÑĢ",
                        "  43.84%",
                        " gorithm",
                        "  39.91%",
                        "      ¿½",
                        "   8.37%",
                        " acebook",
                        "   1.60%",
                        "  estone",
                        "   1.41%",
                        "   eston",
                        "   0.97%",
                        " _THEORY",
                        "   0.94%",
                        " inetics",
                        "   0.71%",
                        "    mpty",
                        "   0.52%",
                        "    ethe",
                        "   0.50%"
                      ],
                      [
                        " _before",
                        "  99.88%",
                        "   _palp",
                        "   0.05%",
                        "       ,",
                        "   0.04%",
                        "  _match",
                        "   0.02%",
                        "  _after",
                        "   0.00%",
                        "    _and",
                        "   0.00%",
                        "       .",
                        "   0.00%",
                        "  before",
                        "   0.00%",
                        "     _un",
                        "   0.00%",
                        "   BLOCK",
                        "   0.00%"
                      ],
                      [
                        "    ethe",
                        "  78.50%",
                        " _ÏĦÎ¿Ïħ",
                        "   8.80%",
                        "  schild",
                        "   6.15%",
                        " _compar",
                        "   1.82%",
                        "    hmad",
                        "   0.99%",
                        "  lation",
                        "   0.96%",
                        "   _what",
                        "   0.58%",
                        "   stadt",
                        "   0.51%",
                        " Ð°ÑĤÐµ…",
                        "   0.38%",
                        "  _scrut",
                        "   0.33%"
                      ],
                      [
                        "   _feas",
                        "  99.75%",
                        " _presum",
                        "   0.13%",
                        " _indist",
                        "   0.03%",
                        " _revie…",
                        "   0.03%",
                        "   _insu",
                        "   0.01%",
                        " _ancest",
                        "   0.01%",
                        "   _Abor",
                        "   0.00%",
                        "   _curs",
                        "   0.00%",
                        " _escap…",
                        "   0.00%",
                        "    _sib",
                        "   0.00%"
                      ],
                      [
                        "  everal",
                        "  75.19%",
                        "  ëĭĪëĭ¤",
                        "  16.27%",
                        "   empre",
                        "   5.80%",
                        " _errone",
                        "   1.22%",
                        "  debted",
                        "   0.84%",
                        "   cknow",
                        "   0.25%",
                        "  _glimp",
                        "   0.13%",
                        " ometim…",
                        "   0.08%",
                        "    ÑīÐµ",
                        "   0.07%",
                        " ffected",
                        "   0.06%"
                      ],
                      [
                        "  _times",
                        "  99.62%",
                        "   Times",
                        "   0.12%",
                        "   _time",
                        "   0.09%",
                        "    hmad",
                        "   0.08%",
                        "  _Times",
                        "   0.05%",
                        " ottenh…",
                        "   0.02%",
                        "   times",
                        "   0.01%",
                        " smallm…",
                        "   0.00%",
                        "   _feas",
                        "   0.00%",
                        "   _refr",
                        "   0.00%"
                      ],
                      [
                        "   _also",
                        "  64.75%",
                        "  _again",
                        "  27.00%",
                        "  _third",
                        "   2.98%",
                        "   _both",
                        "   1.92%",
                        "       :",
                        "   1.30%",
                        " _second",
                        "   1.28%",
                        " _furth…",
                        "   0.38%",
                        "      _(",
                        "   0.13%",
                        "    _and",
                        "   0.12%",
                        "       ,",
                        "   0.11%"
                      ]
                    ],
                    [
                      [
                        "       ,",
                        "  96.31%",
                        "     _in",
                        "   3.51%",
                        "       -",
                        "   0.07%",
                        "    _and",
                        "   0.06%",
                        "     _is",
                        "   0.05%",
                        "       .",
                        "   0.02%",
                        "    _the",
                        "   0.01%",
                        "     _at",
                        "   0.00%",
                        "      _(",
                        "   0.00%",
                        "      \\n",
                        "   0.00%"
                      ],
                      [
                        "       ,",
                        "  95.62%",
                        "      _a",
                        "   2.59%",
                        "     _in",
                        "   1.19%",
                        "       -",
                        "   0.20%",
                        "    _the",
                        "   0.16%",
                        "    _not",
                        "   0.16%",
                        "     _at",
                        "   0.04%",
                        "     _to",
                        "   0.03%",
                        "    _and",
                        "   0.01%",
                        "       .",
                        "   0.00%"
                      ],
                      [
                        "   _most",
                        "  97.62%",
                        "   _only",
                        "   2.16%",
                        "  _first",
                        "   0.18%",
                        "   _best",
                        "   0.00%",
                        "       ,",
                        "   0.00%",
                        "   _last",
                        "   0.00%",
                        "    _all",
                        "   0.00%",
                        "   _more",
                        "   0.00%",
                        "   _very",
                        "   0.00%",
                        "   _time",
                        "   0.00%"
                      ],
                      [
                        "       ,",
                        "  62.06%",
                        "     _in",
                        "  33.75%",
                        "     _he",
                        "   1.88%",
                        "    _and",
                        "   1.07%",
                        "     _of",
                        "   0.47%",
                        "      _(",
                        "   0.24%",
                        "     _we",
                        "   0.24%",
                        "      _I",
                        "   0.22%",
                        "     _to",
                        "   0.07%",
                        "    _for",
                        "   0.00%"
                      ],
                      [
                        "    _the",
                        "  43.03%",
                        "      _a",
                        "  28.66%",
                        "      _(",
                        "  26.09%",
                        "       ,",
                        "   2.01%",
                        "     _in",
                        "   0.16%",
                        "    _all",
                        "   0.03%",
                        "    _and",
                        "   0.01%",
                        "     _to",
                        "   0.01%",
                        "    _any",
                        "   0.00%",
                        "   _most",
                        "   0.00%"
                      ],
                      [
                        "       ,",
                        " 100.00%",
                        "    _and",
                        "   0.00%",
                        "      _(",
                        "   0.00%",
                        "       .",
                        "   0.00%",
                        "     _or",
                        "   0.00%",
                        "      _\"",
                        "   0.00%",
                        "     _in",
                        "   0.00%",
                        "     _is",
                        "   0.00%",
                        "       /",
                        "   0.00%",
                        "      _I",
                        "   0.00%"
                      ],
                      [
                        "    _and",
                        "  95.62%",
                        "     _in",
                        "   1.80%",
                        "       ,",
                        "   1.16%",
                        "    _the",
                        "   0.80%",
                        "      _a",
                        "   0.60%",
                        "     _as",
                        "   0.01%",
                        "    _for",
                        "   0.00%",
                        "      _(",
                        "   0.00%",
                        "     _to",
                        "   0.00%",
                        "     _by",
                        "   0.00%"
                      ],
                      [
                        "     _is",
                        "  40.81%",
                        "    _and",
                        "  31.81%",
                        "       ,",
                        "  26.38%",
                        "    _all",
                        "   0.55%",
                        "    _was",
                        "   0.45%",
                        "       -",
                        "   0.01%",
                        "      _(",
                        "   0.01%",
                        "     _in",
                        "   0.00%",
                        "    _the",
                        "   0.00%",
                        "     _at",
                        "   0.00%"
                      ],
                      [
                        "    _the",
                        " 100.00%",
                        "      _a",
                        "   0.01%",
                        "       ,",
                        "   0.00%",
                        "     _in",
                        "   0.00%",
                        "      _F",
                        "   0.00%",
                        "     _as",
                        "   0.00%",
                        "      _T",
                        "   0.00%",
                        "    _and",
                        "   0.00%",
                        "    _all",
                        "   0.00%",
                        "   _also",
                        "   0.00%"
                      ],
                      [
                        "   _only",
                        "  99.94%",
                        "   _most",
                        "   0.01%",
                        "  _first",
                        "   0.01%",
                        "   _time",
                        "   0.01%",
                        "   _best",
                        "   0.00%",
                        "   _last",
                        "   0.00%",
                        "   _very",
                        "   0.00%",
                        "       ,",
                        "   0.00%",
                        "   _real",
                        "   0.00%",
                        "    _all",
                        "   0.00%"
                      ],
                      [
                        "     _of",
                        " 100.00%",
                        "      of",
                        "   0.00%",
                        "     _Of",
                        "   0.00%",
                        "     _OF",
                        "   0.00%",
                        "     _de",
                        "   0.00%",
                        "      _o",
                        "   0.00%",
                        "   _time",
                        "   0.00%",
                        " _there…",
                        "   0.00%",
                        "     _in",
                        "   0.00%",
                        "      Of",
                        "   0.00%"
                      ],
                      [
                        "   _time",
                        " 100.00%",
                        "    _all",
                        "   0.00%",
                        "      _T",
                        "   0.00%",
                        "   _date",
                        "   0.00%",
                        "    _the",
                        "   0.00%",
                        "     _no",
                        "   0.00%",
                        "   _real",
                        "   0.00%",
                        "  _total",
                        "   0.00%",
                        "    _per",
                        "   0.00%",
                        "      _d",
                        "   0.00%"
                      ],
                      [
                        "       ,",
                        " 100.00%",
                        "       :",
                        "   0.00%",
                        "    _for",
                        "   0.00%",
                        "     ...",
                        "   0.00%",
                        "       .",
                        "   0.00%",
                        "      _(",
                        "   0.00%",
                        "      _\"",
                        "   0.00%",
                        "      _I",
                        "   0.00%",
                        " _except",
                        "   0.00%",
                        "    _and",
                        "   0.00%"
                      ]
                    ],
                    [
                      [
                        "  sembly",
                        "  84.69%",
                        "     }{~",
                        "  13.83%",
                        "   PDATE",
                        "   0.65%",
                        "  scious",
                        "   0.57%",
                        " acebook",
                        "   0.17%",
                        " ccordi…",
                        "   0.06%",
                        " parison",
                        "   0.02%",
                        "  chemic",
                        "   0.02%",
                        "  arlier",
                        "   0.01%",
                        " gorithm",
                        "   0.01%"
                      ],
                      [
                        "  sembly",
                        "  59.00%",
                        " icroso…",
                        "  21.72%",
                        " acebook",
                        "  16.91%",
                        "   uvant",
                        "   1.22%",
                        "  chemic",
                        "   0.58%",
                        " _prede…",
                        "   0.17%",
                        "    amss",
                        "   0.10%",
                        "  scious",
                        "   0.09%",
                        "    uilt",
                        "   0.08%",
                        "      ĥ½",
                        "   0.05%"
                      ],
                      [
                        " acebook",
                        "  82.69%",
                        " icroso…",
                        "   5.28%",
                        " _prede…",
                        "   5.28%",
                        "     }{~",
                        "   4.11%",
                        "  _doxor",
                        "   0.92%",
                        " č\\nč\\n_",
                        "   0.71%",
                        "   ORAND",
                        "   0.43%",
                        "   uvant",
                        "   0.18%",
                        "    amss",
                        "   0.16%",
                        "   PDATE",
                        "   0.10%"
                      ],
                      [
                        " acebook",
                        "  43.91%",
                        " č\\nč\\n_",
                        "  30.17%",
                        "     }{~",
                        "  20.73%",
                        " icroso…",
                        "   4.62%",
                        "   PDATE",
                        "   0.30%",
                        " _prede…",
                        "   0.26%",
                        "   uvant",
                        "   0.01%",
                        "  ERTYPE",
                        "   0.00%",
                        "  sembly",
                        "   0.00%",
                        "   ORAND",
                        "   0.00%"
                      ],
                      [
                        " _prede…",
                        " 100.00%",
                        " č\\nč\\n_",
                        "   0.01%",
                        "  sembly",
                        "   0.00%",
                        " icroso…",
                        "   0.00%",
                        "   uvant",
                        "   0.00%",
                        " acebook",
                        "   0.00%",
                        "   PDATE",
                        "   0.00%",
                        "     }{~",
                        "   0.00%",
                        "   ORAND",
                        "   0.00%",
                        " iversal",
                        "   0.00%"
                      ],
                      [
                        " č\\nč\\n_",
                        "  88.75%",
                        " _prede…",
                        "   9.36%",
                        " acebook",
                        "   1.84%",
                        " icroso…",
                        "   0.01%",
                        " ometim…",
                        "   0.00%",
                        "   \"}](#",
                        "   0.00%",
                        "   uvant",
                        "   0.00%",
                        "   ORAND",
                        "   0.00%",
                        "     }{~",
                        "   0.00%",
                        "  sembly",
                        "   0.00%"
                      ],
                      [
                        " icroso…",
                        "  52.06%",
                        " _prede…",
                        "  40.56%",
                        " č\\nč\\n_",
                        "   7.05%",
                        "  sembly",
                        "   0.21%",
                        "   PDATE",
                        "   0.11%",
                        " acebook",
                        "   0.03%",
                        " ometim…",
                        "   0.02%",
                        "     }{~",
                        "   0.00%",
                        "   uvant",
                        "   0.00%",
                        "   \"}](#",
                        "   0.00%"
                      ],
                      [
                        " _prede…",
                        "  95.25%",
                        " č\\nč\\n_",
                        "   2.38%",
                        " icroso…",
                        "   1.06%",
                        "  sembly",
                        "   0.53%",
                        "   PDATE",
                        "   0.42%",
                        "   brevi",
                        "   0.13%",
                        "   \"}](#",
                        "   0.09%",
                        "   empre",
                        "   0.02%",
                        " iversal",
                        "   0.02%",
                        " parison",
                        "   0.01%"
                      ],
                      [
                        " č\\nč\\n_",
                        "  97.00%",
                        " _prede…",
                        "   2.93%",
                        " icroso…",
                        "   0.03%",
                        "     bsy",
                        "   0.00%",
                        " _trigl…",
                        "   0.00%",
                        "   \"}](#",
                        "   0.00%",
                        " acebook",
                        "   0.00%",
                        "     }{~",
                        "   0.00%",
                        "   _opio",
                        "   0.00%",
                        "  _doxor",
                        "   0.00%"
                      ],
                      [
                        " č\\nč\\n_",
                        "  91.81%",
                        " _prede…",
                        "   8.02%",
                        "  _Leban",
                        "   0.18%",
                        " _quest…",
                        "   0.01%",
                        "     }{~",
                        "   0.01%",
                        "  ERTYPE",
                        "   0.00%",
                        " _trigl…",
                        "   0.00%",
                        "   ORAND",
                        "   0.00%",
                        "   PDATE",
                        "   0.00%",
                        "     bsy",
                        "   0.00%"
                      ],
                      [
                        " č\\nč\\n_",
                        "  99.75%",
                        " icroso…",
                        "   0.25%",
                        " \\n\\n\\n_",
                        "   0.00%",
                        " acebook",
                        "   0.00%",
                        "    _/*!",
                        "   0.00%",
                        " ometim…",
                        "   0.00%",
                        "   PDATE",
                        "   0.00%",
                        "  ERTYPE",
                        "   0.00%",
                        "   \"}](#",
                        "   0.00%",
                        " âĢĵâĢĵ…",
                        "   0.00%"
                      ],
                      [
                        " _prede…",
                        "  95.44%",
                        "   _opio",
                        "   4.46%",
                        " č\\nč\\n_",
                        "   0.05%",
                        " _photo…",
                        "   0.00%",
                        " ometim…",
                        "   0.00%",
                        "   PDATE",
                        "   0.00%",
                        "   ORAND",
                        "   0.00%",
                        "  _occas",
                        "   0.00%",
                        " icroso…",
                        "   0.00%",
                        "  gorith",
                        "   0.00%"
                      ],
                      [
                        " č\\nč\\n_",
                        " 100.00%",
                        " icroso…",
                        "   0.00%",
                        " \\n\\n\\n_",
                        "   0.00%",
                        "   \"}](#",
                        "   0.00%",
                        " opyrig…",
                        "   0.00%",
                        " acebook",
                        "   0.00%",
                        " _prede…",
                        "   0.00%",
                        "  ERTYPE",
                        "   0.00%",
                        "   PDATE",
                        "   0.00%",
                        "    _/*!",
                        "   0.00%"
                      ]
                    ],
                    [
                      [
                        "       .",
                        "   3.11%",
                        "      \\n",
                        "   2.50%",
                        "       ,",
                        "   2.28%",
                        "     _is",
                        "   1.11%",
                        "       u",
                        "   1.04%",
                        "      's",
                        "   0.95%",
                        "    _was",
                        "   0.92%",
                        "     ics",
                        "   0.89%",
                        "  uation",
                        "   0.89%",
                        "       )",
                        "   0.84%"
                      ],
                      [
                        "      _a",
                        "   7.80%",
                        "    _not",
                        "   5.04%",
                        "    _the",
                        "   4.73%",
                        "     _an",
                        "   1.58%",
                        "     _in",
                        "   1.36%",
                        "     _to",
                        "   1.22%",
                        "   _also",
                        "   1.11%",
                        "   _only",
                        "   0.99%",
                        "     _so",
                        "   0.93%",
                        "   _just",
                        "   0.92%"
                      ],
                      [
                        "  _first",
                        "   9.00%",
                        "   _only",
                        "   4.82%",
                        "   _same",
                        "   4.53%",
                        "   _last",
                        "   2.97%",
                        "   _most",
                        "   2.79%",
                        "   _best",
                        "   1.86%",
                        "      \\n",
                        "   0.99%",
                        "    _one",
                        "   0.98%",
                        " _second",
                        "   0.78%",
                        "   _case",
                        "   0.49%"
                      ],
                      [
                        "  _thing",
                        "  10.50%",
                        "    _way",
                        "   5.80%",
                        "     _of",
                        "   5.28%",
                        "       .",
                        "   3.86%",
                        "      _I",
                        "   2.65%",
                        "       ,",
                        "   2.07%",
                        "     _in",
                        "   1.66%",
                        "  _place",
                        "   1.51%",
                        "   _time",
                        "   1.29%",
                        "       -",
                        "   1.25%"
                      ],
                      [
                        "    _the",
                        "  23.16%",
                        "    _all",
                        "  14.05%",
                        "   _them",
                        "  12.80%",
                        "  _times",
                        "   4.42%",
                        "    _his",
                        "   3.55%",
                        "     _my",
                        "   3.44%",
                        "      _a",
                        "   1.96%",
                        "   _both",
                        "   1.48%",
                        "    _any",
                        "   1.19%",
                        "    _our",
                        "   0.95%"
                      ],
                      [
                        "       ,",
                        "  32.81%",
                        "    _and",
                        "  25.70%",
                        "       .",
                        "  16.62%",
                        "    _for",
                        "   3.29%",
                        "       ;",
                        "   2.04%",
                        "      .\"",
                        "   1.31%",
                        "     _or",
                        "   1.03%",
                        "     âĢĶ",
                        "   0.88%",
                        "      ,\"",
                        "   0.56%",
                        "   _when",
                        "   0.50%"
                      ],
                      [
                        "    _and",
                        "  29.12%",
                        "    _the",
                        "  26.73%",
                        "    _but",
                        "   8.69%",
                        "     _it",
                        "   2.34%",
                        "      _I",
                        "   1.71%",
                        "    _was",
                        "   1.37%",
                        "     _of",
                        "   1.17%",
                        "    _not",
                        "   1.14%",
                        "      _a",
                        "   0.94%",
                        "  _worst",
                        "   0.91%"
                      ],
                      [
                        "    _was",
                        "  84.69%",
                        "     _is",
                        "   2.33%",
                        "  _would",
                        "   1.52%",
                        "   _wasn",
                        "   1.41%",
                        "      's",
                        "   1.24%",
                        "     âĢĻ",
                        "   1.05%",
                        "    _had",
                        "   0.83%",
                        " _seemed",
                        "   0.64%",
                        "   _must",
                        "   0.35%",
                        "  _could",
                        "   0.30%"
                      ],
                      [
                        "    _the",
                        "  71.94%",
                        "      _a",
                        "   3.31%",
                        "   _also",
                        "   1.83%",
                        "    _not",
                        "   1.77%",
                        "  _worse",
                        "   1.09%",
                        "    _all",
                        "   1.03%",
                        " _always",
                        "   0.89%",
                        "    _bad",
                        "   0.61%",
                        "   _just",
                        "   0.59%",
                        "  _never",
                        "   0.58%"
                      ],
                      [
                        "  _worst",
                        "  84.94%",
                        "   _best",
                        "   3.62%",
                        "    _bad",
                        "   0.78%",
                        "   _most",
                        "   0.76%",
                        "   _last",
                        "   0.63%",
                        "      \\n",
                        "   0.55%",
                        "  _least",
                        "   0.43%",
                        "   _only",
                        "   0.43%",
                        "  _worse",
                        "   0.41%",
                        "   _very",
                        "   0.29%"
                      ],
                      [
                        "     _of",
                        "  84.19%",
                        "       .",
                        "   6.49%",
                        "       ,",
                        "   2.24%",
                        "      .\"",
                        "   0.68%",
                        "      \\n",
                        "   0.50%",
                        "      ,\"",
                        "   0.34%",
                        "     âĢĶ",
                        "   0.30%",
                        "   _time",
                        "   0.22%",
                        "    .âĢĿ",
                        "   0.21%",
                        "       :",
                        "   0.21%"
                      ],
                      [
                        "  _times",
                        "  76.44%",
                        "   _days",
                        "   7.80%",
                        "      \\n",
                        "   2.46%",
                        "    _the",
                        "   1.29%",
                        "  _years",
                        "   0.75%",
                        "    _all",
                        "   0.66%",
                        " _things",
                        "   0.63%",
                        " _nights",
                        "   0.38%",
                        " _seaso…",
                        "   0.34%",
                        "   _time",
                        "   0.32%"
                      ],
                      [
                        "       .",
                        "  41.22%",
                        "       ,",
                        "  30.61%",
                        "      .\"",
                        "   5.66%",
                        "      ,\"",
                        "   1.84%",
                        "       ;",
                        "   1.78%",
                        "    _and",
                        "   1.55%",
                        "    .âĢĿ",
                        "   1.43%",
                        "       :",
                        "   1.22%",
                        "     âĢĶ",
                        "   1.12%",
                        "    ,âĢĿ",
                        "   0.78%"
                      ]
                    ]
                  ],
                  "hoverlabel": {
                    "bgcolor": "rgb(42, 42, 50)",
                    "font": {
                      "family": "Monospace"
                    }
                  },
                  "hovertemplate": "%{customdata[0]}%{customdata[1]}<br>%{customdata[2]}%{customdata[3]}<br>%{customdata[4]}%{customdata[5]}<br>%{customdata[6]}%{customdata[7]}<br>%{customdata[8]}%{customdata[9]}<br>%{customdata[10]}%{customdata[11]}<br>%{customdata[12]}%{customdata[13]}<br>%{customdata[14]}%{customdata[15]}<br>%{customdata[16]}%{customdata[17]}<br>%{customdata[18]}%{customdata[19]}<br><extra></extra>",
                  "text": [
                    [
                      "it",
                      "_was",
                      "_the",
                      "_best",
                      "_of",
                      "_times",
                      ",",
                      "_it",
                      "_was",
                      "_the",
                      "ometim…",
                      "_of",
                      "_times"
                    ],
                    [
                      "_dehyd…",
                      "commut…",
                      "_Pales…",
                      "_(",
                      ",",
                      "_a",
                      "14514",
                      "_(",
                      ",",
                      ",",
                      ",",
                      ",",
                      "_("
                    ],
                    [
                      "\\n",
                      ",",
                      ",",
                      ",",
                      "ermal",
                      "_to",
                      "_and",
                      ",",
                      ",",
                      ",",
                      ",",
                      "_a",
                      "_to"
                    ],
                    [
                      ",",
                      ",",
                      "_(",
                      "_good",
                      "\\n",
                      "_with",
                      "_and",
                      "_and",
                      "_or",
                      "_or",
                      "_and",
                      ",",
                      "-"
                    ],
                    [
                      "_the",
                      "_also",
                      "_I",
                      ",",
                      "_re",
                      "_no",
                      ",",
                      ",",
                      ",",
                      ",",
                      ",",
                      "_the",
                      ","
                    ],
                    [
                      ",",
                      ",",
                      ",",
                      ",",
                      "_of",
                      "_at",
                      "_and",
                      "_or",
                      "_and",
                      "_and",
                      ",",
                      "_of",
                      "."
                    ],
                    [
                      ",",
                      ",",
                      "_\"",
                      "_in",
                      "_L",
                      "_and",
                      "_and",
                      ",",
                      ",",
                      "_\"",
                      "_in",
                      "_(",
                      "_vice"
                    ],
                    [
                      ",",
                      "_(",
                      "_in",
                      "_in",
                      "_all",
                      "_(",
                      "_and",
                      "_all",
                      "_not",
                      "_only",
                      "_S",
                      "_others",
                      ","
                    ],
                    [
                      ",",
                      ",",
                      "_first",
                      ",",
                      "_the",
                      "_and",
                      "_the",
                      "_not",
                      "_the",
                      "_best",
                      ",",
                      "_off",
                      "ãĥ¼ãĥ«"
                    ],
                    [
                      "typen",
                      ",",
                      ",",
                      "-",
                      "_three",
                      ",",
                      "ÑĤÐµÑĢ",
                      "_before",
                      "ethe",
                      "_feas",
                      "everal",
                      "_times",
                      "_also"
                    ],
                    [
                      ",",
                      ",",
                      "_most",
                      ",",
                      "_the",
                      ",",
                      "_and",
                      "_is",
                      "_the",
                      "_only",
                      "_of",
                      "_time",
                      ","
                    ],
                    [
                      "sembly",
                      "sembly",
                      "acebook",
                      "acebook",
                      "_prede…",
                      "č\\nč\\n_",
                      "icroso…",
                      "_prede…",
                      "č\\nč\\n_",
                      "č\\nč\\n_",
                      "č\\nč\\n_",
                      "_prede…",
                      "č\\nč\\n_"
                    ],
                    [
                      ".",
                      "_a",
                      "_first",
                      "_thing",
                      "_the",
                      ",",
                      "_and",
                      "_was",
                      "_the",
                      "_worst",
                      "_of",
                      "_times",
                      "."
                    ]
                  ],
                  "texttemplate": "<b>%{text}</b>",
                  "type": "heatmap",
                  "x": [
                    "it",
                    "_was‌",
                    "_the‌‌",
                    "_best‌‌‌",
                    "_of‌‌‌‌",
                    "_times‌‌‌‌‌",
                    ",‌‌‌‌‌‌",
                    "_it‌‌‌‌‌‌‌",
                    "_was‌‌‌‌‌‌‌‌",
                    "_the‌‌‌‌‌‌‌‌‌",
                    "_worst‌‌‌‌‌‌‌‌‌‌",
                    "_of‌‌‌‌‌‌‌‌‌‌‌",
                    "_times‌‌‌‌‌‌‌‌‌‌‌‌"
                  ],
                  "y": [
                    "0",
                    "2",
                    "4",
                    "6",
                    "8",
                    "10",
                    "12",
                    "14",
                    "16",
                    "18",
                    "20",
                    "22",
                    "output"
                  ],
                  "z": [
                    [
                      0,
                      0,
                      0,
                      0,
                      0,
                      0,
                      0,
                      0,
                      0,
                      0,
                      0.0006265640258789062,
                      0,
                      0
                    ],
                    [
                      0.154541015625,
                      0.086181640625,
                      0.0051116943359375,
                      0.26953125,
                      1.4453125,
                      0.340576171875,
                      0.0543212890625,
                      0.11956787109375,
                      0.466796875,
                      1.419921875,
                      0.0784912109375,
                      0.079345703125,
                      0.6357421875
                    ],
                    [
                      0.9755859375,
                      0.406005859375,
                      0.00006002187728881836,
                      0.07415771484375,
                      1.48046875,
                      0.5771484375,
                      0.1497802734375,
                      0.1734619140625,
                      0.00926971435546875,
                      0.00008887052536010742,
                      0.385009765625,
                      0.227783203125,
                      0.494384765625
                    ],
                    [
                      1.087890625,
                      0.07110595703125,
                      1.4716796875,
                      0.359130859375,
                      1.3974609375,
                      0.9814453125,
                      0.90380859375,
                      0.1663818359375,
                      0.6787109375,
                      0.6103515625,
                      0.0244903564453125,
                      0.84375,
                      1.5263671875
                    ],
                    [
                      1.8046875,
                      2.09375,
                      2.13671875,
                      0.002712249755859375,
                      1.2529296875,
                      1.41796875,
                      0.80078125,
                      0.67529296875,
                      0.0236968994140625,
                      1.783203125,
                      2.03515625,
                      1.5634765625,
                      0.75634765625
                    ],
                    [
                      0.0014257431030273438,
                      0.0006852149963378906,
                      0.04510498046875,
                      0.05828857421875,
                      0.11981201171875,
                      1.328125,
                      0.0017499923706054688,
                      0.062042236328125,
                      0.0927734375,
                      0.2705078125,
                      0.00592803955078125,
                      0.0004401206970214844,
                      0.04876708984375
                    ],
                    [
                      0.11187744140625,
                      0.1405029296875,
                      1.1005859375,
                      0.671875,
                      1.8740234375,
                      0.0301971435546875,
                      0.08404541015625,
                      0.70849609375,
                      0.302001953125,
                      1.005859375,
                      1.1796875,
                      0.25390625,
                      1.6630859375
                    ],
                    [
                      0.01285552978515625,
                      0.95166015625,
                      0.392578125,
                      0.578125,
                      0.000020325183868408203,
                      0.91357421875,
                      0.0269012451171875,
                      0.77099609375,
                      0.1605224609375,
                      1.171875,
                      0.07794189453125,
                      1.482421875,
                      0.0538330078125
                    ],
                    [
                      0.010345458984375,
                      0.12335205078125,
                      0.395751953125,
                      0.409912109375,
                      0.4716796875,
                      0.5322265625,
                      0.000034809112548828125,
                      1.3955078125,
                      0,
                      0.0054931640625,
                      0.445556640625,
                      2.443359375,
                      0.94482421875
                    ],
                    [
                      0.000011265277862548828,
                      0.52294921875,
                      0.358154296875,
                      0.478515625,
                      0.69287109375,
                      0.427734375,
                      1.3251953125,
                      0.01125335693359375,
                      0.89990234375,
                      0.0193634033203125,
                      0.81884765625,
                      0.0302276611328125,
                      0.9775390625
                    ],
                    [
                      0.1715087890625,
                      0.230712890625,
                      0.11749267578125,
                      0.85888671875,
                      1.1650390625,
                      0.0002884864807128906,
                      0.2388916015625,
                      1.1376953125,
                      0.00067138671875,
                      0.00310516357421875,
                      0,
                      0.00000959634780883789,
                      0.000027298927307128906
                    ],
                    [
                      0.4970703125,
                      1.0703125,
                      0.74169921875,
                      1.2255859375,
                      0.001316070556640625,
                      0.402587890625,
                      0.91796875,
                      0.25830078125,
                      0.134765625,
                      0.294677734375,
                      0.017578125,
                      0.1868896484375,
                      0.000014722347259521484
                    ],
                    [
                      7.921875,
                      6.6015625,
                      6.875,
                      5.953125,
                      4.08203125,
                      2.515625,
                      3.177734375,
                      1.0087890625,
                      1.9921875,
                      1.1064453125,
                      0.9287109375,
                      1.462890625,
                      2.171875
                    ]
                  ],
                  "zmax": 7.921875,
                  "zmin": 0
                }
              ],
              "layout": {
                "template": {
                  "data": {
                    "bar": [
                      {
                        "error_x": {
                          "color": "#2a3f5f"
                        },
                        "error_y": {
                          "color": "#2a3f5f"
                        },
                        "marker": {
                          "line": {
                            "color": "#E5ECF6",
                            "width": 0.5
                          },
                          "pattern": {
                            "fillmode": "overlay",
                            "size": 10,
                            "solidity": 0.2
                          }
                        },
                        "type": "bar"
                      }
                    ],
                    "barpolar": [
                      {
                        "marker": {
                          "line": {
                            "color": "#E5ECF6",
                            "width": 0.5
                          },
                          "pattern": {
                            "fillmode": "overlay",
                            "size": 10,
                            "solidity": 0.2
                          }
                        },
                        "type": "barpolar"
                      }
                    ],
                    "carpet": [
                      {
                        "aaxis": {
                          "endlinecolor": "#2a3f5f",
                          "gridcolor": "white",
                          "linecolor": "white",
                          "minorgridcolor": "white",
                          "startlinecolor": "#2a3f5f"
                        },
                        "baxis": {
                          "endlinecolor": "#2a3f5f",
                          "gridcolor": "white",
                          "linecolor": "white",
                          "minorgridcolor": "white",
                          "startlinecolor": "#2a3f5f"
                        },
                        "type": "carpet"
                      }
                    ],
                    "choropleth": [
                      {
                        "colorbar": {
                          "outlinewidth": 0,
                          "ticks": ""
                        },
                        "type": "choropleth"
                      }
                    ],
                    "contour": [
                      {
                        "colorbar": {
                          "outlinewidth": 0,
                          "ticks": ""
                        },
                        "colorscale": [
                          [
                            0,
                            "#0d0887"
                          ],
                          [
                            0.1111111111111111,
                            "#46039f"
                          ],
                          [
                            0.2222222222222222,
                            "#7201a8"
                          ],
                          [
                            0.3333333333333333,
                            "#9c179e"
                          ],
                          [
                            0.4444444444444444,
                            "#bd3786"
                          ],
                          [
                            0.5555555555555556,
                            "#d8576b"
                          ],
                          [
                            0.6666666666666666,
                            "#ed7953"
                          ],
                          [
                            0.7777777777777778,
                            "#fb9f3a"
                          ],
                          [
                            0.8888888888888888,
                            "#fdca26"
                          ],
                          [
                            1,
                            "#f0f921"
                          ]
                        ],
                        "type": "contour"
                      }
                    ],
                    "contourcarpet": [
                      {
                        "colorbar": {
                          "outlinewidth": 0,
                          "ticks": ""
                        },
                        "type": "contourcarpet"
                      }
                    ],
                    "heatmap": [
                      {
                        "colorbar": {
                          "outlinewidth": 0,
                          "ticks": ""
                        },
                        "colorscale": [
                          [
                            0,
                            "#0d0887"
                          ],
                          [
                            0.1111111111111111,
                            "#46039f"
                          ],
                          [
                            0.2222222222222222,
                            "#7201a8"
                          ],
                          [
                            0.3333333333333333,
                            "#9c179e"
                          ],
                          [
                            0.4444444444444444,
                            "#bd3786"
                          ],
                          [
                            0.5555555555555556,
                            "#d8576b"
                          ],
                          [
                            0.6666666666666666,
                            "#ed7953"
                          ],
                          [
                            0.7777777777777778,
                            "#fb9f3a"
                          ],
                          [
                            0.8888888888888888,
                            "#fdca26"
                          ],
                          [
                            1,
                            "#f0f921"
                          ]
                        ],
                        "type": "heatmap"
                      }
                    ],
                    "heatmapgl": [
                      {
                        "colorbar": {
                          "outlinewidth": 0,
                          "ticks": ""
                        },
                        "colorscale": [
                          [
                            0,
                            "#0d0887"
                          ],
                          [
                            0.1111111111111111,
                            "#46039f"
                          ],
                          [
                            0.2222222222222222,
                            "#7201a8"
                          ],
                          [
                            0.3333333333333333,
                            "#9c179e"
                          ],
                          [
                            0.4444444444444444,
                            "#bd3786"
                          ],
                          [
                            0.5555555555555556,
                            "#d8576b"
                          ],
                          [
                            0.6666666666666666,
                            "#ed7953"
                          ],
                          [
                            0.7777777777777778,
                            "#fb9f3a"
                          ],
                          [
                            0.8888888888888888,
                            "#fdca26"
                          ],
                          [
                            1,
                            "#f0f921"
                          ]
                        ],
                        "type": "heatmapgl"
                      }
                    ],
                    "histogram": [
                      {
                        "marker": {
                          "pattern": {
                            "fillmode": "overlay",
                            "size": 10,
                            "solidity": 0.2
                          }
                        },
                        "type": "histogram"
                      }
                    ],
                    "histogram2d": [
                      {
                        "colorbar": {
                          "outlinewidth": 0,
                          "ticks": ""
                        },
                        "colorscale": [
                          [
                            0,
                            "#0d0887"
                          ],
                          [
                            0.1111111111111111,
                            "#46039f"
                          ],
                          [
                            0.2222222222222222,
                            "#7201a8"
                          ],
                          [
                            0.3333333333333333,
                            "#9c179e"
                          ],
                          [
                            0.4444444444444444,
                            "#bd3786"
                          ],
                          [
                            0.5555555555555556,
                            "#d8576b"
                          ],
                          [
                            0.6666666666666666,
                            "#ed7953"
                          ],
                          [
                            0.7777777777777778,
                            "#fb9f3a"
                          ],
                          [
                            0.8888888888888888,
                            "#fdca26"
                          ],
                          [
                            1,
                            "#f0f921"
                          ]
                        ],
                        "type": "histogram2d"
                      }
                    ],
                    "histogram2dcontour": [
                      {
                        "colorbar": {
                          "outlinewidth": 0,
                          "ticks": ""
                        },
                        "colorscale": [
                          [
                            0,
                            "#0d0887"
                          ],
                          [
                            0.1111111111111111,
                            "#46039f"
                          ],
                          [
                            0.2222222222222222,
                            "#7201a8"
                          ],
                          [
                            0.3333333333333333,
                            "#9c179e"
                          ],
                          [
                            0.4444444444444444,
                            "#bd3786"
                          ],
                          [
                            0.5555555555555556,
                            "#d8576b"
                          ],
                          [
                            0.6666666666666666,
                            "#ed7953"
                          ],
                          [
                            0.7777777777777778,
                            "#fb9f3a"
                          ],
                          [
                            0.8888888888888888,
                            "#fdca26"
                          ],
                          [
                            1,
                            "#f0f921"
                          ]
                        ],
                        "type": "histogram2dcontour"
                      }
                    ],
                    "mesh3d": [
                      {
                        "colorbar": {
                          "outlinewidth": 0,
                          "ticks": ""
                        },
                        "type": "mesh3d"
                      }
                    ],
                    "parcoords": [
                      {
                        "line": {
                          "colorbar": {
                            "outlinewidth": 0,
                            "ticks": ""
                          }
                        },
                        "type": "parcoords"
                      }
                    ],
                    "pie": [
                      {
                        "automargin": true,
                        "type": "pie"
                      }
                    ],
                    "scatter": [
                      {
                        "fillpattern": {
                          "fillmode": "overlay",
                          "size": 10,
                          "solidity": 0.2
                        },
                        "type": "scatter"
                      }
                    ],
                    "scatter3d": [
                      {
                        "line": {
                          "colorbar": {
                            "outlinewidth": 0,
                            "ticks": ""
                          }
                        },
                        "marker": {
                          "colorbar": {
                            "outlinewidth": 0,
                            "ticks": ""
                          }
                        },
                        "type": "scatter3d"
                      }
                    ],
                    "scattercarpet": [
                      {
                        "marker": {
                          "colorbar": {
                            "outlinewidth": 0,
                            "ticks": ""
                          }
                        },
                        "type": "scattercarpet"
                      }
                    ],
                    "scattergeo": [
                      {
                        "marker": {
                          "colorbar": {
                            "outlinewidth": 0,
                            "ticks": ""
                          }
                        },
                        "type": "scattergeo"
                      }
                    ],
                    "scattergl": [
                      {
                        "marker": {
                          "colorbar": {
                            "outlinewidth": 0,
                            "ticks": ""
                          }
                        },
                        "type": "scattergl"
                      }
                    ],
                    "scattermapbox": [
                      {
                        "marker": {
                          "colorbar": {
                            "outlinewidth": 0,
                            "ticks": ""
                          }
                        },
                        "type": "scattermapbox"
                      }
                    ],
                    "scatterpolar": [
                      {
                        "marker": {
                          "colorbar": {
                            "outlinewidth": 0,
                            "ticks": ""
                          }
                        },
                        "type": "scatterpolar"
                      }
                    ],
                    "scatterpolargl": [
                      {
                        "marker": {
                          "colorbar": {
                            "outlinewidth": 0,
                            "ticks": ""
                          }
                        },
                        "type": "scatterpolargl"
                      }
                    ],
                    "scatterternary": [
                      {
                        "marker": {
                          "colorbar": {
                            "outlinewidth": 0,
                            "ticks": ""
                          }
                        },
                        "type": "scatterternary"
                      }
                    ],
                    "surface": [
                      {
                        "colorbar": {
                          "outlinewidth": 0,
                          "ticks": ""
                        },
                        "colorscale": [
                          [
                            0,
                            "#0d0887"
                          ],
                          [
                            0.1111111111111111,
                            "#46039f"
                          ],
                          [
                            0.2222222222222222,
                            "#7201a8"
                          ],
                          [
                            0.3333333333333333,
                            "#9c179e"
                          ],
                          [
                            0.4444444444444444,
                            "#bd3786"
                          ],
                          [
                            0.5555555555555556,
                            "#d8576b"
                          ],
                          [
                            0.6666666666666666,
                            "#ed7953"
                          ],
                          [
                            0.7777777777777778,
                            "#fb9f3a"
                          ],
                          [
                            0.8888888888888888,
                            "#fdca26"
                          ],
                          [
                            1,
                            "#f0f921"
                          ]
                        ],
                        "type": "surface"
                      }
                    ],
                    "table": [
                      {
                        "cells": {
                          "fill": {
                            "color": "#EBF0F8"
                          },
                          "line": {
                            "color": "white"
                          }
                        },
                        "header": {
                          "fill": {
                            "color": "#C8D4E3"
                          },
                          "line": {
                            "color": "white"
                          }
                        },
                        "type": "table"
                      }
                    ]
                  },
                  "layout": {
                    "annotationdefaults": {
                      "arrowcolor": "#2a3f5f",
                      "arrowhead": 0,
                      "arrowwidth": 1
                    },
                    "autotypenumbers": "strict",
                    "coloraxis": {
                      "colorbar": {
                        "outlinewidth": 0,
                        "ticks": ""
                      }
                    },
                    "colorscale": {
                      "diverging": [
                        [
                          0,
                          "#8e0152"
                        ],
                        [
                          0.1,
                          "#c51b7d"
                        ],
                        [
                          0.2,
                          "#de77ae"
                        ],
                        [
                          0.3,
                          "#f1b6da"
                        ],
                        [
                          0.4,
                          "#fde0ef"
                        ],
                        [
                          0.5,
                          "#f7f7f7"
                        ],
                        [
                          0.6,
                          "#e6f5d0"
                        ],
                        [
                          0.7,
                          "#b8e186"
                        ],
                        [
                          0.8,
                          "#7fbc41"
                        ],
                        [
                          0.9,
                          "#4d9221"
                        ],
                        [
                          1,
                          "#276419"
                        ]
                      ],
                      "sequential": [
                        [
                          0,
                          "#0d0887"
                        ],
                        [
                          0.1111111111111111,
                          "#46039f"
                        ],
                        [
                          0.2222222222222222,
                          "#7201a8"
                        ],
                        [
                          0.3333333333333333,
                          "#9c179e"
                        ],
                        [
                          0.4444444444444444,
                          "#bd3786"
                        ],
                        [
                          0.5555555555555556,
                          "#d8576b"
                        ],
                        [
                          0.6666666666666666,
                          "#ed7953"
                        ],
                        [
                          0.7777777777777778,
                          "#fb9f3a"
                        ],
                        [
                          0.8888888888888888,
                          "#fdca26"
                        ],
                        [
                          1,
                          "#f0f921"
                        ]
                      ],
                      "sequentialminus": [
                        [
                          0,
                          "#0d0887"
                        ],
                        [
                          0.1111111111111111,
                          "#46039f"
                        ],
                        [
                          0.2222222222222222,
                          "#7201a8"
                        ],
                        [
                          0.3333333333333333,
                          "#9c179e"
                        ],
                        [
                          0.4444444444444444,
                          "#bd3786"
                        ],
                        [
                          0.5555555555555556,
                          "#d8576b"
                        ],
                        [
                          0.6666666666666666,
                          "#ed7953"
                        ],
                        [
                          0.7777777777777778,
                          "#fb9f3a"
                        ],
                        [
                          0.8888888888888888,
                          "#fdca26"
                        ],
                        [
                          1,
                          "#f0f921"
                        ]
                      ]
                    },
                    "colorway": [
                      "#636efa",
                      "#EF553B",
                      "#00cc96",
                      "#ab63fa",
                      "#FFA15A",
                      "#19d3f3",
                      "#FF6692",
                      "#B6E880",
                      "#FF97FF",
                      "#FECB52"
                    ],
                    "font": {
                      "color": "#2a3f5f"
                    },
                    "geo": {
                      "bgcolor": "white",
                      "lakecolor": "white",
                      "landcolor": "#E5ECF6",
                      "showlakes": true,
                      "showland": true,
                      "subunitcolor": "white"
                    },
                    "hoverlabel": {
                      "align": "left"
                    },
                    "hovermode": "closest",
                    "mapbox": {
                      "style": "light"
                    },
                    "paper_bgcolor": "white",
                    "plot_bgcolor": "#E5ECF6",
                    "polar": {
                      "angularaxis": {
                        "gridcolor": "white",
                        "linecolor": "white",
                        "ticks": ""
                      },
                      "bgcolor": "#E5ECF6",
                      "radialaxis": {
                        "gridcolor": "white",
                        "linecolor": "white",
                        "ticks": ""
                      }
                    },
                    "scene": {
                      "xaxis": {
                        "backgroundcolor": "#E5ECF6",
                        "gridcolor": "white",
                        "gridwidth": 2,
                        "linecolor": "white",
                        "showbackground": true,
                        "ticks": "",
                        "zerolinecolor": "white"
                      },
                      "yaxis": {
                        "backgroundcolor": "#E5ECF6",
                        "gridcolor": "white",
                        "gridwidth": 2,
                        "linecolor": "white",
                        "showbackground": true,
                        "ticks": "",
                        "zerolinecolor": "white"
                      },
                      "zaxis": {
                        "backgroundcolor": "#E5ECF6",
                        "gridcolor": "white",
                        "gridwidth": 2,
                        "linecolor": "white",
                        "showbackground": true,
                        "ticks": "",
                        "zerolinecolor": "white"
                      }
                    },
                    "shapedefaults": {
                      "line": {
                        "color": "#2a3f5f"
                      }
                    },
                    "ternary": {
                      "aaxis": {
                        "gridcolor": "white",
                        "linecolor": "white",
                        "ticks": ""
                      },
                      "baxis": {
                        "gridcolor": "white",
                        "linecolor": "white",
                        "ticks": ""
                      },
                      "bgcolor": "#E5ECF6",
                      "caxis": {
                        "gridcolor": "white",
                        "linecolor": "white",
                        "ticks": ""
                      }
                    },
                    "title": {
                      "x": 0.05
                    },
                    "xaxis": {
                      "automargin": true,
                      "gridcolor": "white",
                      "linecolor": "white",
                      "ticks": "",
                      "title": {
                        "standoff": 15
                      },
                      "zerolinecolor": "white",
                      "zerolinewidth": 2
                    },
                    "yaxis": {
                      "automargin": true,
                      "gridcolor": "white",
                      "linecolor": "white",
                      "ticks": "",
                      "title": {
                        "standoff": 15
                      },
                      "zerolinecolor": "white",
                      "zerolinewidth": 2
                    }
                  }
                },
                "title": {
                  "text": "TunedLens () entropy",
                  "x": 0.5
                },
                "width": 1240,
                "xaxis": {
                  "title": {
                    "text": "Input"
                  }
                },
                "yaxis": {
                  "title": {
                    "text": "Layer"
                  }
                }
              }
            },
            "text/html": [
              "<div>                            <div id=\"0b456830-e0fd-4cb2-8483-55ec22b050ca\" class=\"plotly-graph-div\" style=\"height:525px; width:1240px;\"></div>            <script type=\"text/javascript\">                require([\"plotly\"], function(Plotly) {                    window.PLOTLYENV=window.PLOTLYENV || {};                                    if (document.getElementById(\"0b456830-e0fd-4cb2-8483-55ec22b050ca\")) {                    Plotly.newPlot(                        \"0b456830-e0fd-4cb2-8483-55ec22b050ca\",                        [{\"colorbar\":{\"title\":{\"side\":\"right\",\"text\":\"Entropy (nats)\"}},\"colorscale\":[[0.0,\"rgb(5,48,97)\"],[0.1,\"rgb(33,102,172)\"],[0.2,\"rgb(67,147,195)\"],[0.3,\"rgb(146,197,222)\"],[0.4,\"rgb(209,229,240)\"],[0.5,\"rgb(247,247,247)\"],[0.6,\"rgb(253,219,199)\"],[0.7,\"rgb(244,165,130)\"],[0.8,\"rgb(214,96,77)\"],[0.9,\"rgb(178,24,43)\"],[1.0,\"rgb(103,0,31)\"]],\"customdata\":[[[\"      it\",\" 100.00%\",\"      IT\",\"   0.00%\",\"     its\",\"   0.00%\",\"    iten\",\"   0.00%\",\"      It\",\"   0.00%\",\"    itan\",\"   0.00%\",\"    itet\",\"   0.00%\",\"   itted\",\"   0.00%\",\"    itte\",\"   0.00%\",\"     _it\",\"   0.00%\"],[\"    _was\",\" 100.00%\",\"     _is\",\"   0.00%\",\"   _were\",\"   0.00%\",\"    _and\",\"   0.00%\",\"       ,\",\"   0.00%\",\"      _(\",\"   0.00%\",\"     _in\",\"   0.00%\",\"    _had\",\"   0.00%\",\"    _has\",\"   0.00%\",\"    _for\",\"   0.00%\"],[\"    _the\",\" 100.00%\",\"      _a\",\"   0.00%\",\"     _in\",\"   0.00%\",\"    _and\",\"   0.00%\",\"       ,\",\"   0.00%\",\"      _(\",\"   0.00%\",\"     _an\",\"   0.00%\",\"     _to\",\"   0.00%\",\"     _at\",\"   0.00%\",\"     _as\",\"   0.00%\"],[\"   _best\",\" 100.00%\",\"    best\",\"   0.00%\",\"    Best\",\"   0.00%\",\"   _Best\",\"   0.00%\",\"  _worst\",\"   0.00%\",\" _better\",\"   0.00%\",\" _finest\",\"   0.00%\",\" _easie\\u2026\",\"   0.00%\",\" _stron\\u2026\",\"   0.00%\",\" _great\\u2026\",\"   0.00%\"],[\"     _of\",\" 100.00%\",\"    _and\",\"   0.00%\",\"     _in\",\"   0.00%\",\"       ,\",\"   0.00%\",\"      _(\",\"   0.00%\",\"     _to\",\"   0.00%\",\"    _for\",\"   0.00%\",\"     _or\",\"   0.00%\",\"     _at\",\"   0.00%\",\"     _as\",\"   0.00%\"],[\"  _times\",\" 100.00%\",\"   times\",\"   0.00%\",\"   uvant\",\"   0.00%\",\"   _time\",\"   0.00%\",\"   14514\",\"   0.00%\",\"   _fois\",\"   0.00%\",\"    time\",\"   0.00%\",\" ometim\\u2026\",\"   0.00%\",\"  _occas\",\"   0.00%\",\"  _Times\",\"   0.00%\"],[\"       ,\",\" 100.00%\",\"    _and\",\"   0.00%\",\"       .\",\"   0.00%\",\"      _(\",\"   0.00%\",\"       -\",\"   0.00%\",\"     _in\",\"   0.00%\",\"      \\\\n\",\"   0.00%\",\"     _or\",\"   0.00%\",\"     _to\",\"   0.00%\",\"       :\",\"   0.00%\"],[\"     _it\",\" 100.00%\",\"     _It\",\"   0.00%\",\"      it\",\"   0.00%\",\"    _its\",\"   0.00%\",\"      It\",\"   0.00%\",\"    _the\",\"   0.00%\",\"      _a\",\"   0.00%\",\"     _in\",\"   0.00%\",\"       ,\",\"   0.00%\",\"    _and\",\"   0.00%\"],[\"    _was\",\" 100.00%\",\"     _is\",\"   0.00%\",\"   _were\",\"   0.00%\",\"    _and\",\"   0.00%\",\"       ,\",\"   0.00%\",\"      _(\",\"   0.00%\",\"     _in\",\"   0.00%\",\"    _had\",\"   0.00%\",\"    _has\",\"   0.00%\",\"    _for\",\"   0.00%\"],[\"    _the\",\" 100.00%\",\"      _a\",\"   0.00%\",\"     _in\",\"   0.00%\",\"    _and\",\"   0.00%\",\"       ,\",\"   0.00%\",\"      _(\",\"   0.00%\",\"     _an\",\"   0.00%\",\"     _to\",\"   0.00%\",\"     _at\",\"   0.00%\",\"     _as\",\"   0.00%\"],[\" ometim\\u2026\",\" 100.00%\",\" icroso\\u2026\",\"   0.01%\",\" _prede\\u2026\",\"   0.00%\",\"    amss\",\"   0.00%\",\" acebook\",\"   0.00%\",\"    uilt\",\"   0.00%\",\"      \\u0125\\u00bd\",\"   0.00%\",\"   ORAND\",\"   0.00%\",\" iversal\",\"   0.00%\",\"   uvant\",\"   0.00%\"],[\"     _of\",\" 100.00%\",\"    _and\",\"   0.00%\",\"     _in\",\"   0.00%\",\"       ,\",\"   0.00%\",\"      _(\",\"   0.00%\",\"     _to\",\"   0.00%\",\"    _for\",\"   0.00%\",\"     _or\",\"   0.00%\",\"     _at\",\"   0.00%\",\"     _as\",\"   0.00%\"],[\"  _times\",\" 100.00%\",\"   times\",\"   0.00%\",\"   uvant\",\"   0.00%\",\"   _time\",\"   0.00%\",\"   14514\",\"   0.00%\",\"   _fois\",\"   0.00%\",\"    time\",\"   0.00%\",\" ometim\\u2026\",\"   0.00%\",\"  _occas\",\"   0.00%\",\"  _Times\",\"   0.00%\"]],[[\" _dehyd\\u2026\",\"  97.44%\",\" _nonne\\u2026\",\"   1.11%\",\" _recycl\",\"   1.09%\",\" _Custo\\u2026\",\"   0.11%\",\" _symmet\",\"   0.06%\",\"  _exerc\",\"   0.06%\",\" _racket\",\"   0.05%\",\"  scious\",\"   0.02%\",\"   _laun\",\"   0.02%\",\" _arrang\",\"   0.02%\"],[\" commut\\u2026\",\"  98.62%\",\"  _still\",\"   1.09%\",\"     _to\",\"   0.17%\",\"  onance\",\"   0.02%\",\"      _s\",\"   0.01%\",\"   _into\",\"   0.01%\",\" _Lapla\\u2026\",\"   0.01%\",\" _assert\",\"   0.01%\",\" _final\\u2026\",\"   0.01%\",\"     _as\",\"   0.01%\"],[\" _Pales\\u2026\",\"  99.94%\",\" _reluct\",\"   0.06%\",\" _traje\\u2026\",\"   0.00%\",\"   _CURI\",\"   0.00%\",\" Undeci\\u2026\",\"   0.00%\",\"   empre\",\"   0.00%\",\"     TTP\",\"   0.00%\",\" ------\\u2026\",\"   0.00%\",\" ------\\u2026\",\"   0.00%\",\"    OPLE\",\"   0.00%\"],[\"      _(\",\"  94.06%\",\"      _a\",\"   4.01%\",\"    _and\",\"   1.67%\",\"       ,\",\"   0.25%\",\"     _in\",\"   0.00%\",\"       .\",\"   0.00%\",\"     _as\",\"   0.00%\",\"     _to\",\"   0.00%\",\"       :\",\"   0.00%\",\"   _that\",\"   0.00%\"],[\"       ,\",\"  41.97%\",\"    _the\",\"  24.67%\",\"      _\\\"\",\"  18.05%\",\"      _(\",\"  12.04%\",\"     _in\",\"   1.19%\",\"      _B\",\"   0.68%\",\"      _L\",\"   0.48%\",\"      _F\",\"   0.40%\",\"      _a\",\"   0.26%\",\"       -\",\"   0.07%\"],[\"      _a\",\"  92.06%\",\"    _the\",\"   5.36%\",\"      _(\",\"   2.20%\",\"    _and\",\"   0.17%\",\"      _F\",\"   0.07%\",\"      _\\\"\",\"   0.06%\",\"      \\\\n\",\"   0.02%\",\"   _that\",\"   0.01%\",\"     _as\",\"   0.00%\",\"      _B\",\"   0.00%\"],[\"   14514\",\"  99.19%\",\" _trigl\\u2026\",\"   0.46%\",\" onelin\\u2026\",\"   0.38%\",\" perties\",\"   0.00%\",\" fficie\\u2026\",\"   0.00%\",\" SEQUEN\\u2026\",\"   0.00%\",\" prehens\",\"   0.00%\",\"   acerb\",\"   0.00%\",\" plitud\\u2026\",\"   0.00%\",\"   ****,\",\"   0.00%\"],[\"      _(\",\"  97.62%\",\"       ,\",\"   2.30%\",\"    _and\",\"   0.05%\",\"      \\\\n\",\"   0.04%\",\"       .\",\"   0.01%\",\"      _\\\"\",\"   0.01%\",\"       -\",\"   0.00%\",\"     _in\",\"   0.00%\",\"      _a\",\"   0.00%\",\"      's\",\"   0.00%\"],[\"       ,\",\"  84.88%\",\"      _a\",\"  14.30%\",\"      _(\",\"   0.45%\",\"     _in\",\"   0.18%\",\"     _to\",\"   0.13%\",\"    _the\",\"   0.07%\",\"      _d\",\"   0.00%\",\"      _\\\"\",\"   0.00%\",\"     _as\",\"   0.00%\",\"      __\",\"   0.00%\"],[\"       ,\",\"  49.78%\",\"       -\",\"  23.16%\",\"      _\\\"\",\"   9.66%\",\"     _in\",\"   8.26%\",\"      _(\",\"   6.74%\",\"      _a\",\"   1.32%\",\"      _v\",\"   0.75%\",\"      _p\",\"   0.19%\",\"      _-\",\"   0.03%\",\"     _or\",\"   0.02%\"],[\"       ,\",\"  98.56%\",\"      _(\",\"   1.40%\",\"    _and\",\"   0.05%\",\"       -\",\"   0.00%\",\"      \\\\n\",\"   0.00%\",\"       .\",\"   0.00%\",\"      _a\",\"   0.00%\",\"      _\\\"\",\"   0.00%\",\"     _in\",\"   0.00%\",\"     _or\",\"   0.00%\"],[\"       ,\",\"  98.56%\",\"      _(\",\"   1.32%\",\"    _the\",\"   0.06%\",\"       -\",\"   0.01%\",\"      _a\",\"   0.01%\",\"    _and\",\"   0.01%\",\"      \\\\n\",\"   0.00%\",\"      _\\\"\",\"   0.00%\",\"     _in\",\"   0.00%\",\"       .\",\"   0.00%\"],[\"      _(\",\"  82.12%\",\"      _a\",\"  10.94%\",\"    _and\",\"   5.59%\",\"       ,\",\"   0.91%\",\"      \\\\n\",\"   0.24%\",\"    _the\",\"   0.18%\",\"      _\\\"\",\"   0.02%\",\"     _as\",\"   0.00%\",\"       .\",\"   0.00%\",\"       -\",\"   0.00%\"]],[[\"      \\\\n\",\"  62.75%\",\"      _(\",\"  20.36%\",\"    _and\",\"  15.73%\",\"       ,\",\"   0.54%\",\"       .\",\"   0.28%\",\"     _in\",\"   0.22%\",\"       -\",\"   0.09%\",\"      _f\",\"   0.02%\",\"    _set\",\"   0.01%\",\"     _is\",\"   0.00%\"],[\"       ,\",\"  86.25%\",\"    _and\",\"  13.65%\",\"       -\",\"   0.09%\",\"      _(\",\"   0.00%\",\"       .\",\"   0.00%\",\"     _in\",\"   0.00%\",\"      _\\\"\",\"   0.00%\",\"      \\\\n\",\"   0.00%\",\"      _a\",\"   0.00%\",\"     _on\",\"   0.00%\"],[\"       ,\",\" 100.00%\",\"     _in\",\"   0.00%\",\"      _a\",\"   0.00%\",\"      _(\",\"   0.00%\",\"      \\\\n\",\"   0.00%\",\"    _the\",\"   0.00%\",\"       -\",\"   0.00%\",\"    _and\",\"   0.00%\",\"      _\\\"\",\"   0.00%\",\"     _is\",\"   0.00%\"],[\"       ,\",\"  98.56%\",\"      _(\",\"   1.40%\",\"      \\\\n\",\"   0.00%\",\"    _and\",\"   0.00%\",\"     _in\",\"   0.00%\",\"       -\",\"   0.00%\",\"     _or\",\"   0.00%\",\"       .\",\"   0.00%\",\"      _a\",\"   0.00%\",\"     _to\",\"   0.00%\"],[\"   ermal\",\"  50.44%\",\"   ricks\",\"  25.75%\",\"  isible\",\"   9.78%\",\"    lain\",\"   4.41%\",\"  ffield\",\"   2.44%\",\"   _cart\",\"   2.22%\",\"  hattan\",\"   2.15%\",\"    frey\",\"   0.87%\",\"  oclast\",\"   0.59%\",\"   ption\",\"   0.42%\"],[\"     _to\",\"  86.62%\",\"     _on\",\"   4.73%\",\"    _for\",\"   3.80%\",\"       ,\",\"   3.69%\",\"     _in\",\"   0.90%\",\"    _the\",\"   0.09%\",\"     _at\",\"   0.05%\",\"      _(\",\"   0.03%\",\"     _an\",\"   0.02%\",\"   _when\",\"   0.02%\"],[\"    _and\",\"  97.25%\",\"     _or\",\"   2.02%\",\"       ,\",\"   0.48%\",\"   _from\",\"   0.11%\",\"      _(\",\"   0.11%\",\"     _to\",\"   0.02%\",\"     _in\",\"   0.01%\",\"    _the\",\"   0.00%\",\"     _on\",\"   0.00%\",\"      \\\\n\",\"   0.00%\"],[\"       ,\",\"  95.94%\",\"     _in\",\"   3.96%\",\"    _and\",\"   0.07%\",\"      _(\",\"   0.00%\",\"       .\",\"   0.00%\",\"     _or\",\"   0.00%\",\"       -\",\"   0.00%\",\"     _of\",\"   0.00%\",\"     _to\",\"   0.00%\",\"      \\\\n\",\"   0.00%\"],[\"       ,\",\"  99.88%\",\"    _and\",\"   0.11%\",\"       .\",\"   0.00%\",\"       -\",\"   0.00%\",\"      _(\",\"   0.00%\",\"     _on\",\"   0.00%\",\"    _the\",\"   0.00%\",\"      _\\\"\",\"   0.00%\",\"     _in\",\"   0.00%\",\"      _a\",\"   0.00%\"],[\"       ,\",\" 100.00%\",\"    _the\",\"   0.00%\",\"     _in\",\"   0.00%\",\"      _(\",\"   0.00%\",\"      _a\",\"   0.00%\",\"      \\\\n\",\"   0.00%\",\"    _and\",\"   0.00%\",\"       .\",\"   0.00%\",\"      _\\\"\",\"   0.00%\",\"       -\",\"   0.00%\"],[\"       ,\",\"  88.31%\",\"      _(\",\"  11.22%\",\"       -\",\"   0.19%\",\"      \\\\n\",\"   0.18%\",\"       .\",\"   0.06%\",\"    _and\",\"   0.02%\",\"      _I\",\"   0.00%\",\"     _or\",\"   0.00%\",\"      _\\\"\",\"   0.00%\",\"      _-\",\"   0.00%\"],[\"      _a\",\"  95.88%\",\"     _to\",\"   2.32%\",\"     _in\",\"   0.72%\",\"      _2\",\"   0.46%\",\"    _and\",\"   0.38%\",\"      _(\",\"   0.21%\",\"       ,\",\"   0.02%\",\"    _the\",\"   0.01%\",\"      _T\",\"   0.01%\",\"      _1\",\"   0.00%\"],[\"     _to\",\"  86.19%\",\"     _on\",\"  10.96%\",\"    _for\",\"   2.03%\",\"       ,\",\"   0.68%\",\"     _in\",\"   0.05%\",\"    _all\",\"   0.02%\",\"   _when\",\"   0.02%\",\"     _at\",\"   0.01%\",\"       .\",\"   0.01%\",\"      _(\",\"   0.01%\"]],[[\"       ,\",\"  41.72%\",\"      _(\",\"  33.53%\",\"    _and\",\"  24.53%\",\"     _in\",\"   0.18%\",\"       -\",\"   0.01%\",\"     _or\",\"   0.00%\",\"     _of\",\"   0.00%\",\"       \\u002f\",\"   0.00%\",\"       .\",\"   0.00%\",\"     _on\",\"   0.00%\"],[\"       ,\",\"  98.81%\",\"      _(\",\"   1.00%\",\"    _and\",\"   0.08%\",\"     _in\",\"   0.07%\",\"       -\",\"   0.02%\",\"      _a\",\"   0.00%\",\"     _of\",\"   0.00%\",\"    _the\",\"   0.00%\",\"    _not\",\"   0.00%\",\"       .\",\"   0.00%\"],[\"      _(\",\"  49.69%\",\"     _or\",\"  23.81%\",\"      \\\\n\",\"  16.89%\",\"      _[\",\"   1.52%\",\"      _*\",\"   1.39%\",\"      _\\\"\",\"   1.24%\",\"    _end\",\"   0.92%\",\"   _also\",\"   0.83%\",\"   _only\",\"   0.75%\",\"    _and\",\"   0.70%\"],[\"   _good\",\"  91.81%\",\"   _well\",\"   6.05%\",\"  _close\",\"   1.00%\",\"  _other\",\"   0.57%\",\"   _back\",\"   0.44%\",\"    _and\",\"   0.05%\",\"       -\",\"   0.02%\",\"     _in\",\"   0.02%\",\"      _a\",\"   0.02%\",\"   _even\",\"   0.01%\"],[\"      \\\\n\",\"  61.81%\",\"     _on\",\"  13.17%\",\"      _(\",\"   8.50%\",\"      _P\",\"   7.62%\",\"     _pr\",\"   2.68%\",\"       ,\",\"   1.78%\",\"      _e\",\"   0.78%\",\"   _part\",\"   0.75%\",\"      _f\",\"   0.69%\",\"      _c\",\"   0.33%\"],[\"   _with\",\"  73.69%\",\"   _like\",\"  12.59%\",\"       -\",\"   5.01%\",\"      _(\",\"   4.15%\",\"    _one\",\"   1.99%\",\"       ,\",\"   1.05%\",\"     _by\",\"   0.94%\",\"     _on\",\"   0.16%\",\"     _un\",\"   0.09%\",\"   _only\",\"   0.08%\"],[\"    _and\",\"  70.44%\",\"      _(\",\"  16.72%\",\"       ,\",\"   6.76%\",\"     _in\",\"   5.97%\",\"     _or\",\"   0.09%\",\"    _but\",\"   0.01%\",\"    _for\",\"   0.00%\",\"      _I\",\"   0.00%\",\"    _the\",\"   0.00%\",\"      _a\",\"   0.00%\"],[\"    _and\",\"  96.38%\",\"     _or\",\"   3.30%\",\"       ,\",\"   0.29%\",\"      _(\",\"   0.01%\",\"     _in\",\"   0.00%\",\"     _of\",\"   0.00%\",\"      _\\\"\",\"   0.00%\",\"    _for\",\"   0.00%\",\"     _to\",\"   0.00%\",\"      _M\",\"   0.00%\"],[\"     _or\",\"  62.12%\",\"       ,\",\"  37.66%\",\"    _and\",\"   0.07%\",\"     _in\",\"   0.07%\",\"      _(\",\"   0.03%\",\"   _part\",\"   0.01%\",\"     _of\",\"   0.01%\",\"       .\",\"   0.00%\",\"     _at\",\"   0.00%\",\"     _on\",\"   0.00%\"],[\"     _or\",\"  73.62%\",\"      _(\",\"  25.83%\",\"    _and\",\"   0.42%\",\"      \\\\n\",\"   0.05%\",\"   _part\",\"   0.03%\",\"      __\",\"   0.02%\",\"     _to\",\"   0.02%\",\"       ,\",\"   0.01%\",\"     _as\",\"   0.01%\",\"      _\\\"\",\"   0.01%\"],[\"    _and\",\"  99.69%\",\"     _in\",\"   0.17%\",\"       ,\",\"   0.12%\",\"   _than\",\"   0.02%\",\"      _(\",\"   0.00%\",\"      _a\",\"   0.00%\",\"    _not\",\"   0.00%\",\"    _for\",\"   0.00%\",\"     _to\",\"   0.00%\",\"       -\",\"   0.00%\"],[\"       ,\",\"  71.88%\",\"      _(\",\"  21.91%\",\"    _and\",\"   2.01%\",\"     _at\",\"   1.77%\",\"     _on\",\"   1.51%\",\"       .\",\"   0.35%\",\"      \\\\n\",\"   0.23%\",\"       -\",\"   0.18%\",\"     _as\",\"   0.11%\",\"     _in\",\"   0.02%\"],[\"       -\",\"  36.09%\",\"      _(\",\"  32.34%\",\"   _with\",\"  19.61%\",\"       ,\",\"   3.86%\",\"      \\\\n\",\"   2.96%\",\"       .\",\"   2.34%\",\"    _for\",\"   0.95%\",\"      _I\",\"   0.57%\",\"     _re\",\"   0.45%\",\"     _un\",\"   0.32%\"]],[[\"    _the\",\"  48.34%\",\"      is\",\"  11.85%\",\"       \\u002f\",\"  11.48%\",\"      _(\",\"   7.89%\",\"    _non\",\"   4.64%\",\"      _T\",\"   4.50%\",\"      _a\",\"   4.36%\",\"       ,\",\"   2.73%\",\"      \\\\n\",\"   1.39%\",\"       -\",\"   0.79%\"],[\"   _also\",\"  27.38%\",\"      _a\",\"  22.34%\",\"      _I\",\"  15.11%\",\"      _(\",\"  11.40%\",\"    _not\",\"   4.26%\",\"      _\\\"\",\"   4.19%\",\"      \\\\n\",\"   4.12%\",\"       .\",\"   3.82%\",\"      _i\",\"   1.72%\",\"       ,\",\"   1.57%\"],[\"      _I\",\"  30.59%\",\"     _in\",\"  15.62%\",\"    _and\",\"  11.24%\",\"      _a\",\"  10.08%\",\"   _that\",\"   9.77%\",\"       ,\",\"   9.61%\",\"     _of\",\"   3.32%\",\"    _one\",\"   2.65%\",\"     _an\",\"   1.80%\",\"    _for\",\"   1.30%\"],[\"       ,\",\" 100.00%\",\"       .\",\"   0.01%\",\"     _in\",\"   0.01%\",\"      _C\",\"   0.00%\",\"       -\",\"   0.00%\",\"      _\\\"\",\"   0.00%\",\"     _on\",\"   0.00%\",\"      _G\",\"   0.00%\",\"    _for\",\"   0.00%\",\"    _and\",\"   0.00%\"],[\"     _re\",\"  71.19%\",\"      _(\",\"  10.25%\",\"       -\",\"   4.55%\",\"    _led\",\"   3.44%\",\"       ;\",\"   1.96%\",\"    _set\",\"   1.75%\",\"    _one\",\"   1.52%\",\"     _fl\",\"   1.15%\",\"      --\",\"   0.75%\",\"     _un\",\"   0.67%\"],[\"     _no\",\"  52.28%\",\"      _a\",\"  26.70%\",\"     _an\",\"   8.02%\",\"   _with\",\"   4.43%\",\"    _the\",\"   3.09%\",\"     _on\",\"   1.68%\",\"       ,\",\"   0.86%\",\"    _and\",\"   0.59%\",\"    _not\",\"   0.55%\",\"    _two\",\"   0.41%\"],[\"       ,\",\"  78.50%\",\"      _(\",\"  10.96%\",\"    _and\",\"   4.57%\",\"      _\\\"\",\"   4.03%\",\"      _a\",\"   1.37%\",\"     _in\",\"   0.26%\",\"       .\",\"   0.08%\",\"     _as\",\"   0.05%\",\"       \\u002f\",\"   0.05%\",\"    _the\",\"   0.05%\"],[\"       ,\",\"  78.44%\",\"     _as\",\"  17.78%\",\"     _in\",\"   1.48%\",\"    _for\",\"   1.46%\",\"     _on\",\"   0.32%\",\"     _at\",\"   0.25%\",\"      _a\",\"   0.17%\",\"    _and\",\"   0.06%\",\"     _of\",\"   0.03%\",\"   _also\",\"   0.02%\"],[\"       ,\",\"  99.69%\",\"       .\",\"   0.26%\",\"      _a\",\"   0.03%\",\"     _in\",\"   0.02%\",\"      _(\",\"   0.00%\",\"      \\\\n\",\"   0.00%\",\"   _also\",\"   0.00%\",\"     _as\",\"   0.00%\",\"    _not\",\"   0.00%\",\"      _\\\"\",\"   0.00%\"],[\"       ,\",\"  43.59%\",\"     _in\",\"  18.17%\",\"      _a\",\"  11.55%\",\"     _of\",\"   7.82%\",\"      _L\",\"   7.23%\",\"    _and\",\"   3.81%\",\"       -\",\"   3.21%\",\"    _one\",\"   1.57%\",\"      _d\",\"   0.97%\",\"      _I\",\"   0.45%\"],[\"       ,\",\"  34.00%\",\"      _R\",\"  25.27%\",\"    _the\",\"   8.08%\",\"      _A\",\"   7.83%\",\"       -\",\"   7.59%\",\"     _in\",\"   4.26%\",\"   _from\",\"   2.66%\",\"    _bit\",\"   2.50%\",\"     _of\",\"   1.49%\",\"      _C\",\"   1.45%\"],[\"    _the\",\"  48.03%\",\"      _T\",\"  24.14%\",\"       -\",\"  10.90%\",\"      _(\",\"   5.48%\",\"      _H\",\"   4.84%\",\"   _this\",\"   2.32%\",\"     _un\",\"   1.20%\",\"    _one\",\"   0.87%\",\"      _a\",\"   0.80%\",\"      _F\",\"   0.40%\"],[\"       ,\",\"  72.75%\",\"     _in\",\"  23.61%\",\"     _at\",\"   0.92%\",\"      _a\",\"   0.88%\",\"     _on\",\"   0.69%\",\"     _no\",\"   0.67%\",\"    _for\",\"   0.31%\",\"    _the\",\"   0.11%\",\"   _with\",\"   0.04%\",\"    _not\",\"   0.02%\"]],[[\"       ,\",\" 100.00%\",\"    _and\",\"   0.01%\",\"       .\",\"   0.00%\",\"     _in\",\"   0.00%\",\" docume\\u2026\",\"   0.00%\",\"      _v\",\"   0.00%\",\"     _or\",\"   0.00%\",\"   _into\",\"   0.00%\",\"     _on\",\"   0.00%\",\"      _b\",\"   0.00%\"],[\"       ,\",\" 100.00%\",\"      _(\",\"   0.00%\",\"       .\",\"   0.00%\",\"       -\",\"   0.00%\",\"     _in\",\"   0.00%\",\"      _\\\"\",\"   0.00%\",\"    _and\",\"   0.00%\",\"     _or\",\"   0.00%\",\"     _to\",\"   0.00%\",\"    _for\",\"   0.00%\"],[\"       ,\",\"  99.31%\",\"      _(\",\"   0.55%\",\"       .\",\"   0.14%\",\"     _in\",\"   0.00%\",\"       -\",\"   0.00%\",\"     _as\",\"   0.00%\",\"      _A\",\"   0.00%\",\"    _and\",\"   0.00%\",\"    _for\",\"   0.00%\",\"      _\\\"\",\"   0.00%\"],[\"       ,\",\"  99.00%\",\"      _(\",\"   0.91%\",\"      _\\\"\",\"   0.04%\",\"       -\",\"   0.01%\",\"    _and\",\"   0.01%\",\"      _S\",\"   0.00%\",\"       .\",\"   0.00%\",\"      _I\",\"   0.00%\",\"      _m\",\"   0.00%\",\"     _in\",\"   0.00%\"],[\"     _of\",\"  97.44%\",\"    _all\",\"   2.56%\",\"    _and\",\"   0.01%\",\"     _or\",\"   0.00%\",\"    _for\",\"   0.00%\",\"  _three\",\"   0.00%\",\"       ,\",\"   0.00%\",\"     _to\",\"   0.00%\",\"   _from\",\"   0.00%\",\"   _both\",\"   0.00%\"],[\"     _at\",\"  63.38%\",\"    CCCC\",\"  11.73%\",\"    EEEE\",\"  10.36%\",\"     _in\",\"   6.28%\",\"    _but\",\"   3.93%\",\"    _one\",\"   1.05%\",\"   _than\",\"   0.67%\",\" _inclu\\u2026\",\"   0.57%\",\"    _for\",\"   0.51%\",\"  _still\",\"   0.24%\"],[\"    _and\",\" 100.00%\",\"     _or\",\"   0.01%\",\"       ,\",\"   0.00%\",\"      _a\",\"   0.00%\",\"     _in\",\"   0.00%\",\"     _to\",\"   0.00%\",\"     _as\",\"   0.00%\",\"    _the\",\"   0.00%\",\"    _for\",\"   0.00%\",\"      _(\",\"   0.00%\"],[\"     _or\",\"  99.06%\",\"      _a\",\"   0.59%\",\"     _in\",\"   0.32%\",\"     _is\",\"   0.01%\",\"       -\",\"   0.01%\",\"       ,\",\"   0.01%\",\"     _to\",\"   0.01%\",\"      _(\",\"   0.01%\",\"    _and\",\"   0.00%\",\"     _St\",\"   0.00%\"],[\"    _and\",\"  98.31%\",\"     _in\",\"   1.59%\",\"     _or\",\"   0.12%\",\"     _to\",\"   0.01%\",\"    _not\",\"   0.00%\",\"       ,\",\"   0.00%\",\"      _(\",\"   0.00%\",\"     _on\",\"   0.00%\",\"    _for\",\"   0.00%\",\"     _at\",\"   0.00%\"],[\"    _and\",\"  94.00%\",\"       ,\",\"   4.82%\",\"     _in\",\"   0.84%\",\"       .\",\"   0.13%\",\"     _or\",\"   0.09%\",\"     _as\",\"   0.08%\",\"    _for\",\"   0.03%\",\"    _the\",\"   0.02%\",\"      _(\",\"   0.01%\",\"       -\",\"   0.00%\"],[\"       ,\",\"  99.94%\",\"    _and\",\"   0.04%\",\"       .\",\"   0.02%\",\"     _in\",\"   0.00%\",\"      _(\",\"   0.00%\",\"      \\\\n\",\"   0.00%\",\"     _or\",\"   0.00%\",\"      _\\\"\",\"   0.00%\",\"     _on\",\"   0.00%\",\"     _as\",\"   0.00%\"],[\"     _of\",\" 100.00%\",\"    _and\",\"   0.00%\",\"     _or\",\"   0.00%\",\"    _all\",\"   0.00%\",\"     _to\",\"   0.00%\",\"    _for\",\"   0.00%\",\"     _in\",\"   0.00%\",\"       ,\",\"   0.00%\",\"       .\",\"   0.00%\",\"      _(\",\"   0.00%\"],[\"       .\",\"  99.19%\",\"       ,\",\"   0.85%\",\" _conta\\u2026\",\"   0.00%\",\"    _all\",\"   0.00%\",\"     _at\",\"   0.00%\",\"     _as\",\"   0.00%\",\"     _no\",\"   0.00%\",\"    _for\",\"   0.00%\",\"   _just\",\"   0.00%\",\"    _yes\",\"   0.00%\"]],[[\"       ,\",\"  97.81%\",\"      _(\",\"   2.03%\",\"    _and\",\"   0.16%\",\"     _in\",\"   0.01%\",\"       -\",\"   0.00%\",\"      _a\",\"   0.00%\",\"       .\",\"   0.00%\",\"    _the\",\"   0.00%\",\"     _or\",\"   0.00%\",\"     _to\",\"   0.00%\"],[\"       ,\",\"  97.44%\",\"    _and\",\"   1.34%\",\"     _in\",\"   1.12%\",\"      _(\",\"   0.08%\",\"      _a\",\"   0.01%\",\"     _at\",\"   0.00%\",\"     _to\",\"   0.00%\",\"      _\\\"\",\"   0.00%\",\"    _the\",\"   0.00%\",\"       -\",\"   0.00%\"],[\"      _\\\"\",\"  48.59%\",\"      _a\",\"  30.42%\",\"       ,\",\"  19.62%\",\"      _(\",\"   1.06%\",\"      _'\",\"   0.09%\",\"     _in\",\"   0.07%\",\"       -\",\"   0.05%\",\"    _and\",\"   0.03%\",\"      _L\",\"   0.01%\",\"     _to\",\"   0.01%\"],[\"     _in\",\"  66.19%\",\"       ,\",\"  33.31%\",\"      \\\\n\",\"   0.36%\",\"       .\",\"   0.05%\",\"    _and\",\"   0.05%\",\"      _(\",\"   0.02%\",\"      _c\",\"   0.02%\",\"     _to\",\"   0.00%\",\"      _\\\"\",\"   0.00%\",\"      _b\",\"   0.00%\"],[\"      _L\",\"  30.56%\",\"      _(\",\"  24.17%\",\"      _'\",\"  14.66%\",\"       ,\",\"  12.74%\",\"    _the\",\"   7.61%\",\"      _\\\"\",\"   3.22%\",\"    _and\",\"   2.14%\",\"     _in\",\"   1.65%\",\"      _M\",\"   1.22%\",\"      _a\",\"   1.02%\"],[\"    _and\",\"  99.50%\",\"    _but\",\"   0.48%\",\"     _or\",\"   0.00%\",\"   _well\",\"   0.00%\",\"       ,\",\"   0.00%\",\"     _st\",\"   0.00%\",\"      _T\",\"   0.00%\",\"   _both\",\"   0.00%\",\" _former\",\"   0.00%\",\"     _as\",\"   0.00%\"],[\"    _and\",\"  98.56%\",\"    _but\",\"   1.00%\",\"     _or\",\"   0.37%\",\"     _we\",\"   0.02%\",\"     _he\",\"   0.01%\",\"     _in\",\"   0.00%\",\"     _at\",\"   0.00%\",\"   _even\",\"   0.00%\",\"       ,\",\"   0.00%\",\"  _still\",\"   0.00%\"],[\"       ,\",\"  66.19%\",\"     _in\",\"  32.25%\",\"    _and\",\"   1.51%\",\"      _(\",\"   0.07%\",\"      \\\\n\",\"   0.01%\",\"     _or\",\"   0.01%\",\"     _is\",\"   0.00%\",\"     _to\",\"   0.00%\",\"    _the\",\"   0.00%\",\"      _a\",\"   0.00%\"],[\"       ,\",\"  93.00%\",\"      _(\",\"   5.41%\",\"     _in\",\"   0.94%\",\"    _and\",\"   0.65%\",\"      _\\\"\",\"   0.00%\",\"      \\\\n\",\"   0.00%\",\"     _or\",\"   0.00%\",\"      _a\",\"   0.00%\",\"     _as\",\"   0.00%\",\"       -\",\"   0.00%\"],[\"      _\\\"\",\"  51.38%\",\"      _(\",\"  40.00%\",\"       ,\",\"   5.25%\",\"       -\",\"   2.40%\",\"      _a\",\"   0.71%\",\"      \\\\n\",\"   0.13%\",\"      __\",\"   0.07%\",\"    _and\",\"   0.03%\",\"     _in\",\"   0.02%\",\"       .\",\"   0.01%\"],[\"     _in\",\"  54.59%\",\"       ,\",\"  33.12%\",\"       .\",\"   3.03%\",\"      _(\",\"   2.63%\",\"       -\",\"   2.44%\",\"      _c\",\"   2.05%\",\"      _b\",\"   1.22%\",\"      \\\\n\",\"   0.53%\",\"      _l\",\"   0.06%\",\"     _co\",\"   0.04%\"],[\"      _(\",\"  95.00%\",\"       ,\",\"   2.20%\",\"    _and\",\"   2.04%\",\"     _in\",\"   0.65%\",\"     _at\",\"   0.09%\",\"      _L\",\"   0.01%\",\"      _\\\"\",\"   0.01%\",\"    _the\",\"   0.00%\",\"      _a\",\"   0.00%\",\"      _I\",\"   0.00%\"],[\"   _vice\",\"  32.28%\",\"      _(\",\"  27.17%\",\"       .\",\"  21.50%\",\"       ,\",\"   8.16%\",\"     _ex\",\"   5.97%\",\"    _and\",\"   1.76%\",\"       -\",\"   1.19%\",\"  _inter\",\"   0.94%\",\"     _or\",\"   0.25%\",\"      _-\",\"   0.23%\"]],[[\"       ,\",\"  99.88%\",\"      _(\",\"   0.17%\",\"     _in\",\"   0.01%\",\"      \\\\n\",\"   0.00%\",\"    _and\",\"   0.00%\",\"      _a\",\"   0.00%\",\"       -\",\"   0.00%\",\"    _the\",\"   0.00%\",\"       .\",\"   0.00%\",\"     _is\",\"   0.00%\"],[\"      _(\",\"  70.31%\",\"   _also\",\"  14.28%\",\"     _in\",\"  10.14%\",\"       ,\",\"   4.23%\",\"      _a\",\"   0.71%\",\"      \\\\n\",\"   0.13%\",\"     _to\",\"   0.11%\",\"    _the\",\"   0.04%\",\"    _not\",\"   0.04%\",\"    _and\",\"   0.03%\"],[\"     _in\",\"  90.31%\",\"   _only\",\"   7.41%\",\"       ,\",\"   1.46%\",\"     _on\",\"   0.36%\",\"    _the\",\"   0.32%\",\"      _(\",\"   0.09%\",\"      _a\",\"   0.00%\",\"      _M\",\"   0.00%\",\"      _T\",\"   0.00%\",\"    _and\",\"   0.00%\"],[\"     _in\",\"  79.62%\",\"       ,\",\"  18.92%\",\"       -\",\"   0.65%\",\"     _to\",\"   0.42%\",\"    _for\",\"   0.31%\",\"      _(\",\"   0.03%\",\"     _of\",\"   0.02%\",\"      _I\",\"   0.02%\",\"      _S\",\"   0.01%\",\"    _set\",\"   0.01%\"],[\"    _all\",\" 100.00%\",\"     _in\",\"   0.00%\",\"    _and\",\"   0.00%\",\"      _(\",\"   0.00%\",\"       ,\",\"   0.00%\",\"      \\\\n\",\"   0.00%\",\"     _to\",\"   0.00%\",\"      _C\",\"   0.00%\",\"       :\",\"   0.00%\",\"      _\\\"\",\"   0.00%\"],[\"      _(\",\"  63.03%\",\"       ,\",\"  27.12%\",\"    _and\",\"   8.53%\",\"     _in\",\"   1.23%\",\"       .\",\"   0.06%\",\"      _a\",\"   0.00%\",\"     _or\",\"   0.00%\",\"    _for\",\"   0.00%\",\"      _\\\"\",\"   0.00%\",\"     _by\",\"   0.00%\"],[\"    _and\",\"  99.62%\",\"       ,\",\"   0.41%\",\"      _(\",\"   0.00%\",\"      _a\",\"   0.00%\",\"    _the\",\"   0.00%\",\"      \\\\n\",\"   0.00%\",\"     _in\",\"   0.00%\",\"     _or\",\"   0.00%\",\"     _to\",\"   0.00%\",\"    _one\",\"   0.00%\"],[\"    _all\",\"  70.88%\",\"    _was\",\"  23.36%\",\"     \\u00e2\\u0122\\u013b\",\"   5.38%\",\" _surfa\\u2026\",\"   0.10%\",\"      's\",\"   0.07%\",\"   _also\",\"   0.06%\",\"  _seems\",\"   0.05%\",\"    _now\",\"   0.02%\",\" _dendr\\u2026\",\"   0.02%\",\"    _may\",\"   0.01%\"],[\"    _not\",\"  97.25%\",\"   _also\",\"   1.60%\",\"    _all\",\"   0.63%\",\"     _at\",\"   0.19%\",\"     _in\",\"   0.09%\",\"    _and\",\"   0.07%\",\"      _a\",\"   0.06%\",\"     _to\",\"   0.03%\",\"    _the\",\"   0.03%\",\"    _one\",\"   0.01%\"],[\"   _only\",\"  43.69%\",\"     _in\",\"  42.34%\",\" _follo\\u2026\",\"   6.49%\",\"    _one\",\"   4.90%\",\"   _more\",\"   1.69%\",\"      _a\",\"   0.42%\",\"     _at\",\"   0.21%\",\"       ,\",\"   0.08%\",\"  _other\",\"   0.03%\",\"    _all\",\"   0.02%\"],[\"      _S\",\"  98.81%\",\"     _in\",\"   0.69%\",\" _others\",\"   0.30%\",\"       ,\",\"   0.16%\",\"       -\",\"   0.01%\",\"    _for\",\"   0.01%\",\"      _\\\"\",\"   0.00%\",\"  _other\",\"   0.00%\",\"      _D\",\"   0.00%\",\"    _one\",\"   0.00%\"],[\" _others\",\"  46.16%\",\"      _S\",\"  22.14%\",\"   _none\",\"  14.98%\",\"      _B\",\"  10.79%\",\"      _A\",\"   2.60%\",\"       ,\",\"   1.31%\",\"    _all\",\"   1.00%\",\"     _in\",\"   0.31%\",\" _anoth\\u2026\",\"   0.15%\",\"  _other\",\"   0.14%\"],[\"       ,\",\"  99.25%\",\"      _(\",\"   0.52%\",\"      _\\\"\",\"   0.16%\",\"        \",\"   0.03%\",\"     _in\",\"   0.02%\",\"       .\",\"   0.02%\",\"       :\",\"   0.01%\",\"    _and\",\"   0.01%\",\"       -\",\"   0.01%\",\"      \\\\n\",\"   0.00%\"]],[[\"       ,\",\"  99.88%\",\"      _(\",\"   0.05%\",\"     _in\",\"   0.03%\",\"      _a\",\"   0.01%\",\"    _and\",\"   0.01%\",\"     _to\",\"   0.00%\",\"       -\",\"   0.00%\",\"    _the\",\"   0.00%\",\"       .\",\"   0.00%\",\"    _for\",\"   0.00%\"],[\"       ,\",\"  97.75%\",\"    _and\",\"   1.85%\",\"      _a\",\"   0.22%\",\"    _the\",\"   0.13%\",\"     _in\",\"   0.07%\",\"      _(\",\"   0.00%\",\"      _\\\"\",\"   0.00%\",\"     _to\",\"   0.00%\",\"       .\",\"   0.00%\",\"    _for\",\"   0.00%\"],[\"  _first\",\"  88.25%\",\"       ,\",\"  10.88%\",\"     _in\",\"   0.87%\",\"    _and\",\"   0.03%\",\"      _(\",\"   0.00%\",\"    _the\",\"   0.00%\",\"   _only\",\"   0.00%\",\"    _for\",\"   0.00%\",\"      _\\\"\",\"   0.00%\",\"       -\",\"   0.00%\"],[\"       ,\",\"  89.62%\",\"    _and\",\"   6.10%\",\"     _in\",\"   4.19%\",\"      _(\",\"   0.11%\",\"       .\",\"   0.00%\",\"     _as\",\"   0.00%\",\"     _or\",\"   0.00%\",\"       -\",\"   0.00%\",\"     _to\",\"   0.00%\",\"     _at\",\"   0.00%\"],[\"    _the\",\"  87.38%\",\"      _(\",\"   8.38%\",\"       ,\",\"   3.96%\",\"     _in\",\"   0.24%\",\"    _and\",\"   0.02%\",\"      _a\",\"   0.02%\",\"      _d\",\"   0.00%\",\"     _to\",\"   0.00%\",\"      _\\\"\",\"   0.00%\",\"     _as\",\"   0.00%\"],[\"    _and\",\"  77.69%\",\"       ,\",\"  22.27%\",\"    _for\",\"   0.01%\",\"      _(\",\"   0.01%\",\"     _as\",\"   0.00%\",\"       -\",\"   0.00%\",\"       .\",\"   0.00%\",\"      \\\\n\",\"   0.00%\",\"     _in\",\"   0.00%\",\"    _the\",\"   0.00%\"],[\"    _the\",\" 100.00%\",\"    _and\",\"   0.00%\",\"   _best\",\"   0.00%\",\"   _most\",\"   0.00%\",\"     _as\",\"   0.00%\",\"      _(\",\"   0.00%\",\"  _first\",\"   0.00%\",\"     _or\",\"   0.00%\",\"     _of\",\"   0.00%\",\"       ,\",\"   0.00%\"],[\"    _not\",\"  42.22%\",\"    _out\",\"  25.61%\",\"    _the\",\"  18.16%\",\"   _only\",\"  11.55%\",\"      _(\",\"   1.54%\",\"       ,\",\"   0.36%\",\"   _very\",\"   0.32%\",\"  _being\",\"   0.09%\",\"    _and\",\"   0.02%\",\"   _well\",\"   0.02%\"],[\"    _the\",\" 100.00%\",\"   _best\",\"   0.00%\",\"    _The\",\"   0.00%\",\"   _also\",\"   0.00%\",\"    _and\",\"   0.00%\",\"    _not\",\"   0.00%\",\"       ,\",\"   0.00%\",\"   _most\",\"   0.00%\",\"   _even\",\"   0.00%\",\"      _a\",\"   0.00%\"],[\"   _best\",\"  99.94%\",\"  _worst\",\"   0.06%\",\"  _least\",\"   0.00%\",\" _lowest\",\"   0.00%\",\"   _most\",\"   0.00%\",\"   _beat\",\"   0.00%\",\"    _low\",\"   0.00%\",\" _great\\u2026\",\"   0.00%\",\"  _under\",\"   0.00%\",\"   _very\",\"   0.00%\"],[\"       ,\",\"  83.88%\",\"       .\",\"  16.00%\",\"    _and\",\"   0.07%\",\"     _as\",\"   0.00%\",\"     _of\",\"   0.00%\",\"    _off\",\"   0.00%\",\"    _out\",\"   0.00%\",\"      _(\",\"   0.00%\",\"       -\",\"   0.00%\",\"       :\",\"   0.00%\"],[\"    _off\",\"  38.34%\",\"   _phyt\",\"   9.39%\",\"   _said\",\"   8.96%\",\"   _days\",\"   8.03%\",\"    _out\",\"   8.03%\",\"      _d\",\"   4.88%\",\"    _Lyn\",\"   3.40%\",\" _there\\u2026\",\"   3.00%\",\" _drain\\u2026\",\"   1.85%\",\"  _input\",\"   1.37%\"],[\"  \\u00e3\\u0125\\u00bc\\u00e3\\u0125\\u00ab\",\"  65.31%\",\"      \\u0125\\u00bd\",\"  28.08%\",\"   _$('.\",\"   1.69%\",\"    TTPS\",\"   1.49%\",\"     DLT\",\"   1.40%\",\"   oscow\",\"   0.54%\",\" elling\\u2026\",\"   0.51%\",\"   umbai\",\"   0.50%\",\"     _'{\",\"   0.18%\",\"     _{}\",\"   0.13%\"]],[[\"   typen\",\" 100.00%\",\" _errno\\u2026\",\"   0.00%\",\"      \\u00bf\\u00bd\",\"   0.00%\",\" omitem\\u2026\",\"   0.00%\",\"  gorith\",\"   0.00%\",\" \\u010d\\\\n\\u010d\\\\n_\",\"   0.00%\",\" prehens\",\"   0.00%\",\"  _orche\",\"   0.00%\",\" ioxida\\u2026\",\"   0.00%\",\"   othal\",\"   0.00%\"],[\"       ,\",\"  87.25%\",\"     _in\",\"   7.27%\",\"     _at\",\"   3.54%\",\"      _(\",\"   1.43%\",\"    _for\",\"   0.21%\",\"     _on\",\"   0.07%\",\"    _and\",\"   0.04%\",\"      _a\",\"   0.03%\",\"    _sub\",\"   0.02%\",\"     _so\",\"   0.02%\"],[\"       ,\",\"  89.00%\",\"       -\",\"  10.79%\",\"      _(\",\"   0.13%\",\"       .\",\"   0.03%\",\"      _v\",\"   0.02%\",\"      _p\",\"   0.01%\",\"    _and\",\"   0.00%\",\"       _\",\"   0.00%\",\"     _at\",\"   0.00%\",\"     _by\",\"   0.00%\"],[\"       -\",\"  85.38%\",\"       ,\",\"  13.09%\",\"    _and\",\"   1.20%\",\"   _part\",\"   0.15%\",\"     _or\",\"   0.07%\",\"       .\",\"   0.05%\",\"      _(\",\"   0.04%\",\"    _one\",\"   0.02%\",\"       _\",\"   0.00%\",\"      _p\",\"   0.00%\"],[\"  _three\",\"  83.06%\",\"   _both\",\"  10.56%\",\"    _who\",\"   2.29%\",\"       ,\",\"   1.65%\",\"       -\",\"   0.80%\",\"   _four\",\"   0.35%\",\"  _lower\",\"   0.30%\",\"  _given\",\"   0.26%\",\"   _land\",\"   0.20%\",\"  _times\",\"   0.11%\"],[\"       ,\",\"  84.75%\",\"    _and\",\"  15.20%\",\"     _or\",\"   0.01%\",\"      _(\",\"   0.00%\",\"       -\",\"   0.00%\",\"      _a\",\"   0.00%\",\"   _both\",\"   0.00%\",\"     _to\",\"   0.00%\",\"     _in\",\"   0.00%\",\"     _as\",\"   0.00%\"],[\"  \\u00d1\\u0124\\u00d0\\u00b5\\u00d1\\u0122\",\"  43.84%\",\" gorithm\",\"  39.91%\",\"      \\u00bf\\u00bd\",\"   8.37%\",\" acebook\",\"   1.60%\",\"  estone\",\"   1.41%\",\"   eston\",\"   0.97%\",\" _THEORY\",\"   0.94%\",\" inetics\",\"   0.71%\",\"    mpty\",\"   0.52%\",\"    ethe\",\"   0.50%\"],[\" _before\",\"  99.88%\",\"   _palp\",\"   0.05%\",\"       ,\",\"   0.04%\",\"  _match\",\"   0.02%\",\"  _after\",\"   0.00%\",\"    _and\",\"   0.00%\",\"       .\",\"   0.00%\",\"  before\",\"   0.00%\",\"     _un\",\"   0.00%\",\"   BLOCK\",\"   0.00%\"],[\"    ethe\",\"  78.50%\",\" _\\u00cf\\u0126\\u00ce\\u00bf\\u00cf\\u0127\",\"   8.80%\",\"  schild\",\"   6.15%\",\" _compar\",\"   1.82%\",\"    hmad\",\"   0.99%\",\"  lation\",\"   0.96%\",\"   _what\",\"   0.58%\",\"   stadt\",\"   0.51%\",\" \\u00d0\\u00b0\\u00d1\\u0124\\u00d0\\u00b5\\u2026\",\"   0.38%\",\"  _scrut\",\"   0.33%\"],[\"   _feas\",\"  99.75%\",\" _presum\",\"   0.13%\",\" _indist\",\"   0.03%\",\" _revie\\u2026\",\"   0.03%\",\"   _insu\",\"   0.01%\",\" _ancest\",\"   0.01%\",\"   _Abor\",\"   0.00%\",\"   _curs\",\"   0.00%\",\" _escap\\u2026\",\"   0.00%\",\"    _sib\",\"   0.00%\"],[\"  everal\",\"  75.19%\",\"  \\u00eb\\u012d\\u012a\\u00eb\\u012d\\u00a4\",\"  16.27%\",\"   empre\",\"   5.80%\",\" _errone\",\"   1.22%\",\"  debted\",\"   0.84%\",\"   cknow\",\"   0.25%\",\"  _glimp\",\"   0.13%\",\" ometim\\u2026\",\"   0.08%\",\"    \\u00d1\\u012b\\u00d0\\u00b5\",\"   0.07%\",\" ffected\",\"   0.06%\"],[\"  _times\",\"  99.62%\",\"   Times\",\"   0.12%\",\"   _time\",\"   0.09%\",\"    hmad\",\"   0.08%\",\"  _Times\",\"   0.05%\",\" ottenh\\u2026\",\"   0.02%\",\"   times\",\"   0.01%\",\" smallm\\u2026\",\"   0.00%\",\"   _feas\",\"   0.00%\",\"   _refr\",\"   0.00%\"],[\"   _also\",\"  64.75%\",\"  _again\",\"  27.00%\",\"  _third\",\"   2.98%\",\"   _both\",\"   1.92%\",\"       :\",\"   1.30%\",\" _second\",\"   1.28%\",\" _furth\\u2026\",\"   0.38%\",\"      _(\",\"   0.13%\",\"    _and\",\"   0.12%\",\"       ,\",\"   0.11%\"]],[[\"       ,\",\"  96.31%\",\"     _in\",\"   3.51%\",\"       -\",\"   0.07%\",\"    _and\",\"   0.06%\",\"     _is\",\"   0.05%\",\"       .\",\"   0.02%\",\"    _the\",\"   0.01%\",\"     _at\",\"   0.00%\",\"      _(\",\"   0.00%\",\"      \\\\n\",\"   0.00%\"],[\"       ,\",\"  95.62%\",\"      _a\",\"   2.59%\",\"     _in\",\"   1.19%\",\"       -\",\"   0.20%\",\"    _the\",\"   0.16%\",\"    _not\",\"   0.16%\",\"     _at\",\"   0.04%\",\"     _to\",\"   0.03%\",\"    _and\",\"   0.01%\",\"       .\",\"   0.00%\"],[\"   _most\",\"  97.62%\",\"   _only\",\"   2.16%\",\"  _first\",\"   0.18%\",\"   _best\",\"   0.00%\",\"       ,\",\"   0.00%\",\"   _last\",\"   0.00%\",\"    _all\",\"   0.00%\",\"   _more\",\"   0.00%\",\"   _very\",\"   0.00%\",\"   _time\",\"   0.00%\"],[\"       ,\",\"  62.06%\",\"     _in\",\"  33.75%\",\"     _he\",\"   1.88%\",\"    _and\",\"   1.07%\",\"     _of\",\"   0.47%\",\"      _(\",\"   0.24%\",\"     _we\",\"   0.24%\",\"      _I\",\"   0.22%\",\"     _to\",\"   0.07%\",\"    _for\",\"   0.00%\"],[\"    _the\",\"  43.03%\",\"      _a\",\"  28.66%\",\"      _(\",\"  26.09%\",\"       ,\",\"   2.01%\",\"     _in\",\"   0.16%\",\"    _all\",\"   0.03%\",\"    _and\",\"   0.01%\",\"     _to\",\"   0.01%\",\"    _any\",\"   0.00%\",\"   _most\",\"   0.00%\"],[\"       ,\",\" 100.00%\",\"    _and\",\"   0.00%\",\"      _(\",\"   0.00%\",\"       .\",\"   0.00%\",\"     _or\",\"   0.00%\",\"      _\\\"\",\"   0.00%\",\"     _in\",\"   0.00%\",\"     _is\",\"   0.00%\",\"       \\u002f\",\"   0.00%\",\"      _I\",\"   0.00%\"],[\"    _and\",\"  95.62%\",\"     _in\",\"   1.80%\",\"       ,\",\"   1.16%\",\"    _the\",\"   0.80%\",\"      _a\",\"   0.60%\",\"     _as\",\"   0.01%\",\"    _for\",\"   0.00%\",\"      _(\",\"   0.00%\",\"     _to\",\"   0.00%\",\"     _by\",\"   0.00%\"],[\"     _is\",\"  40.81%\",\"    _and\",\"  31.81%\",\"       ,\",\"  26.38%\",\"    _all\",\"   0.55%\",\"    _was\",\"   0.45%\",\"       -\",\"   0.01%\",\"      _(\",\"   0.01%\",\"     _in\",\"   0.00%\",\"    _the\",\"   0.00%\",\"     _at\",\"   0.00%\"],[\"    _the\",\" 100.00%\",\"      _a\",\"   0.01%\",\"       ,\",\"   0.00%\",\"     _in\",\"   0.00%\",\"      _F\",\"   0.00%\",\"     _as\",\"   0.00%\",\"      _T\",\"   0.00%\",\"    _and\",\"   0.00%\",\"    _all\",\"   0.00%\",\"   _also\",\"   0.00%\"],[\"   _only\",\"  99.94%\",\"   _most\",\"   0.01%\",\"  _first\",\"   0.01%\",\"   _time\",\"   0.01%\",\"   _best\",\"   0.00%\",\"   _last\",\"   0.00%\",\"   _very\",\"   0.00%\",\"       ,\",\"   0.00%\",\"   _real\",\"   0.00%\",\"    _all\",\"   0.00%\"],[\"     _of\",\" 100.00%\",\"      of\",\"   0.00%\",\"     _Of\",\"   0.00%\",\"     _OF\",\"   0.00%\",\"     _de\",\"   0.00%\",\"      _o\",\"   0.00%\",\"   _time\",\"   0.00%\",\" _there\\u2026\",\"   0.00%\",\"     _in\",\"   0.00%\",\"      Of\",\"   0.00%\"],[\"   _time\",\" 100.00%\",\"    _all\",\"   0.00%\",\"      _T\",\"   0.00%\",\"   _date\",\"   0.00%\",\"    _the\",\"   0.00%\",\"     _no\",\"   0.00%\",\"   _real\",\"   0.00%\",\"  _total\",\"   0.00%\",\"    _per\",\"   0.00%\",\"      _d\",\"   0.00%\"],[\"       ,\",\" 100.00%\",\"       :\",\"   0.00%\",\"    _for\",\"   0.00%\",\"     ...\",\"   0.00%\",\"       .\",\"   0.00%\",\"      _(\",\"   0.00%\",\"      _\\\"\",\"   0.00%\",\"      _I\",\"   0.00%\",\" _except\",\"   0.00%\",\"    _and\",\"   0.00%\"]],[[\"  sembly\",\"  84.69%\",\"     }{~\",\"  13.83%\",\"   PDATE\",\"   0.65%\",\"  scious\",\"   0.57%\",\" acebook\",\"   0.17%\",\" ccordi\\u2026\",\"   0.06%\",\" parison\",\"   0.02%\",\"  chemic\",\"   0.02%\",\"  arlier\",\"   0.01%\",\" gorithm\",\"   0.01%\"],[\"  sembly\",\"  59.00%\",\" icroso\\u2026\",\"  21.72%\",\" acebook\",\"  16.91%\",\"   uvant\",\"   1.22%\",\"  chemic\",\"   0.58%\",\" _prede\\u2026\",\"   0.17%\",\"    amss\",\"   0.10%\",\"  scious\",\"   0.09%\",\"    uilt\",\"   0.08%\",\"      \\u0125\\u00bd\",\"   0.05%\"],[\" acebook\",\"  82.69%\",\" icroso\\u2026\",\"   5.28%\",\" _prede\\u2026\",\"   5.28%\",\"     }{~\",\"   4.11%\",\"  _doxor\",\"   0.92%\",\" \\u010d\\\\n\\u010d\\\\n_\",\"   0.71%\",\"   ORAND\",\"   0.43%\",\"   uvant\",\"   0.18%\",\"    amss\",\"   0.16%\",\"   PDATE\",\"   0.10%\"],[\" acebook\",\"  43.91%\",\" \\u010d\\\\n\\u010d\\\\n_\",\"  30.17%\",\"     }{~\",\"  20.73%\",\" icroso\\u2026\",\"   4.62%\",\"   PDATE\",\"   0.30%\",\" _prede\\u2026\",\"   0.26%\",\"   uvant\",\"   0.01%\",\"  ERTYPE\",\"   0.00%\",\"  sembly\",\"   0.00%\",\"   ORAND\",\"   0.00%\"],[\" _prede\\u2026\",\" 100.00%\",\" \\u010d\\\\n\\u010d\\\\n_\",\"   0.01%\",\"  sembly\",\"   0.00%\",\" icroso\\u2026\",\"   0.00%\",\"   uvant\",\"   0.00%\",\" acebook\",\"   0.00%\",\"   PDATE\",\"   0.00%\",\"     }{~\",\"   0.00%\",\"   ORAND\",\"   0.00%\",\" iversal\",\"   0.00%\"],[\" \\u010d\\\\n\\u010d\\\\n_\",\"  88.75%\",\" _prede\\u2026\",\"   9.36%\",\" acebook\",\"   1.84%\",\" icroso\\u2026\",\"   0.01%\",\" ometim\\u2026\",\"   0.00%\",\"   \\\"}](#\",\"   0.00%\",\"   uvant\",\"   0.00%\",\"   ORAND\",\"   0.00%\",\"     }{~\",\"   0.00%\",\"  sembly\",\"   0.00%\"],[\" icroso\\u2026\",\"  52.06%\",\" _prede\\u2026\",\"  40.56%\",\" \\u010d\\\\n\\u010d\\\\n_\",\"   7.05%\",\"  sembly\",\"   0.21%\",\"   PDATE\",\"   0.11%\",\" acebook\",\"   0.03%\",\" ometim\\u2026\",\"   0.02%\",\"     }{~\",\"   0.00%\",\"   uvant\",\"   0.00%\",\"   \\\"}](#\",\"   0.00%\"],[\" _prede\\u2026\",\"  95.25%\",\" \\u010d\\\\n\\u010d\\\\n_\",\"   2.38%\",\" icroso\\u2026\",\"   1.06%\",\"  sembly\",\"   0.53%\",\"   PDATE\",\"   0.42%\",\"   brevi\",\"   0.13%\",\"   \\\"}](#\",\"   0.09%\",\"   empre\",\"   0.02%\",\" iversal\",\"   0.02%\",\" parison\",\"   0.01%\"],[\" \\u010d\\\\n\\u010d\\\\n_\",\"  97.00%\",\" _prede\\u2026\",\"   2.93%\",\" icroso\\u2026\",\"   0.03%\",\"     bsy\",\"   0.00%\",\" _trigl\\u2026\",\"   0.00%\",\"   \\\"}](#\",\"   0.00%\",\" acebook\",\"   0.00%\",\"     }{~\",\"   0.00%\",\"   _opio\",\"   0.00%\",\"  _doxor\",\"   0.00%\"],[\" \\u010d\\\\n\\u010d\\\\n_\",\"  91.81%\",\" _prede\\u2026\",\"   8.02%\",\"  _Leban\",\"   0.18%\",\" _quest\\u2026\",\"   0.01%\",\"     }{~\",\"   0.01%\",\"  ERTYPE\",\"   0.00%\",\" _trigl\\u2026\",\"   0.00%\",\"   ORAND\",\"   0.00%\",\"   PDATE\",\"   0.00%\",\"     bsy\",\"   0.00%\"],[\" \\u010d\\\\n\\u010d\\\\n_\",\"  99.75%\",\" icroso\\u2026\",\"   0.25%\",\" \\\\n\\\\n\\\\n_\",\"   0.00%\",\" acebook\",\"   0.00%\",\"    _\\u002f*!\",\"   0.00%\",\" ometim\\u2026\",\"   0.00%\",\"   PDATE\",\"   0.00%\",\"  ERTYPE\",\"   0.00%\",\"   \\\"}](#\",\"   0.00%\",\" \\u00e2\\u0122\\u0135\\u00e2\\u0122\\u0135\\u2026\",\"   0.00%\"],[\" _prede\\u2026\",\"  95.44%\",\"   _opio\",\"   4.46%\",\" \\u010d\\\\n\\u010d\\\\n_\",\"   0.05%\",\" _photo\\u2026\",\"   0.00%\",\" ometim\\u2026\",\"   0.00%\",\"   PDATE\",\"   0.00%\",\"   ORAND\",\"   0.00%\",\"  _occas\",\"   0.00%\",\" icroso\\u2026\",\"   0.00%\",\"  gorith\",\"   0.00%\"],[\" \\u010d\\\\n\\u010d\\\\n_\",\" 100.00%\",\" icroso\\u2026\",\"   0.00%\",\" \\\\n\\\\n\\\\n_\",\"   0.00%\",\"   \\\"}](#\",\"   0.00%\",\" opyrig\\u2026\",\"   0.00%\",\" acebook\",\"   0.00%\",\" _prede\\u2026\",\"   0.00%\",\"  ERTYPE\",\"   0.00%\",\"   PDATE\",\"   0.00%\",\"    _\\u002f*!\",\"   0.00%\"]],[[\"       .\",\"   3.11%\",\"      \\\\n\",\"   2.50%\",\"       ,\",\"   2.28%\",\"     _is\",\"   1.11%\",\"       u\",\"   1.04%\",\"      's\",\"   0.95%\",\"    _was\",\"   0.92%\",\"     ics\",\"   0.89%\",\"  uation\",\"   0.89%\",\"       )\",\"   0.84%\"],[\"      _a\",\"   7.80%\",\"    _not\",\"   5.04%\",\"    _the\",\"   4.73%\",\"     _an\",\"   1.58%\",\"     _in\",\"   1.36%\",\"     _to\",\"   1.22%\",\"   _also\",\"   1.11%\",\"   _only\",\"   0.99%\",\"     _so\",\"   0.93%\",\"   _just\",\"   0.92%\"],[\"  _first\",\"   9.00%\",\"   _only\",\"   4.82%\",\"   _same\",\"   4.53%\",\"   _last\",\"   2.97%\",\"   _most\",\"   2.79%\",\"   _best\",\"   1.86%\",\"      \\\\n\",\"   0.99%\",\"    _one\",\"   0.98%\",\" _second\",\"   0.78%\",\"   _case\",\"   0.49%\"],[\"  _thing\",\"  10.50%\",\"    _way\",\"   5.80%\",\"     _of\",\"   5.28%\",\"       .\",\"   3.86%\",\"      _I\",\"   2.65%\",\"       ,\",\"   2.07%\",\"     _in\",\"   1.66%\",\"  _place\",\"   1.51%\",\"   _time\",\"   1.29%\",\"       -\",\"   1.25%\"],[\"    _the\",\"  23.16%\",\"    _all\",\"  14.05%\",\"   _them\",\"  12.80%\",\"  _times\",\"   4.42%\",\"    _his\",\"   3.55%\",\"     _my\",\"   3.44%\",\"      _a\",\"   1.96%\",\"   _both\",\"   1.48%\",\"    _any\",\"   1.19%\",\"    _our\",\"   0.95%\"],[\"       ,\",\"  32.81%\",\"    _and\",\"  25.70%\",\"       .\",\"  16.62%\",\"    _for\",\"   3.29%\",\"       ;\",\"   2.04%\",\"      .\\\"\",\"   1.31%\",\"     _or\",\"   1.03%\",\"     \\u00e2\\u0122\\u0136\",\"   0.88%\",\"      ,\\\"\",\"   0.56%\",\"   _when\",\"   0.50%\"],[\"    _and\",\"  29.12%\",\"    _the\",\"  26.73%\",\"    _but\",\"   8.69%\",\"     _it\",\"   2.34%\",\"      _I\",\"   1.71%\",\"    _was\",\"   1.37%\",\"     _of\",\"   1.17%\",\"    _not\",\"   1.14%\",\"      _a\",\"   0.94%\",\"  _worst\",\"   0.91%\"],[\"    _was\",\"  84.69%\",\"     _is\",\"   2.33%\",\"  _would\",\"   1.52%\",\"   _wasn\",\"   1.41%\",\"      's\",\"   1.24%\",\"     \\u00e2\\u0122\\u013b\",\"   1.05%\",\"    _had\",\"   0.83%\",\" _seemed\",\"   0.64%\",\"   _must\",\"   0.35%\",\"  _could\",\"   0.30%\"],[\"    _the\",\"  71.94%\",\"      _a\",\"   3.31%\",\"   _also\",\"   1.83%\",\"    _not\",\"   1.77%\",\"  _worse\",\"   1.09%\",\"    _all\",\"   1.03%\",\" _always\",\"   0.89%\",\"    _bad\",\"   0.61%\",\"   _just\",\"   0.59%\",\"  _never\",\"   0.58%\"],[\"  _worst\",\"  84.94%\",\"   _best\",\"   3.62%\",\"    _bad\",\"   0.78%\",\"   _most\",\"   0.76%\",\"   _last\",\"   0.63%\",\"      \\\\n\",\"   0.55%\",\"  _least\",\"   0.43%\",\"   _only\",\"   0.43%\",\"  _worse\",\"   0.41%\",\"   _very\",\"   0.29%\"],[\"     _of\",\"  84.19%\",\"       .\",\"   6.49%\",\"       ,\",\"   2.24%\",\"      .\\\"\",\"   0.68%\",\"      \\\\n\",\"   0.50%\",\"      ,\\\"\",\"   0.34%\",\"     \\u00e2\\u0122\\u0136\",\"   0.30%\",\"   _time\",\"   0.22%\",\"    .\\u00e2\\u0122\\u013f\",\"   0.21%\",\"       :\",\"   0.21%\"],[\"  _times\",\"  76.44%\",\"   _days\",\"   7.80%\",\"      \\\\n\",\"   2.46%\",\"    _the\",\"   1.29%\",\"  _years\",\"   0.75%\",\"    _all\",\"   0.66%\",\" _things\",\"   0.63%\",\" _nights\",\"   0.38%\",\" _seaso\\u2026\",\"   0.34%\",\"   _time\",\"   0.32%\"],[\"       .\",\"  41.22%\",\"       ,\",\"  30.61%\",\"      .\\\"\",\"   5.66%\",\"      ,\\\"\",\"   1.84%\",\"       ;\",\"   1.78%\",\"    _and\",\"   1.55%\",\"    .\\u00e2\\u0122\\u013f\",\"   1.43%\",\"       :\",\"   1.22%\",\"     \\u00e2\\u0122\\u0136\",\"   1.12%\",\"    ,\\u00e2\\u0122\\u013f\",\"   0.78%\"]]],\"hoverlabel\":{\"bgcolor\":\"rgb(42, 42, 50)\",\"font\":{\"family\":\"Monospace\"}},\"hovertemplate\":\"%{customdata[0]}%{customdata[1]}\\u003cbr\\u003e%{customdata[2]}%{customdata[3]}\\u003cbr\\u003e%{customdata[4]}%{customdata[5]}\\u003cbr\\u003e%{customdata[6]}%{customdata[7]}\\u003cbr\\u003e%{customdata[8]}%{customdata[9]}\\u003cbr\\u003e%{customdata[10]}%{customdata[11]}\\u003cbr\\u003e%{customdata[12]}%{customdata[13]}\\u003cbr\\u003e%{customdata[14]}%{customdata[15]}\\u003cbr\\u003e%{customdata[16]}%{customdata[17]}\\u003cbr\\u003e%{customdata[18]}%{customdata[19]}\\u003cbr\\u003e\\u003cextra\\u003e\\u003c\\u002fextra\\u003e\",\"text\":[[\"it\",\"_was\",\"_the\",\"_best\",\"_of\",\"_times\",\",\",\"_it\",\"_was\",\"_the\",\"ometim\\u2026\",\"_of\",\"_times\"],[\"_dehyd\\u2026\",\"commut\\u2026\",\"_Pales\\u2026\",\"_(\",\",\",\"_a\",\"14514\",\"_(\",\",\",\",\",\",\",\",\",\"_(\"],[\"\\\\n\",\",\",\",\",\",\",\"ermal\",\"_to\",\"_and\",\",\",\",\",\",\",\",\",\"_a\",\"_to\"],[\",\",\",\",\"_(\",\"_good\",\"\\\\n\",\"_with\",\"_and\",\"_and\",\"_or\",\"_or\",\"_and\",\",\",\"-\"],[\"_the\",\"_also\",\"_I\",\",\",\"_re\",\"_no\",\",\",\",\",\",\",\",\",\",\",\"_the\",\",\"],[\",\",\",\",\",\",\",\",\"_of\",\"_at\",\"_and\",\"_or\",\"_and\",\"_and\",\",\",\"_of\",\".\"],[\",\",\",\",\"_\\\"\",\"_in\",\"_L\",\"_and\",\"_and\",\",\",\",\",\"_\\\"\",\"_in\",\"_(\",\"_vice\"],[\",\",\"_(\",\"_in\",\"_in\",\"_all\",\"_(\",\"_and\",\"_all\",\"_not\",\"_only\",\"_S\",\"_others\",\",\"],[\",\",\",\",\"_first\",\",\",\"_the\",\"_and\",\"_the\",\"_not\",\"_the\",\"_best\",\",\",\"_off\",\"\\u00e3\\u0125\\u00bc\\u00e3\\u0125\\u00ab\"],[\"typen\",\",\",\",\",\"-\",\"_three\",\",\",\"\\u00d1\\u0124\\u00d0\\u00b5\\u00d1\\u0122\",\"_before\",\"ethe\",\"_feas\",\"everal\",\"_times\",\"_also\"],[\",\",\",\",\"_most\",\",\",\"_the\",\",\",\"_and\",\"_is\",\"_the\",\"_only\",\"_of\",\"_time\",\",\"],[\"sembly\",\"sembly\",\"acebook\",\"acebook\",\"_prede\\u2026\",\"\\u010d\\\\n\\u010d\\\\n_\",\"icroso\\u2026\",\"_prede\\u2026\",\"\\u010d\\\\n\\u010d\\\\n_\",\"\\u010d\\\\n\\u010d\\\\n_\",\"\\u010d\\\\n\\u010d\\\\n_\",\"_prede\\u2026\",\"\\u010d\\\\n\\u010d\\\\n_\"],[\".\",\"_a\",\"_first\",\"_thing\",\"_the\",\",\",\"_and\",\"_was\",\"_the\",\"_worst\",\"_of\",\"_times\",\".\"]],\"texttemplate\":\"\\u003cb\\u003e%{text}\\u003c\\u002fb\\u003e\",\"x\":[\"it\",\"_was\\u200c\",\"_the\\u200c\\u200c\",\"_best\\u200c\\u200c\\u200c\",\"_of\\u200c\\u200c\\u200c\\u200c\",\"_times\\u200c\\u200c\\u200c\\u200c\\u200c\",\",\\u200c\\u200c\\u200c\\u200c\\u200c\\u200c\",\"_it\\u200c\\u200c\\u200c\\u200c\\u200c\\u200c\\u200c\",\"_was\\u200c\\u200c\\u200c\\u200c\\u200c\\u200c\\u200c\\u200c\",\"_the\\u200c\\u200c\\u200c\\u200c\\u200c\\u200c\\u200c\\u200c\\u200c\",\"_worst\\u200c\\u200c\\u200c\\u200c\\u200c\\u200c\\u200c\\u200c\\u200c\\u200c\",\"_of\\u200c\\u200c\\u200c\\u200c\\u200c\\u200c\\u200c\\u200c\\u200c\\u200c\\u200c\",\"_times\\u200c\\u200c\\u200c\\u200c\\u200c\\u200c\\u200c\\u200c\\u200c\\u200c\\u200c\\u200c\"],\"y\":[\"0\",\"2\",\"4\",\"6\",\"8\",\"10\",\"12\",\"14\",\"16\",\"18\",\"20\",\"22\",\"output\"],\"z\":[[-0.0,-0.0,-0.0,-0.0,-0.0,-0.0,-0.0,-0.0,-0.0,-0.0,0.0006265640258789062,-0.0,-0.0],[0.154541015625,0.086181640625,0.0051116943359375,0.26953125,1.4453125,0.340576171875,0.0543212890625,0.11956787109375,0.466796875,1.419921875,0.0784912109375,0.079345703125,0.6357421875],[0.9755859375,0.406005859375,6.002187728881836e-05,0.07415771484375,1.48046875,0.5771484375,0.1497802734375,0.1734619140625,0.00926971435546875,8.887052536010742e-05,0.385009765625,0.227783203125,0.494384765625],[1.087890625,0.07110595703125,1.4716796875,0.359130859375,1.3974609375,0.9814453125,0.90380859375,0.1663818359375,0.6787109375,0.6103515625,0.0244903564453125,0.84375,1.5263671875],[1.8046875,2.09375,2.13671875,0.002712249755859375,1.2529296875,1.41796875,0.80078125,0.67529296875,0.0236968994140625,1.783203125,2.03515625,1.5634765625,0.75634765625],[0.0014257431030273438,0.0006852149963378906,0.04510498046875,0.05828857421875,0.11981201171875,1.328125,0.0017499923706054688,0.062042236328125,0.0927734375,0.2705078125,0.00592803955078125,0.0004401206970214844,0.04876708984375],[0.11187744140625,0.1405029296875,1.1005859375,0.671875,1.8740234375,0.0301971435546875,0.08404541015625,0.70849609375,0.302001953125,1.005859375,1.1796875,0.25390625,1.6630859375],[0.01285552978515625,0.95166015625,0.392578125,0.578125,2.0325183868408203e-05,0.91357421875,0.0269012451171875,0.77099609375,0.1605224609375,1.171875,0.07794189453125,1.482421875,0.0538330078125],[0.010345458984375,0.12335205078125,0.395751953125,0.409912109375,0.4716796875,0.5322265625,3.4809112548828125e-05,1.3955078125,-0.0,0.0054931640625,0.445556640625,2.443359375,0.94482421875],[1.1265277862548828e-05,0.52294921875,0.358154296875,0.478515625,0.69287109375,0.427734375,1.3251953125,0.01125335693359375,0.89990234375,0.0193634033203125,0.81884765625,0.0302276611328125,0.9775390625],[0.1715087890625,0.230712890625,0.11749267578125,0.85888671875,1.1650390625,0.0002884864807128906,0.2388916015625,1.1376953125,0.00067138671875,0.00310516357421875,-0.0,9.59634780883789e-06,2.7298927307128906e-05],[0.4970703125,1.0703125,0.74169921875,1.2255859375,0.001316070556640625,0.402587890625,0.91796875,0.25830078125,0.134765625,0.294677734375,0.017578125,0.1868896484375,1.4722347259521484e-05],[7.921875,6.6015625,6.875,5.953125,4.08203125,2.515625,3.177734375,1.0087890625,1.9921875,1.1064453125,0.9287109375,1.462890625,2.171875]],\"zmax\":7.921875,\"zmin\":-0.0,\"type\":\"heatmap\"}],                        {\"template\":{\"data\":{\"histogram2dcontour\":[{\"type\":\"histogram2dcontour\",\"colorbar\":{\"outlinewidth\":0,\"ticks\":\"\"},\"colorscale\":[[0.0,\"#0d0887\"],[0.1111111111111111,\"#46039f\"],[0.2222222222222222,\"#7201a8\"],[0.3333333333333333,\"#9c179e\"],[0.4444444444444444,\"#bd3786\"],[0.5555555555555556,\"#d8576b\"],[0.6666666666666666,\"#ed7953\"],[0.7777777777777778,\"#fb9f3a\"],[0.8888888888888888,\"#fdca26\"],[1.0,\"#f0f921\"]]}],\"choropleth\":[{\"type\":\"choropleth\",\"colorbar\":{\"outlinewidth\":0,\"ticks\":\"\"}}],\"histogram2d\":[{\"type\":\"histogram2d\",\"colorbar\":{\"outlinewidth\":0,\"ticks\":\"\"},\"colorscale\":[[0.0,\"#0d0887\"],[0.1111111111111111,\"#46039f\"],[0.2222222222222222,\"#7201a8\"],[0.3333333333333333,\"#9c179e\"],[0.4444444444444444,\"#bd3786\"],[0.5555555555555556,\"#d8576b\"],[0.6666666666666666,\"#ed7953\"],[0.7777777777777778,\"#fb9f3a\"],[0.8888888888888888,\"#fdca26\"],[1.0,\"#f0f921\"]]}],\"heatmap\":[{\"type\":\"heatmap\",\"colorbar\":{\"outlinewidth\":0,\"ticks\":\"\"},\"colorscale\":[[0.0,\"#0d0887\"],[0.1111111111111111,\"#46039f\"],[0.2222222222222222,\"#7201a8\"],[0.3333333333333333,\"#9c179e\"],[0.4444444444444444,\"#bd3786\"],[0.5555555555555556,\"#d8576b\"],[0.6666666666666666,\"#ed7953\"],[0.7777777777777778,\"#fb9f3a\"],[0.8888888888888888,\"#fdca26\"],[1.0,\"#f0f921\"]]}],\"heatmapgl\":[{\"type\":\"heatmapgl\",\"colorbar\":{\"outlinewidth\":0,\"ticks\":\"\"},\"colorscale\":[[0.0,\"#0d0887\"],[0.1111111111111111,\"#46039f\"],[0.2222222222222222,\"#7201a8\"],[0.3333333333333333,\"#9c179e\"],[0.4444444444444444,\"#bd3786\"],[0.5555555555555556,\"#d8576b\"],[0.6666666666666666,\"#ed7953\"],[0.7777777777777778,\"#fb9f3a\"],[0.8888888888888888,\"#fdca26\"],[1.0,\"#f0f921\"]]}],\"contourcarpet\":[{\"type\":\"contourcarpet\",\"colorbar\":{\"outlinewidth\":0,\"ticks\":\"\"}}],\"contour\":[{\"type\":\"contour\",\"colorbar\":{\"outlinewidth\":0,\"ticks\":\"\"},\"colorscale\":[[0.0,\"#0d0887\"],[0.1111111111111111,\"#46039f\"],[0.2222222222222222,\"#7201a8\"],[0.3333333333333333,\"#9c179e\"],[0.4444444444444444,\"#bd3786\"],[0.5555555555555556,\"#d8576b\"],[0.6666666666666666,\"#ed7953\"],[0.7777777777777778,\"#fb9f3a\"],[0.8888888888888888,\"#fdca26\"],[1.0,\"#f0f921\"]]}],\"surface\":[{\"type\":\"surface\",\"colorbar\":{\"outlinewidth\":0,\"ticks\":\"\"},\"colorscale\":[[0.0,\"#0d0887\"],[0.1111111111111111,\"#46039f\"],[0.2222222222222222,\"#7201a8\"],[0.3333333333333333,\"#9c179e\"],[0.4444444444444444,\"#bd3786\"],[0.5555555555555556,\"#d8576b\"],[0.6666666666666666,\"#ed7953\"],[0.7777777777777778,\"#fb9f3a\"],[0.8888888888888888,\"#fdca26\"],[1.0,\"#f0f921\"]]}],\"mesh3d\":[{\"type\":\"mesh3d\",\"colorbar\":{\"outlinewidth\":0,\"ticks\":\"\"}}],\"scatter\":[{\"fillpattern\":{\"fillmode\":\"overlay\",\"size\":10,\"solidity\":0.2},\"type\":\"scatter\"}],\"parcoords\":[{\"type\":\"parcoords\",\"line\":{\"colorbar\":{\"outlinewidth\":0,\"ticks\":\"\"}}}],\"scatterpolargl\":[{\"type\":\"scatterpolargl\",\"marker\":{\"colorbar\":{\"outlinewidth\":0,\"ticks\":\"\"}}}],\"bar\":[{\"error_x\":{\"color\":\"#2a3f5f\"},\"error_y\":{\"color\":\"#2a3f5f\"},\"marker\":{\"line\":{\"color\":\"#E5ECF6\",\"width\":0.5},\"pattern\":{\"fillmode\":\"overlay\",\"size\":10,\"solidity\":0.2}},\"type\":\"bar\"}],\"scattergeo\":[{\"type\":\"scattergeo\",\"marker\":{\"colorbar\":{\"outlinewidth\":0,\"ticks\":\"\"}}}],\"scatterpolar\":[{\"type\":\"scatterpolar\",\"marker\":{\"colorbar\":{\"outlinewidth\":0,\"ticks\":\"\"}}}],\"histogram\":[{\"marker\":{\"pattern\":{\"fillmode\":\"overlay\",\"size\":10,\"solidity\":0.2}},\"type\":\"histogram\"}],\"scattergl\":[{\"type\":\"scattergl\",\"marker\":{\"colorbar\":{\"outlinewidth\":0,\"ticks\":\"\"}}}],\"scatter3d\":[{\"type\":\"scatter3d\",\"line\":{\"colorbar\":{\"outlinewidth\":0,\"ticks\":\"\"}},\"marker\":{\"colorbar\":{\"outlinewidth\":0,\"ticks\":\"\"}}}],\"scattermapbox\":[{\"type\":\"scattermapbox\",\"marker\":{\"colorbar\":{\"outlinewidth\":0,\"ticks\":\"\"}}}],\"scatterternary\":[{\"type\":\"scatterternary\",\"marker\":{\"colorbar\":{\"outlinewidth\":0,\"ticks\":\"\"}}}],\"scattercarpet\":[{\"type\":\"scattercarpet\",\"marker\":{\"colorbar\":{\"outlinewidth\":0,\"ticks\":\"\"}}}],\"carpet\":[{\"aaxis\":{\"endlinecolor\":\"#2a3f5f\",\"gridcolor\":\"white\",\"linecolor\":\"white\",\"minorgridcolor\":\"white\",\"startlinecolor\":\"#2a3f5f\"},\"baxis\":{\"endlinecolor\":\"#2a3f5f\",\"gridcolor\":\"white\",\"linecolor\":\"white\",\"minorgridcolor\":\"white\",\"startlinecolor\":\"#2a3f5f\"},\"type\":\"carpet\"}],\"table\":[{\"cells\":{\"fill\":{\"color\":\"#EBF0F8\"},\"line\":{\"color\":\"white\"}},\"header\":{\"fill\":{\"color\":\"#C8D4E3\"},\"line\":{\"color\":\"white\"}},\"type\":\"table\"}],\"barpolar\":[{\"marker\":{\"line\":{\"color\":\"#E5ECF6\",\"width\":0.5},\"pattern\":{\"fillmode\":\"overlay\",\"size\":10,\"solidity\":0.2}},\"type\":\"barpolar\"}],\"pie\":[{\"automargin\":true,\"type\":\"pie\"}]},\"layout\":{\"autotypenumbers\":\"strict\",\"colorway\":[\"#636efa\",\"#EF553B\",\"#00cc96\",\"#ab63fa\",\"#FFA15A\",\"#19d3f3\",\"#FF6692\",\"#B6E880\",\"#FF97FF\",\"#FECB52\"],\"font\":{\"color\":\"#2a3f5f\"},\"hovermode\":\"closest\",\"hoverlabel\":{\"align\":\"left\"},\"paper_bgcolor\":\"white\",\"plot_bgcolor\":\"#E5ECF6\",\"polar\":{\"bgcolor\":\"#E5ECF6\",\"angularaxis\":{\"gridcolor\":\"white\",\"linecolor\":\"white\",\"ticks\":\"\"},\"radialaxis\":{\"gridcolor\":\"white\",\"linecolor\":\"white\",\"ticks\":\"\"}},\"ternary\":{\"bgcolor\":\"#E5ECF6\",\"aaxis\":{\"gridcolor\":\"white\",\"linecolor\":\"white\",\"ticks\":\"\"},\"baxis\":{\"gridcolor\":\"white\",\"linecolor\":\"white\",\"ticks\":\"\"},\"caxis\":{\"gridcolor\":\"white\",\"linecolor\":\"white\",\"ticks\":\"\"}},\"coloraxis\":{\"colorbar\":{\"outlinewidth\":0,\"ticks\":\"\"}},\"colorscale\":{\"sequential\":[[0.0,\"#0d0887\"],[0.1111111111111111,\"#46039f\"],[0.2222222222222222,\"#7201a8\"],[0.3333333333333333,\"#9c179e\"],[0.4444444444444444,\"#bd3786\"],[0.5555555555555556,\"#d8576b\"],[0.6666666666666666,\"#ed7953\"],[0.7777777777777778,\"#fb9f3a\"],[0.8888888888888888,\"#fdca26\"],[1.0,\"#f0f921\"]],\"sequentialminus\":[[0.0,\"#0d0887\"],[0.1111111111111111,\"#46039f\"],[0.2222222222222222,\"#7201a8\"],[0.3333333333333333,\"#9c179e\"],[0.4444444444444444,\"#bd3786\"],[0.5555555555555556,\"#d8576b\"],[0.6666666666666666,\"#ed7953\"],[0.7777777777777778,\"#fb9f3a\"],[0.8888888888888888,\"#fdca26\"],[1.0,\"#f0f921\"]],\"diverging\":[[0,\"#8e0152\"],[0.1,\"#c51b7d\"],[0.2,\"#de77ae\"],[0.3,\"#f1b6da\"],[0.4,\"#fde0ef\"],[0.5,\"#f7f7f7\"],[0.6,\"#e6f5d0\"],[0.7,\"#b8e186\"],[0.8,\"#7fbc41\"],[0.9,\"#4d9221\"],[1,\"#276419\"]]},\"xaxis\":{\"gridcolor\":\"white\",\"linecolor\":\"white\",\"ticks\":\"\",\"title\":{\"standoff\":15},\"zerolinecolor\":\"white\",\"automargin\":true,\"zerolinewidth\":2},\"yaxis\":{\"gridcolor\":\"white\",\"linecolor\":\"white\",\"ticks\":\"\",\"title\":{\"standoff\":15},\"zerolinecolor\":\"white\",\"automargin\":true,\"zerolinewidth\":2},\"scene\":{\"xaxis\":{\"backgroundcolor\":\"#E5ECF6\",\"gridcolor\":\"white\",\"linecolor\":\"white\",\"showbackground\":true,\"ticks\":\"\",\"zerolinecolor\":\"white\",\"gridwidth\":2},\"yaxis\":{\"backgroundcolor\":\"#E5ECF6\",\"gridcolor\":\"white\",\"linecolor\":\"white\",\"showbackground\":true,\"ticks\":\"\",\"zerolinecolor\":\"white\",\"gridwidth\":2},\"zaxis\":{\"backgroundcolor\":\"#E5ECF6\",\"gridcolor\":\"white\",\"linecolor\":\"white\",\"showbackground\":true,\"ticks\":\"\",\"zerolinecolor\":\"white\",\"gridwidth\":2}},\"shapedefaults\":{\"line\":{\"color\":\"#2a3f5f\"}},\"annotationdefaults\":{\"arrowcolor\":\"#2a3f5f\",\"arrowhead\":0,\"arrowwidth\":1},\"geo\":{\"bgcolor\":\"white\",\"landcolor\":\"#E5ECF6\",\"subunitcolor\":\"white\",\"showland\":true,\"showlakes\":true,\"lakecolor\":\"white\"},\"title\":{\"x\":0.05},\"mapbox\":{\"style\":\"light\"}}},\"title\":{\"text\":\"TunedLens () entropy\",\"x\":0.5},\"width\":1240,\"xaxis\":{\"title\":{\"text\":\"Input\"}},\"yaxis\":{\"title\":{\"text\":\"Layer\"}}},                        {\"responsive\": true}                    ).then(function(){\n",
              "                            \n",
              "var gd = document.getElementById('0b456830-e0fd-4cb2-8483-55ec22b050ca');\n",
              "var x = new MutationObserver(function (mutations, observer) {{\n",
              "        var display = window.getComputedStyle(gd).display;\n",
              "        if (!display || display === 'none') {{\n",
              "            console.log([gd, 'removed!']);\n",
              "            Plotly.purge(gd);\n",
              "            observer.disconnect();\n",
              "        }}\n",
              "}});\n",
              "\n",
              "// Listen for the removal of the full notebook cells\n",
              "var notebookContainer = gd.closest('#notebook-container');\n",
              "if (notebookContainer) {{\n",
              "    x.observe(notebookContainer, {childList: true});\n",
              "}}\n",
              "\n",
              "// Listen for the clearing of the current output cell\n",
              "var outputEl = gd.closest('.output');\n",
              "if (outputEl) {{\n",
              "    x.observe(outputEl, {childList: true});\n",
              "}}\n",
              "\n",
              "                        })                };                });            </script>        </div>"
            ],
            "text/plain": [
              "Figure({\n",
              "    'data': [{'colorbar': {'title': {'side': 'right', 'text': 'Entropy (nats)'}},\n",
              "              'colorscale': [[0.0, 'rgb(5,48,97)'], [0.1, 'rgb(33,102,172)'],\n",
              "                             [0.2, 'rgb(67,147,195)'], [0.3, 'rgb(146,197,222)'],\n",
              "                             [0.4, 'rgb(209,229,240)'], [0.5, 'rgb(247,247,247)'],\n",
              "                             [0.6, 'rgb(253,219,199)'], [0.7, 'rgb(244,165,130)'],\n",
              "                             [0.8, 'rgb(214,96,77)'], [0.9, 'rgb(178,24,43)'],\n",
              "                             [1.0, 'rgb(103,0,31)']],\n",
              "              'customdata': array([[['      it', ' 100.00%', '      IT', ..., '   0.00%', '     _it',\n",
              "                                     '   0.00%'],\n",
              "                                    ['    _was', ' 100.00%', '     _is', ..., '   0.00%', '    _for',\n",
              "                                     '   0.00%'],\n",
              "                                    ['    _the', ' 100.00%', '      _a', ..., '   0.00%', '     _as',\n",
              "                                     '   0.00%'],\n",
              "                                    ...,\n",
              "                                    [' ometim…', ' 100.00%', ' icroso…', ..., '   0.00%', '   uvant',\n",
              "                                     '   0.00%'],\n",
              "                                    ['     _of', ' 100.00%', '    _and', ..., '   0.00%', '     _as',\n",
              "                                     '   0.00%'],\n",
              "                                    ['  _times', ' 100.00%', '   times', ..., '   0.00%', '  _Times',\n",
              "                                     '   0.00%']],\n",
              "                            \n",
              "                                   [[' _dehyd…', '  97.44%', ' _nonne…', ..., '   0.02%', ' _arrang',\n",
              "                                     '   0.02%'],\n",
              "                                    [' commut…', '  98.62%', '  _still', ..., '   0.01%', '     _as',\n",
              "                                     '   0.01%'],\n",
              "                                    [' _Pales…', '  99.94%', ' _reluct', ..., '   0.00%', '    OPLE',\n",
              "                                     '   0.00%'],\n",
              "                                    ...,\n",
              "                                    ['       ,', '  98.56%', '      _(', ..., '   0.00%', '     _or',\n",
              "                                     '   0.00%'],\n",
              "                                    ['       ,', '  98.56%', '      _(', ..., '   0.00%', '       .',\n",
              "                                     '   0.00%'],\n",
              "                                    ['      _(', '  82.12%', '      _a', ..., '   0.00%', '       -',\n",
              "                                     '   0.00%']],\n",
              "                            \n",
              "                                   [['      \\\\n', '  62.75%', '      _(', ..., '   0.01%', '     _is',\n",
              "                                     '   0.00%'],\n",
              "                                    ['       ,', '  86.25%', '    _and', ..., '   0.00%', '     _on',\n",
              "                                     '   0.00%'],\n",
              "                                    ['       ,', ' 100.00%', '     _in', ..., '   0.00%', '     _is',\n",
              "                                     '   0.00%'],\n",
              "                                    ...,\n",
              "                                    ['       ,', '  88.31%', '      _(', ..., '   0.00%', '      _-',\n",
              "                                     '   0.00%'],\n",
              "                                    ['      _a', '  95.88%', '     _to', ..., '   0.01%', '      _1',\n",
              "                                     '   0.00%'],\n",
              "                                    ['     _to', '  86.19%', '     _on', ..., '   0.01%', '      _(',\n",
              "                                     '   0.01%']],\n",
              "                            \n",
              "                                   ...,\n",
              "                            \n",
              "                                   [['       ,', '  96.31%', '     _in', ..., '   0.00%', '      \\\\n',\n",
              "                                     '   0.00%'],\n",
              "                                    ['       ,', '  95.62%', '      _a', ..., '   0.01%', '       .',\n",
              "                                     '   0.00%'],\n",
              "                                    ['   _most', '  97.62%', '   _only', ..., '   0.00%', '   _time',\n",
              "                                     '   0.00%'],\n",
              "                                    ...,\n",
              "                                    ['     _of', ' 100.00%', '      of', ..., '   0.00%', '      Of',\n",
              "                                     '   0.00%'],\n",
              "                                    ['   _time', ' 100.00%', '    _all', ..., '   0.00%', '      _d',\n",
              "                                     '   0.00%'],\n",
              "                                    ['       ,', ' 100.00%', '       :', ..., '   0.00%', '    _and',\n",
              "                                     '   0.00%']],\n",
              "                            \n",
              "                                   [['  sembly', '  84.69%', '     }{~', ..., '   0.01%', ' gorithm',\n",
              "                                     '   0.01%'],\n",
              "                                    ['  sembly', '  59.00%', ' icroso…', ..., '   0.08%', '      ĥ½',\n",
              "                                     '   0.05%'],\n",
              "                                    [' acebook', '  82.69%', ' icroso…', ..., '   0.16%', '   PDATE',\n",
              "                                     '   0.10%'],\n",
              "                                    ...,\n",
              "                                    [' č\\\\nč\\\\n_', '  99.75%', ' icroso…', ..., '   0.00%', ' âĢĵâĢĵ…',\n",
              "                                     '   0.00%'],\n",
              "                                    [' _prede…', '  95.44%', '   _opio', ..., '   0.00%', '  gorith',\n",
              "                                     '   0.00%'],\n",
              "                                    [' č\\\\nč\\\\n_', ' 100.00%', ' icroso…', ..., '   0.00%', '    _/*!',\n",
              "                                     '   0.00%']],\n",
              "                            \n",
              "                                   [['       .', '   3.11%', '      \\\\n', ..., '   0.89%', '       )',\n",
              "                                     '   0.84%'],\n",
              "                                    ['      _a', '   7.80%', '    _not', ..., '   0.93%', '   _just',\n",
              "                                     '   0.92%'],\n",
              "                                    ['  _first', '   9.00%', '   _only', ..., '   0.78%', '   _case',\n",
              "                                     '   0.49%'],\n",
              "                                    ...,\n",
              "                                    ['     _of', '  84.19%', '       .', ..., '   0.21%', '       :',\n",
              "                                     '   0.21%'],\n",
              "                                    ['  _times', '  76.44%', '   _days', ..., '   0.34%', '   _time',\n",
              "                                     '   0.32%'],\n",
              "                                    ['       .', '  41.22%', '       ,', ..., '   1.12%', '    ,âĢĿ',\n",
              "                                     '   0.78%']]], dtype=object),\n",
              "              'hoverlabel': {'bgcolor': 'rgb(42, 42, 50)', 'font': {'family': 'Monospace'}},\n",
              "              'hovertemplate': ('%{customdata[0]}%{customdata[1' ... 'omdata[19]}<br><extra></extra>'),\n",
              "              'text': array([['it', '_was', '_the', '_best', '_of', '_times', ',', '_it', '_was',\n",
              "                              '_the', 'ometim…', '_of', '_times'],\n",
              "                             ['_dehyd…', 'commut…', '_Pales…', '_(', ',', '_a', '14514', '_(', ',',\n",
              "                              ',', ',', ',', '_('],\n",
              "                             ['\\\\n', ',', ',', ',', 'ermal', '_to', '_and', ',', ',', ',', ',',\n",
              "                              '_a', '_to'],\n",
              "                             [',', ',', '_(', '_good', '\\\\n', '_with', '_and', '_and', '_or', '_or',\n",
              "                              '_and', ',', '-'],\n",
              "                             ['_the', '_also', '_I', ',', '_re', '_no', ',', ',', ',', ',', ',',\n",
              "                              '_the', ','],\n",
              "                             [',', ',', ',', ',', '_of', '_at', '_and', '_or', '_and', '_and', ',',\n",
              "                              '_of', '.'],\n",
              "                             [',', ',', '_\"', '_in', '_L', '_and', '_and', ',', ',', '_\"', '_in',\n",
              "                              '_(', '_vice'],\n",
              "                             [',', '_(', '_in', '_in', '_all', '_(', '_and', '_all', '_not',\n",
              "                              '_only', '_S', '_others', ','],\n",
              "                             [',', ',', '_first', ',', '_the', '_and', '_the', '_not', '_the',\n",
              "                              '_best', ',', '_off', 'ãĥ¼ãĥ«'],\n",
              "                             ['typen', ',', ',', '-', '_three', ',', 'ÑĤÐµÑĢ', '_before', 'ethe',\n",
              "                              '_feas', 'everal', '_times', '_also'],\n",
              "                             [',', ',', '_most', ',', '_the', ',', '_and', '_is', '_the', '_only',\n",
              "                              '_of', '_time', ','],\n",
              "                             ['sembly', 'sembly', 'acebook', 'acebook', '_prede…', 'č\\\\nč\\\\n_',\n",
              "                              'icroso…', '_prede…', 'č\\\\nč\\\\n_', 'č\\\\nč\\\\n_', 'č\\\\nč\\\\n_',\n",
              "                              '_prede…', 'č\\\\nč\\\\n_'],\n",
              "                             ['.', '_a', '_first', '_thing', '_the', ',', '_and', '_was', '_the',\n",
              "                              '_worst', '_of', '_times', '.']], dtype=object),\n",
              "              'texttemplate': '<b>%{text}</b>',\n",
              "              'type': 'heatmap',\n",
              "              'x': [it, _was‌, _the‌‌, _best‌‌‌, _of‌‌‌‌, _times‌‌‌‌‌, ,‌‌‌‌‌‌,\n",
              "                    _it‌‌‌‌‌‌‌, _was‌‌‌‌‌‌‌‌, _the‌‌‌‌‌‌‌‌‌, _worst‌‌‌‌‌‌‌‌‌‌,\n",
              "                    _of‌‌‌‌‌‌‌‌‌‌‌, _times‌‌‌‌‌‌‌‌‌‌‌‌],\n",
              "              'y': array(['0', '2', '4', '6', '8', '10', '12', '14', '16', '18', '20', '22',\n",
              "                          'output'], dtype=object),\n",
              "              'z': array([[-0.0000e+00, -0.0000e+00, -0.0000e+00, -0.0000e+00, -0.0000e+00,\n",
              "                           -0.0000e+00, -0.0000e+00, -0.0000e+00, -0.0000e+00, -0.0000e+00,\n",
              "                            6.2656e-04, -0.0000e+00, -0.0000e+00],\n",
              "                          [ 1.5454e-01,  8.6182e-02,  5.1117e-03,  2.6953e-01,  1.4453e+00,\n",
              "                            3.4058e-01,  5.4321e-02,  1.1957e-01,  4.6680e-01,  1.4199e+00,\n",
              "                            7.8491e-02,  7.9346e-02,  6.3574e-01],\n",
              "                          [ 9.7559e-01,  4.0601e-01,  6.0022e-05,  7.4158e-02,  1.4805e+00,\n",
              "                            5.7715e-01,  1.4978e-01,  1.7346e-01,  9.2697e-03,  8.8871e-05,\n",
              "                            3.8501e-01,  2.2778e-01,  4.9438e-01],\n",
              "                          [ 1.0879e+00,  7.1106e-02,  1.4717e+00,  3.5913e-01,  1.3975e+00,\n",
              "                            9.8145e-01,  9.0381e-01,  1.6638e-01,  6.7871e-01,  6.1035e-01,\n",
              "                            2.4490e-02,  8.4375e-01,  1.5264e+00],\n",
              "                          [ 1.8047e+00,  2.0938e+00,  2.1367e+00,  2.7122e-03,  1.2529e+00,\n",
              "                            1.4180e+00,  8.0078e-01,  6.7529e-01,  2.3697e-02,  1.7832e+00,\n",
              "                            2.0352e+00,  1.5635e+00,  7.5635e-01],\n",
              "                          [ 1.4257e-03,  6.8521e-04,  4.5105e-02,  5.8289e-02,  1.1981e-01,\n",
              "                            1.3281e+00,  1.7500e-03,  6.2042e-02,  9.2773e-02,  2.7051e-01,\n",
              "                            5.9280e-03,  4.4012e-04,  4.8767e-02],\n",
              "                          [ 1.1188e-01,  1.4050e-01,  1.1006e+00,  6.7188e-01,  1.8740e+00,\n",
              "                            3.0197e-02,  8.4045e-02,  7.0850e-01,  3.0200e-01,  1.0059e+00,\n",
              "                            1.1797e+00,  2.5391e-01,  1.6631e+00],\n",
              "                          [ 1.2856e-02,  9.5166e-01,  3.9258e-01,  5.7812e-01,  2.0325e-05,\n",
              "                            9.1357e-01,  2.6901e-02,  7.7100e-01,  1.6052e-01,  1.1719e+00,\n",
              "                            7.7942e-02,  1.4824e+00,  5.3833e-02],\n",
              "                          [ 1.0345e-02,  1.2335e-01,  3.9575e-01,  4.0991e-01,  4.7168e-01,\n",
              "                            5.3223e-01,  3.4809e-05,  1.3955e+00, -0.0000e+00,  5.4932e-03,\n",
              "                            4.4556e-01,  2.4434e+00,  9.4482e-01],\n",
              "                          [ 1.1265e-05,  5.2295e-01,  3.5815e-01,  4.7852e-01,  6.9287e-01,\n",
              "                            4.2773e-01,  1.3252e+00,  1.1253e-02,  8.9990e-01,  1.9363e-02,\n",
              "                            8.1885e-01,  3.0228e-02,  9.7754e-01],\n",
              "                          [ 1.7151e-01,  2.3071e-01,  1.1749e-01,  8.5889e-01,  1.1650e+00,\n",
              "                            2.8849e-04,  2.3889e-01,  1.1377e+00,  6.7139e-04,  3.1052e-03,\n",
              "                           -0.0000e+00,  9.5963e-06,  2.7299e-05],\n",
              "                          [ 4.9707e-01,  1.0703e+00,  7.4170e-01,  1.2256e+00,  1.3161e-03,\n",
              "                            4.0259e-01,  9.1797e-01,  2.5830e-01,  1.3477e-01,  2.9468e-01,\n",
              "                            1.7578e-02,  1.8689e-01,  1.4722e-05],\n",
              "                          [ 7.9219e+00,  6.6016e+00,  6.8750e+00,  5.9531e+00,  4.0820e+00,\n",
              "                            2.5156e+00,  3.1777e+00,  1.0088e+00,  1.9922e+00,  1.1064e+00,\n",
              "                            9.2871e-01,  1.4629e+00,  2.1719e+00]], dtype=float16),\n",
              "              'zmax': 7.92,\n",
              "              'zmin': -0.0}],\n",
              "    'layout': {'template': '...',\n",
              "               'title': {'text': 'TunedLens () entropy', 'x': 0.5},\n",
              "               'width': 1240,\n",
              "               'xaxis': {'title': {'text': 'Input'}},\n",
              "               'yaxis': {'title': {'text': 'Layer'}}}\n",
              "})"
            ]
          },
          "metadata": {},
          "output_type": "display_data"
        }
      ],
      "source": [
        "from tuned_lens.plotting import PredictionTrajectory\n",
        "import ipywidgets as widgets\n",
        "from plotly import graph_objects as go\n",
        "\n",
        "\n",
        "def make_plot(lens, text, layer_stride, statistic, token_range):\n",
        "    input_ids = tokenizer.encode(text)\n",
        "    targets = input_ids[1:] + [tokenizer.eos_token_id]\n",
        "\n",
        "    if len(input_ids) == 0:\n",
        "        return widgets.Text(\"Please enter some text.\")\n",
        "    \n",
        "    if (token_range[0] == token_range[1]):\n",
        "        return widgets.Text(\"Please provide valid token range.\")\n",
        "    pred_traj = PredictionTrajectory.from_lens_and_model(\n",
        "        lens=lens,\n",
        "        model=mamba,\n",
        "        input_ids=input_ids,\n",
        "        tokenizer=tokenizer,\n",
        "        targets=targets,\n",
        "    ).slice_sequence(slice(*token_range))\n",
        "\n",
        "    return getattr(pred_traj, statistic)().stride(layer_stride).figure(\n",
        "        title=f\"{lens.__class__.__name__} ({mamba.name_or_path}) {statistic}\",\n",
        "    )\n",
        "\n",
        "style = {'description_width': 'initial'}\n",
        "statistic_wdg = widgets.Dropdown(\n",
        "    options=[\n",
        "        ('Entropy', 'entropy'),\n",
        "        ('Cross Entropy', 'cross_entropy'),\n",
        "        ('Forward KL', 'forward_kl'),\n",
        "    ],\n",
        "    description='Select Statistic:',\n",
        "    style=style,\n",
        ")\n",
        "text_wdg = widgets.Textarea(\n",
        "    description=\"Input Text\",\n",
        "    value=\"it was the best of times, it was the worst of times\",\n",
        ")\n",
        "lens_wdg = widgets.Dropdown(\n",
        "    options=[('Tuned Lens', tuned_lens), ('Logit Lens', logit_lens)],\n",
        "    description='Select Lens:',\n",
        "    style=style,\n",
        ")\n",
        "\n",
        "layer_stride_wdg = widgets.BoundedIntText(\n",
        "    value=2,\n",
        "    min=1,\n",
        "    max=10,\n",
        "    step=1,\n",
        "    description='Layer Stride:',\n",
        "    disabled=False\n",
        ")\n",
        "\n",
        "token_range_wdg = widgets.IntRangeSlider(\n",
        "    description='Token Range',\n",
        "    min=0,\n",
        "    max=1,\n",
        "    step=1,\n",
        "    style=style,\n",
        ")\n",
        "\n",
        "\n",
        "def update_token_range(*args):\n",
        "    token_range_wdg.max = len(tokenizer.encode(text_wdg.value))\n",
        "\n",
        "update_token_range()\n",
        "\n",
        "token_range_wdg.value = [0, token_range_wdg.max]\n",
        "text_wdg.observe(update_token_range, 'value')\n",
        "\n",
        "interact = widgets.interact.options(manual_name='Run Lens', manual=True)\n",
        "\n",
        "plot = interact(\n",
        "    make_plot,\n",
        "    text=text_wdg,\n",
        "    statistic=statistic_wdg,\n",
        "    lens=lens_wdg,\n",
        "    layer_stride=layer_stride_wdg,\n",
        "    token_range=token_range_wdg,\n",
        ")"
      ]
    },
    {
      "cell_type": "code",
      "execution_count": 4,
      "metadata": {},
      "outputs": [],
      "source": [
        "config = MambaConfig(dmodel=768, vocab_size=50280, n_layer=24)\n",
        "\n",
        "mamba= MambaModel(config)\n",
        "\n",
        "mamba.load_state_dict(model.state_dict())\n"
      ]
    },
    {
      "cell_type": "code",
      "execution_count": 8,
      "metadata": {},
      "outputs": [],
      "source": [
        "from tuned_lens.scripts import train_loop\n",
        "from tuned_lens.scripts import ingredients\n",
        "from pathlib import Path\n"
      ]
    },
    {
      "cell_type": "code",
      "execution_count": 9,
      "metadata": {},
      "outputs": [],
      "source": [
        "train_data = ingredients.Data([\"HuggingFaceH4/ultrachat_200k\"])\n",
        "optimizer = ingredients.Optimizer()\n",
        "distributer = ingredients.Distributed()\n",
        "p = Path(\"output\")"
      ]
    },
    {
      "cell_type": "code",
      "execution_count": 14,
      "metadata": {},
      "outputs": [
        {
          "data": {
            "text/plain": [
              "Distributed(fsdp=False, cpu_offload=False, nccl_timeout=1200, per_gpu_batch_size=1, dataloader_shuffle=True)"
            ]
          },
          "execution_count": 14,
          "metadata": {},
          "output_type": "execute_result"
        }
      ],
      "source": []
    },
    {
      "cell_type": "code",
      "execution_count": 17,
      "metadata": {},
      "outputs": [
        {
          "name": "stderr",
          "output_type": "stream",
          "text": [
            "No checkpoint directory found. Snapshotting is disabled.\n",
            "Failed to detect the name of this notebook, you can set it manually with the WANDB_NOTEBOOK_NAME environment variable to enable code saving.\n",
            "\u001b[34m\u001b[1mwandb\u001b[0m: Currently logged in as: \u001b[33mg-spaulo\u001b[0m (\u001b[33mpimemorization\u001b[0m). Use \u001b[1m`wandb login --relogin`\u001b[0m to force relogin\n"
          ]
        },
        {
          "data": {
            "text/html": [
              "Tracking run with wandb version 0.16.1"
            ],
            "text/plain": [
              "<IPython.core.display.HTML object>"
            ]
          },
          "metadata": {},
          "output_type": "display_data"
        },
        {
          "data": {
            "text/html": [
              "Run data is saved locally in <code>/mnt/c/Users/g-spa/Desktop/tuned-lens/notebooks/wandb/run-20231224_102741-6z9n1m91</code>"
            ],
            "text/plain": [
              "<IPython.core.display.HTML object>"
            ]
          },
          "metadata": {},
          "output_type": "display_data"
        },
        {
          "data": {
            "text/html": [
              "Syncing run <strong><a href='https://wandb.ai/pimemorization/tuned-lens-notebooks/runs/6z9n1m91' target=\"_blank\">Lens</a></strong> to <a href='https://wandb.ai/pimemorization/tuned-lens-notebooks' target=\"_blank\">Weights & Biases</a> (<a href='https://wandb.me/run' target=\"_blank\">docs</a>)<br/>"
            ],
            "text/plain": [
              "<IPython.core.display.HTML object>"
            ]
          },
          "metadata": {},
          "output_type": "display_data"
        },
        {
          "data": {
            "text/html": [
              " View project at <a href='https://wandb.ai/pimemorization/tuned-lens-notebooks' target=\"_blank\">https://wandb.ai/pimemorization/tuned-lens-notebooks</a>"
            ],
            "text/plain": [
              "<IPython.core.display.HTML object>"
            ]
          },
          "metadata": {},
          "output_type": "display_data"
        },
        {
          "data": {
            "text/html": [
              " View run at <a href='https://wandb.ai/pimemorization/tuned-lens-notebooks/runs/6z9n1m91' target=\"_blank\">https://wandb.ai/pimemorization/tuned-lens-notebooks/runs/6z9n1m91</a>"
            ],
            "text/plain": [
              "<IPython.core.display.HTML object>"
            ]
          },
          "metadata": {},
          "output_type": "display_data"
        },
        {
          "data": {
            "text/plain": [
              "(State(dataloader=<torchdata.dataloader2.dataloader2.DataLoader2 object at 0x7f79fc5bb0d0>, lens=TunedLens(\n",
              "   (unembed): Unembed(\n",
              "     (final_norm): LayerNorm((768,), eps=1e-05, elementwise_affine=True)\n",
              "     (unembedding): Linear(in_features=768, out_features=50280, bias=False)\n",
              "   )\n",
              "   (layer_translators): ModuleList(\n",
              "     (0-23): 24 x Linear(in_features=768, out_features=768, bias=True)\n",
              "   )\n",
              " ), opt=SGD (\n",
              " Parameter Group 0\n",
              "     dampening: 0\n",
              "     differentiable: False\n",
              "     foreach: None\n",
              "     initial_lr: 0.09999999999999998\n",
              "     lr: 0.09999999999999998\n",
              "     maximize: False\n",
              "     momentum: 0.9\n",
              "     nesterov: True\n",
              "     weight_decay: 0.001\n",
              " ), scheduler=<torch.optim.lr_scheduler.LambdaLR object at 0x7f79fc6574d0>, wandb_id='6z9n1m91', nats_to_bpb=0.2989584272000936, step=0),\n",
              " MambaModel(\n",
              "   (model): MambaLMHeadModel(\n",
              "     (backbone): MixerModel(\n",
              "       (embedding): Embedding(50280, 768)\n",
              "       (layers): ModuleList(\n",
              "         (0-23): 24 x Block(\n",
              "           (mixer): Mamba(\n",
              "             (in_proj): Linear(in_features=768, out_features=3072, bias=False)\n",
              "             (conv1d): Conv1d(1536, 1536, kernel_size=(4,), stride=(1,), padding=(3,), groups=1536)\n",
              "             (act): SiLU()\n",
              "             (x_proj): Linear(in_features=1536, out_features=80, bias=False)\n",
              "             (dt_proj): Linear(in_features=48, out_features=1536, bias=True)\n",
              "             (out_proj): Linear(in_features=1536, out_features=768, bias=False)\n",
              "           )\n",
              "           (norm): LayerNorm((768,), eps=1e-05, elementwise_affine=True)\n",
              "         )\n",
              "       )\n",
              "       (norm_f): LayerNorm((768,), eps=1e-05, elementwise_affine=True)\n",
              "     )\n",
              "     (lm_head): Linear(in_features=768, out_features=50280, bias=False)\n",
              "   )\n",
              " ),\n",
              " 512)"
            ]
          },
          "execution_count": 17,
          "metadata": {},
          "output_type": "execute_result"
        }
      ],
      "source": [
        "train_data.max_length= 512\n",
        "train_data.split = \"test_sft\"\n",
        "train_data.text_column=\"prompt\"\n",
        "train = train_loop.Train(mamba,train_data,optimizer,distributer,p,wandb=\"Lens\")\n",
        "train.num_steps = 10"
      ]
    },
    {
      "cell_type": "code",
      "execution_count": 21,
      "metadata": {},
      "outputs": [
        {
          "name": "stderr",
          "output_type": "stream",
          "text": [
            "No checkpoint directory found. Snapshotting is disabled.\n"
          ]
        },
        {
          "data": {
            "text/html": [
              "Finishing last run (ID:8khc5dgm) before initializing another..."
            ],
            "text/plain": [
              "<IPython.core.display.HTML object>"
            ]
          },
          "metadata": {},
          "output_type": "display_data"
        },
        {
          "name": "stderr",
          "output_type": "stream",
          "text": [
            "wandb: WARNING Source type is set to 'repo' but some required information is missing from the environment. A job will not be created from this run. See https://docs.wandb.ai/guides/launch/create-job\n"
          ]
        },
        {
          "data": {
            "application/vnd.jupyter.widget-view+json": {
              "model_id": "d47e6284b3974bfe896707f27bbc66ab",
              "version_major": 2,
              "version_minor": 0
            },
            "text/plain": [
              "VBox(children=(Label(value='0.003 MB of 0.003 MB uploaded\\r'), FloatProgress(value=1.0, max=1.0)))"
            ]
          },
          "metadata": {},
          "output_type": "display_data"
        },
        {
          "data": {
            "text/html": [
              "<style>\n",
              "    table.wandb td:nth-child(1) { padding: 0 10px; text-align: left ; width: auto;} td:nth-child(2) {text-align: left ; width: 100%}\n",
              "    .wandb-row { display: flex; flex-direction: row; flex-wrap: wrap; justify-content: flex-start; width: 100% }\n",
              "    .wandb-col { display: flex; flex-direction: column; flex-basis: 100%; flex: 1; padding: 10px; }\n",
              "    </style>\n",
              "<div class=\"wandb-row\"><div class=\"wandb-col\"><h3>Run history:</h3><br/><table class=\"wandb\"><tr><td>bias_norm/0.ffn</td><td>▁▂▃▅▆▇▇███</td></tr><tr><td>bias_norm/1.ffn</td><td>▁▂▃▄▅▆▇▇██</td></tr><tr><td>bias_norm/10.ffn</td><td>▁▁▂▃▄▅▆▇██</td></tr><tr><td>bias_norm/11.ffn</td><td>▁▂▃▄▆▇████</td></tr><tr><td>bias_norm/12.ffn</td><td>▁▂▃▄▆▇▇███</td></tr><tr><td>bias_norm/13.ffn</td><td>▁▂▃▄▅▆▇███</td></tr><tr><td>bias_norm/14.ffn</td><td>▁▂▃▄▅▆▇███</td></tr><tr><td>bias_norm/15.ffn</td><td>▁▂▃▄▅▆▇███</td></tr><tr><td>bias_norm/16.ffn</td><td>▁▂▃▄▅▆▇▇██</td></tr><tr><td>bias_norm/17.ffn</td><td>▁▁▂▃▄▅▆▇██</td></tr><tr><td>bias_norm/18.ffn</td><td>▁▂▃▄▅▆▇▇██</td></tr><tr><td>bias_norm/19.ffn</td><td>▁▁▂▃▄▅▆▇██</td></tr><tr><td>bias_norm/2.ffn</td><td>▁▂▄▅▇█████</td></tr><tr><td>bias_norm/20.ffn</td><td>▁▂▃▅▆▇▇███</td></tr><tr><td>bias_norm/21.ffn</td><td>▁▂▃▄▅▅▆▇██</td></tr><tr><td>bias_norm/22.ffn</td><td>▁▂▄▅▅▆▇▇██</td></tr><tr><td>bias_norm/3.ffn</td><td>▁▂▃▅▆▇▇███</td></tr><tr><td>bias_norm/4.ffn</td><td>▁▂▃▅▆▇▇███</td></tr><tr><td>bias_norm/5.ffn</td><td>▁▂▃▅▆▇████</td></tr><tr><td>bias_norm/6.ffn</td><td>▁▂▃▃▄▅▆▇██</td></tr><tr><td>bias_norm/7.ffn</td><td>▁▂▃▄▅▆▇███</td></tr><tr><td>bias_norm/8.ffn</td><td>▁▂▃▄▅▆▇███</td></tr><tr><td>bias_norm/9.ffn</td><td>▁▂▃▄▅▆▇███</td></tr><tr><td>bias_norm/input</td><td>▁▂▃▄▆▆▇▇██</td></tr><tr><td>loss/translator_0</td><td>█▇▆▅▄▃▂▂▁▁</td></tr><tr><td>loss/translator_1</td><td>█▇▆▅▄▃▂▂▁▁</td></tr><tr><td>loss/translator_10</td><td>█▇▆▅▄▃▂▁▁▁</td></tr><tr><td>loss/translator_11</td><td>█▇▇▆▅▄▃▃▂▁</td></tr><tr><td>loss/translator_12</td><td>█▇▆▅▃▂▂▁▁▁</td></tr><tr><td>loss/translator_13</td><td>█▇▆▅▄▂▂▁▁▁</td></tr><tr><td>loss/translator_14</td><td>█▇▆▅▄▂▁▁▁▁</td></tr><tr><td>loss/translator_15</td><td>█▇▆▅▄▂▂▁▁▁</td></tr><tr><td>loss/translator_16</td><td>█▇▆▅▄▂▂▁▁▁</td></tr><tr><td>loss/translator_17</td><td>█▇▇▅▄▃▂▂▁▁</td></tr><tr><td>loss/translator_18</td><td>█▇▇▆▅▄▃▂▂▁</td></tr><tr><td>loss/translator_19</td><td>█▇▇▅▄▃▂▂▁▁</td></tr><tr><td>loss/translator_2</td><td>█▇▇▆▅▄▃▂▂▁</td></tr><tr><td>loss/translator_20</td><td>█▇▇▆▅▃▃▂▁▁</td></tr><tr><td>loss/translator_21</td><td>█▆▄▃▂▂▂▁▁▁</td></tr><tr><td>loss/translator_22</td><td>█▃▂▂▂▁▁▁▁▁</td></tr><tr><td>loss/translator_23</td><td>█▄▂▂▂▂▁▁▁▁</td></tr><tr><td>loss/translator_3</td><td>█▇▆▄▂▂▂▁▁▁</td></tr><tr><td>loss/translator_4</td><td>█▇▆▅▄▃▂▂▁▁</td></tr><tr><td>loss/translator_5</td><td>█▇▆▅▃▂▂▂▁▁</td></tr><tr><td>loss/translator_6</td><td>█▇▆▅▃▂▂▁▁▁</td></tr><tr><td>loss/translator_7</td><td>█▇▇▆▅▄▃▂▂▁</td></tr><tr><td>loss/translator_8</td><td>█▇▆▅▄▂▂▁▁▁</td></tr><tr><td>loss/translator_9</td><td>█▇▆▅▄▂▂▁▁▁</td></tr><tr><td>weight_norm/0.ffn</td><td>▁▂▃▄▅▆▇▇██</td></tr><tr><td>weight_norm/1.ffn</td><td>▁▂▂▃▄▅▆▇██</td></tr><tr><td>weight_norm/10.ffn</td><td>▁▁▂▃▄▅▆▇██</td></tr><tr><td>weight_norm/11.ffn</td><td>▁▂▃▄▅▆▇███</td></tr><tr><td>weight_norm/12.ffn</td><td>▁▂▃▄▅▆▇▇██</td></tr><tr><td>weight_norm/13.ffn</td><td>▁▂▃▄▅▆▇███</td></tr><tr><td>weight_norm/14.ffn</td><td>▁▂▃▄▅▆▇███</td></tr><tr><td>weight_norm/15.ffn</td><td>▁▂▃▄▅▆▇▇██</td></tr><tr><td>weight_norm/16.ffn</td><td>▁▂▂▃▅▆▇▇██</td></tr><tr><td>weight_norm/17.ffn</td><td>▁▂▂▃▄▅▆▇██</td></tr><tr><td>weight_norm/18.ffn</td><td>▁▂▃▄▅▆▇▇██</td></tr><tr><td>weight_norm/19.ffn</td><td>▁▂▂▃▄▅▆▇██</td></tr><tr><td>weight_norm/2.ffn</td><td>▁▂▃▅▆▇████</td></tr><tr><td>weight_norm/20.ffn</td><td>▁▂▄▅▆▇▇███</td></tr><tr><td>weight_norm/21.ffn</td><td>▁▆▇█▇▇▇▇██</td></tr><tr><td>weight_norm/22.ffn</td><td>▁▄▅▆▆▇▇▇██</td></tr><tr><td>weight_norm/3.ffn</td><td>▁▂▃▄▅▆▇▇██</td></tr><tr><td>weight_norm/4.ffn</td><td>▁▂▃▄▅▆▇▇██</td></tr><tr><td>weight_norm/5.ffn</td><td>▁▂▃▄▅▆▇███</td></tr><tr><td>weight_norm/6.ffn</td><td>▁▂▂▃▄▅▆▇██</td></tr><tr><td>weight_norm/7.ffn</td><td>▁▂▃▄▅▆▇▇██</td></tr><tr><td>weight_norm/8.ffn</td><td>▁▂▃▄▅▆▇███</td></tr><tr><td>weight_norm/9.ffn</td><td>▁▂▃▄▅▆▇███</td></tr><tr><td>weight_norm/input</td><td>▁▂▃▄▅▆▆▇██</td></tr></table><br/></div><div class=\"wandb-col\"><h3>Run summary:</h3><br/><table class=\"wandb\"><tr><td>bias_norm/0.ffn</td><td>0.09637</td></tr><tr><td>bias_norm/1.ffn</td><td>0.10541</td></tr><tr><td>bias_norm/10.ffn</td><td>0.03354</td></tr><tr><td>bias_norm/11.ffn</td><td>0.05914</td></tr><tr><td>bias_norm/12.ffn</td><td>0.06598</td></tr><tr><td>bias_norm/13.ffn</td><td>0.06201</td></tr><tr><td>bias_norm/14.ffn</td><td>0.05243</td></tr><tr><td>bias_norm/15.ffn</td><td>0.04114</td></tr><tr><td>bias_norm/16.ffn</td><td>0.04294</td></tr><tr><td>bias_norm/17.ffn</td><td>0.02673</td></tr><tr><td>bias_norm/18.ffn</td><td>0.03062</td></tr><tr><td>bias_norm/19.ffn</td><td>0.01089</td></tr><tr><td>bias_norm/2.ffn</td><td>0.13647</td></tr><tr><td>bias_norm/20.ffn</td><td>0.02234</td></tr><tr><td>bias_norm/21.ffn</td><td>0.01653</td></tr><tr><td>bias_norm/22.ffn</td><td>0.0124</td></tr><tr><td>bias_norm/3.ffn</td><td>0.08917</td></tr><tr><td>bias_norm/4.ffn</td><td>0.08759</td></tr><tr><td>bias_norm/5.ffn</td><td>0.09314</td></tr><tr><td>bias_norm/6.ffn</td><td>0.05209</td></tr><tr><td>bias_norm/7.ffn</td><td>0.06464</td></tr><tr><td>bias_norm/8.ffn</td><td>0.08179</td></tr><tr><td>bias_norm/9.ffn</td><td>0.07941</td></tr><tr><td>bias_norm/input</td><td>0.06174</td></tr><tr><td>loss/translator_0</td><td>47.20995</td></tr><tr><td>loss/translator_1</td><td>10.21896</td></tr><tr><td>loss/translator_10</td><td>6.94844</td></tr><tr><td>loss/translator_11</td><td>7.79697</td></tr><tr><td>loss/translator_12</td><td>7.09501</td></tr><tr><td>loss/translator_13</td><td>6.92236</td></tr><tr><td>loss/translator_14</td><td>6.18173</td></tr><tr><td>loss/translator_15</td><td>6.57746</td></tr><tr><td>loss/translator_16</td><td>7.01386</td></tr><tr><td>loss/translator_17</td><td>7.0264</td></tr><tr><td>loss/translator_18</td><td>7.0076</td></tr><tr><td>loss/translator_19</td><td>6.11066</td></tr><tr><td>loss/translator_2</td><td>9.12885</td></tr><tr><td>loss/translator_20</td><td>6.66522</td></tr><tr><td>loss/translator_21</td><td>4.30465</td></tr><tr><td>loss/translator_22</td><td>4.8834</td></tr><tr><td>loss/translator_23</td><td>3.16921</td></tr><tr><td>loss/translator_3</td><td>6.73515</td></tr><tr><td>loss/translator_4</td><td>8.06899</td></tr><tr><td>loss/translator_5</td><td>7.57444</td></tr><tr><td>loss/translator_6</td><td>6.98901</td></tr><tr><td>loss/translator_7</td><td>7.66371</td></tr><tr><td>loss/translator_8</td><td>6.94891</td></tr><tr><td>loss/translator_9</td><td>6.82461</td></tr><tr><td>weight_norm/0.ffn</td><td>0.59326</td></tr><tr><td>weight_norm/1.ffn</td><td>0.22632</td></tr><tr><td>weight_norm/10.ffn</td><td>0.13354</td></tr><tr><td>weight_norm/11.ffn</td><td>0.2522</td></tr><tr><td>weight_norm/12.ffn</td><td>0.23364</td></tr><tr><td>weight_norm/13.ffn</td><td>0.32495</td></tr><tr><td>weight_norm/14.ffn</td><td>0.29736</td></tr><tr><td>weight_norm/15.ffn</td><td>0.24573</td></tr><tr><td>weight_norm/16.ffn</td><td>0.1781</td></tr><tr><td>weight_norm/17.ffn</td><td>0.16199</td></tr><tr><td>weight_norm/18.ffn</td><td>0.24622</td></tr><tr><td>weight_norm/19.ffn</td><td>0.20215</td></tr><tr><td>weight_norm/2.ffn</td><td>0.27197</td></tr><tr><td>weight_norm/20.ffn</td><td>0.49146</td></tr><tr><td>weight_norm/21.ffn</td><td>0.3252</td></tr><tr><td>weight_norm/22.ffn</td><td>0.36987</td></tr><tr><td>weight_norm/3.ffn</td><td>0.20483</td></tr><tr><td>weight_norm/4.ffn</td><td>0.17737</td></tr><tr><td>weight_norm/5.ffn</td><td>0.23987</td></tr><tr><td>weight_norm/6.ffn</td><td>0.19861</td></tr><tr><td>weight_norm/7.ffn</td><td>0.21228</td></tr><tr><td>weight_norm/8.ffn</td><td>0.24329</td></tr><tr><td>weight_norm/9.ffn</td><td>0.27197</td></tr><tr><td>weight_norm/input</td><td>0.57031</td></tr></table><br/></div></div>"
            ],
            "text/plain": [
              "<IPython.core.display.HTML object>"
            ]
          },
          "metadata": {},
          "output_type": "display_data"
        },
        {
          "data": {
            "text/html": [
              " View run <strong style=\"color:#cdcd00\">Lens</strong> at: <a href='https://wandb.ai/pimemorization/tuned-lens-notebooks/runs/8khc5dgm' target=\"_blank\">https://wandb.ai/pimemorization/tuned-lens-notebooks/runs/8khc5dgm</a><br/>Synced 6 W&B file(s), 0 media file(s), 0 artifact file(s) and 0 other file(s)"
            ],
            "text/plain": [
              "<IPython.core.display.HTML object>"
            ]
          },
          "metadata": {},
          "output_type": "display_data"
        },
        {
          "data": {
            "text/html": [
              "Find logs at: <code>./wandb/run-20231224_103002-8khc5dgm/logs</code>"
            ],
            "text/plain": [
              "<IPython.core.display.HTML object>"
            ]
          },
          "metadata": {},
          "output_type": "display_data"
        },
        {
          "data": {
            "text/html": [
              "Successfully finished last run (ID:8khc5dgm). Initializing new run:<br/>"
            ],
            "text/plain": [
              "<IPython.core.display.HTML object>"
            ]
          },
          "metadata": {},
          "output_type": "display_data"
        },
        {
          "data": {
            "application/vnd.jupyter.widget-view+json": {
              "model_id": "272e8dd00aa2469e9c6dbb331f42569d",
              "version_major": 2,
              "version_minor": 0
            },
            "text/plain": [
              "VBox(children=(Label(value='Waiting for wandb.init()...\\r'), FloatProgress(value=0.011112630888884369, max=1.0…"
            ]
          },
          "metadata": {},
          "output_type": "display_data"
        },
        {
          "data": {
            "text/html": [
              "Tracking run with wandb version 0.16.1"
            ],
            "text/plain": [
              "<IPython.core.display.HTML object>"
            ]
          },
          "metadata": {},
          "output_type": "display_data"
        },
        {
          "data": {
            "text/html": [
              "Run data is saved locally in <code>/mnt/c/Users/g-spa/Desktop/tuned-lens/notebooks/wandb/run-20231224_110635-dsq7f4yh</code>"
            ],
            "text/plain": [
              "<IPython.core.display.HTML object>"
            ]
          },
          "metadata": {},
          "output_type": "display_data"
        },
        {
          "data": {
            "text/html": [
              "Syncing run <strong><a href='https://wandb.ai/pimemorization/tuned-lens-notebooks/runs/dsq7f4yh' target=\"_blank\">Lens</a></strong> to <a href='https://wandb.ai/pimemorization/tuned-lens-notebooks' target=\"_blank\">Weights & Biases</a> (<a href='https://wandb.me/run' target=\"_blank\">docs</a>)<br/>"
            ],
            "text/plain": [
              "<IPython.core.display.HTML object>"
            ]
          },
          "metadata": {},
          "output_type": "display_data"
        },
        {
          "data": {
            "text/html": [
              " View project at <a href='https://wandb.ai/pimemorization/tuned-lens-notebooks' target=\"_blank\">https://wandb.ai/pimemorization/tuned-lens-notebooks</a>"
            ],
            "text/plain": [
              "<IPython.core.display.HTML object>"
            ]
          },
          "metadata": {},
          "output_type": "display_data"
        },
        {
          "data": {
            "text/html": [
              " View run at <a href='https://wandb.ai/pimemorization/tuned-lens-notebooks/runs/dsq7f4yh' target=\"_blank\">https://wandb.ai/pimemorization/tuned-lens-notebooks/runs/dsq7f4yh</a>"
            ],
            "text/plain": [
              "<IPython.core.display.HTML object>"
            ]
          },
          "metadata": {},
          "output_type": "display_data"
        },
        {
          "data": {
            "application/vnd.jupyter.widget-view+json": {
              "model_id": "482ac242f39e4d20964290d2e0a4b4ee",
              "version_major": 2,
              "version_minor": 0
            },
            "text/plain": [
              "Training:   0%|          | 0/5120 [00:00<?, ?it/s]"
            ]
          },
          "metadata": {},
          "output_type": "display_data"
        },
        {
          "ename": "KeyboardInterrupt",
          "evalue": "",
          "output_type": "error",
          "traceback": [
            "\u001b[0;31m---------------------------------------------------------------------------\u001b[0m",
            "\u001b[0;31mKeyboardInterrupt\u001b[0m                         Traceback (most recent call last)",
            "Cell \u001b[0;32mIn[21], line 1\u001b[0m\n\u001b[0;32m----> 1\u001b[0m \u001b[43mtrain\u001b[49m\u001b[38;5;241;43m.\u001b[39;49m\u001b[43mexecute\u001b[49m\u001b[43m(\u001b[49m\u001b[43m)\u001b[49m\n",
            "File \u001b[0;32m/mnt/c/Users/g-spa/Desktop/tuned-lens/tuned_lens/scripts/train_loop.py:388\u001b[0m, in \u001b[0;36mTrain.execute\u001b[0;34m(self)\u001b[0m\n\u001b[1;32m    386\u001b[0m \u001b[38;5;28;01mwith\u001b[39;00m th\u001b[38;5;241m.\u001b[39mno_grad():\n\u001b[1;32m    387\u001b[0m     batch \u001b[38;5;241m=\u001b[39m \u001b[38;5;28mself\u001b[39m\u001b[38;5;241m.\u001b[39mdist\u001b[38;5;241m.\u001b[39msend_to_device(batch)\n\u001b[0;32m--> 388\u001b[0m     output \u001b[38;5;241m=\u001b[39m \u001b[43mmodel\u001b[49m\u001b[43m(\u001b[49m\u001b[38;5;241;43m*\u001b[39;49m\u001b[38;5;241;43m*\u001b[39;49m\u001b[43mbatch\u001b[49m\u001b[43m,\u001b[49m\u001b[43m \u001b[49m\u001b[43moutput_hidden_states\u001b[49m\u001b[38;5;241;43m=\u001b[39;49m\u001b[38;5;28;43;01mTrue\u001b[39;49;00m\u001b[43m)\u001b[49m\n\u001b[1;32m    390\u001b[0m final_logits \u001b[38;5;241m=\u001b[39m output\u001b[38;5;241m.\u001b[39mlogits\n\u001b[1;32m    391\u001b[0m hidden_states \u001b[38;5;241m=\u001b[39m output\u001b[38;5;241m.\u001b[39mhidden_states[:\u001b[38;5;241m-\u001b[39m\u001b[38;5;241m1\u001b[39m]\n",
            "File \u001b[0;32m~/GpiT/.conda/lib/python3.11/site-packages/torch/nn/modules/module.py:1518\u001b[0m, in \u001b[0;36mModule._wrapped_call_impl\u001b[0;34m(self, *args, **kwargs)\u001b[0m\n\u001b[1;32m   1516\u001b[0m     \u001b[38;5;28;01mreturn\u001b[39;00m \u001b[38;5;28mself\u001b[39m\u001b[38;5;241m.\u001b[39m_compiled_call_impl(\u001b[38;5;241m*\u001b[39margs, \u001b[38;5;241m*\u001b[39m\u001b[38;5;241m*\u001b[39mkwargs)  \u001b[38;5;66;03m# type: ignore[misc]\u001b[39;00m\n\u001b[1;32m   1517\u001b[0m \u001b[38;5;28;01melse\u001b[39;00m:\n\u001b[0;32m-> 1518\u001b[0m     \u001b[38;5;28;01mreturn\u001b[39;00m \u001b[38;5;28;43mself\u001b[39;49m\u001b[38;5;241;43m.\u001b[39;49m\u001b[43m_call_impl\u001b[49m\u001b[43m(\u001b[49m\u001b[38;5;241;43m*\u001b[39;49m\u001b[43margs\u001b[49m\u001b[43m,\u001b[49m\u001b[43m \u001b[49m\u001b[38;5;241;43m*\u001b[39;49m\u001b[38;5;241;43m*\u001b[39;49m\u001b[43mkwargs\u001b[49m\u001b[43m)\u001b[49m\n",
            "File \u001b[0;32m~/GpiT/.conda/lib/python3.11/site-packages/torch/nn/modules/module.py:1527\u001b[0m, in \u001b[0;36mModule._call_impl\u001b[0;34m(self, *args, **kwargs)\u001b[0m\n\u001b[1;32m   1522\u001b[0m \u001b[38;5;66;03m# If we don't have any hooks, we want to skip the rest of the logic in\u001b[39;00m\n\u001b[1;32m   1523\u001b[0m \u001b[38;5;66;03m# this function, and just call forward.\u001b[39;00m\n\u001b[1;32m   1524\u001b[0m \u001b[38;5;28;01mif\u001b[39;00m \u001b[38;5;129;01mnot\u001b[39;00m (\u001b[38;5;28mself\u001b[39m\u001b[38;5;241m.\u001b[39m_backward_hooks \u001b[38;5;129;01mor\u001b[39;00m \u001b[38;5;28mself\u001b[39m\u001b[38;5;241m.\u001b[39m_backward_pre_hooks \u001b[38;5;129;01mor\u001b[39;00m \u001b[38;5;28mself\u001b[39m\u001b[38;5;241m.\u001b[39m_forward_hooks \u001b[38;5;129;01mor\u001b[39;00m \u001b[38;5;28mself\u001b[39m\u001b[38;5;241m.\u001b[39m_forward_pre_hooks\n\u001b[1;32m   1525\u001b[0m         \u001b[38;5;129;01mor\u001b[39;00m _global_backward_pre_hooks \u001b[38;5;129;01mor\u001b[39;00m _global_backward_hooks\n\u001b[1;32m   1526\u001b[0m         \u001b[38;5;129;01mor\u001b[39;00m _global_forward_hooks \u001b[38;5;129;01mor\u001b[39;00m _global_forward_pre_hooks):\n\u001b[0;32m-> 1527\u001b[0m     \u001b[38;5;28;01mreturn\u001b[39;00m \u001b[43mforward_call\u001b[49m\u001b[43m(\u001b[49m\u001b[38;5;241;43m*\u001b[39;49m\u001b[43margs\u001b[49m\u001b[43m,\u001b[49m\u001b[43m \u001b[49m\u001b[38;5;241;43m*\u001b[39;49m\u001b[38;5;241;43m*\u001b[39;49m\u001b[43mkwargs\u001b[49m\u001b[43m)\u001b[49m\n\u001b[1;32m   1529\u001b[0m \u001b[38;5;28;01mtry\u001b[39;00m:\n\u001b[1;32m   1530\u001b[0m     result \u001b[38;5;241m=\u001b[39m \u001b[38;5;28;01mNone\u001b[39;00m\n",
            "Cell \u001b[0;32mIn[2], line 53\u001b[0m, in \u001b[0;36mMambaModel.forward\u001b[0;34m(self, input_ids, output_hidden_states)\u001b[0m\n\u001b[1;32m     51\u001b[0m \u001b[38;5;28;01mif\u001b[39;00m output_hidden_states\u001b[38;5;241m==\u001b[39m\u001b[38;5;28;01mTrue\u001b[39;00m:\n\u001b[1;32m     52\u001b[0m     \u001b[38;5;28mself\u001b[39m\u001b[38;5;241m.\u001b[39mhook_intermediate()\n\u001b[0;32m---> 53\u001b[0m outputs \u001b[38;5;241m=\u001b[39m \u001b[38;5;28;43mself\u001b[39;49m\u001b[38;5;241;43m.\u001b[39;49m\u001b[43mmodel\u001b[49m\u001b[43m(\u001b[49m\u001b[43minput_ids\u001b[49m\u001b[43m)\u001b[49m\u001b[38;5;241m.\u001b[39mlogits\n\u001b[1;32m     54\u001b[0m hidden_states\u001b[38;5;241m=\u001b[39m[]\n\u001b[1;32m     55\u001b[0m \u001b[38;5;28;01mfor\u001b[39;00m layer \u001b[38;5;129;01min\u001b[39;00m activations\u001b[38;5;241m.\u001b[39mkeys():\n",
            "File \u001b[0;32m~/GpiT/.conda/lib/python3.11/site-packages/torch/nn/modules/module.py:1518\u001b[0m, in \u001b[0;36mModule._wrapped_call_impl\u001b[0;34m(self, *args, **kwargs)\u001b[0m\n\u001b[1;32m   1516\u001b[0m     \u001b[38;5;28;01mreturn\u001b[39;00m \u001b[38;5;28mself\u001b[39m\u001b[38;5;241m.\u001b[39m_compiled_call_impl(\u001b[38;5;241m*\u001b[39margs, \u001b[38;5;241m*\u001b[39m\u001b[38;5;241m*\u001b[39mkwargs)  \u001b[38;5;66;03m# type: ignore[misc]\u001b[39;00m\n\u001b[1;32m   1517\u001b[0m \u001b[38;5;28;01melse\u001b[39;00m:\n\u001b[0;32m-> 1518\u001b[0m     \u001b[38;5;28;01mreturn\u001b[39;00m \u001b[38;5;28;43mself\u001b[39;49m\u001b[38;5;241;43m.\u001b[39;49m\u001b[43m_call_impl\u001b[49m\u001b[43m(\u001b[49m\u001b[38;5;241;43m*\u001b[39;49m\u001b[43margs\u001b[49m\u001b[43m,\u001b[49m\u001b[43m \u001b[49m\u001b[38;5;241;43m*\u001b[39;49m\u001b[38;5;241;43m*\u001b[39;49m\u001b[43mkwargs\u001b[49m\u001b[43m)\u001b[49m\n",
            "File \u001b[0;32m~/GpiT/.conda/lib/python3.11/site-packages/torch/nn/modules/module.py:1527\u001b[0m, in \u001b[0;36mModule._call_impl\u001b[0;34m(self, *args, **kwargs)\u001b[0m\n\u001b[1;32m   1522\u001b[0m \u001b[38;5;66;03m# If we don't have any hooks, we want to skip the rest of the logic in\u001b[39;00m\n\u001b[1;32m   1523\u001b[0m \u001b[38;5;66;03m# this function, and just call forward.\u001b[39;00m\n\u001b[1;32m   1524\u001b[0m \u001b[38;5;28;01mif\u001b[39;00m \u001b[38;5;129;01mnot\u001b[39;00m (\u001b[38;5;28mself\u001b[39m\u001b[38;5;241m.\u001b[39m_backward_hooks \u001b[38;5;129;01mor\u001b[39;00m \u001b[38;5;28mself\u001b[39m\u001b[38;5;241m.\u001b[39m_backward_pre_hooks \u001b[38;5;129;01mor\u001b[39;00m \u001b[38;5;28mself\u001b[39m\u001b[38;5;241m.\u001b[39m_forward_hooks \u001b[38;5;129;01mor\u001b[39;00m \u001b[38;5;28mself\u001b[39m\u001b[38;5;241m.\u001b[39m_forward_pre_hooks\n\u001b[1;32m   1525\u001b[0m         \u001b[38;5;129;01mor\u001b[39;00m _global_backward_pre_hooks \u001b[38;5;129;01mor\u001b[39;00m _global_backward_hooks\n\u001b[1;32m   1526\u001b[0m         \u001b[38;5;129;01mor\u001b[39;00m _global_forward_hooks \u001b[38;5;129;01mor\u001b[39;00m _global_forward_pre_hooks):\n\u001b[0;32m-> 1527\u001b[0m     \u001b[38;5;28;01mreturn\u001b[39;00m \u001b[43mforward_call\u001b[49m\u001b[43m(\u001b[49m\u001b[38;5;241;43m*\u001b[39;49m\u001b[43margs\u001b[49m\u001b[43m,\u001b[49m\u001b[43m \u001b[49m\u001b[38;5;241;43m*\u001b[39;49m\u001b[38;5;241;43m*\u001b[39;49m\u001b[43mkwargs\u001b[49m\u001b[43m)\u001b[49m\n\u001b[1;32m   1529\u001b[0m \u001b[38;5;28;01mtry\u001b[39;00m:\n\u001b[1;32m   1530\u001b[0m     result \u001b[38;5;241m=\u001b[39m \u001b[38;5;28;01mNone\u001b[39;00m\n",
            "File \u001b[0;32m~/GpiT/.conda/lib/python3.11/site-packages/mamba_ssm/models/mixer_seq_simple.py:221\u001b[0m, in \u001b[0;36mMambaLMHeadModel.forward\u001b[0;34m(self, input_ids, position_ids, inference_params, num_last_tokens)\u001b[0m\n\u001b[1;32m    216\u001b[0m \u001b[38;5;28;01mdef\u001b[39;00m \u001b[38;5;21mforward\u001b[39m(\u001b[38;5;28mself\u001b[39m, input_ids, position_ids\u001b[38;5;241m=\u001b[39m\u001b[38;5;28;01mNone\u001b[39;00m, inference_params\u001b[38;5;241m=\u001b[39m\u001b[38;5;28;01mNone\u001b[39;00m, num_last_tokens\u001b[38;5;241m=\u001b[39m\u001b[38;5;241m0\u001b[39m):\n\u001b[1;32m    217\u001b[0m \u001b[38;5;250m    \u001b[39m\u001b[38;5;124;03m\"\"\"\u001b[39;00m\n\u001b[1;32m    218\u001b[0m \u001b[38;5;124;03m    \"position_ids\" is just to be compatible with Transformer generation. We don't use it.\u001b[39;00m\n\u001b[1;32m    219\u001b[0m \u001b[38;5;124;03m    num_last_tokens: if > 0, only return the logits for the last n tokens\u001b[39;00m\n\u001b[1;32m    220\u001b[0m \u001b[38;5;124;03m    \"\"\"\u001b[39;00m\n\u001b[0;32m--> 221\u001b[0m     hidden_states \u001b[38;5;241m=\u001b[39m \u001b[38;5;28;43mself\u001b[39;49m\u001b[38;5;241;43m.\u001b[39;49m\u001b[43mbackbone\u001b[49m\u001b[43m(\u001b[49m\u001b[43minput_ids\u001b[49m\u001b[43m,\u001b[49m\u001b[43m \u001b[49m\u001b[43minference_params\u001b[49m\u001b[38;5;241;43m=\u001b[39;49m\u001b[43minference_params\u001b[49m\u001b[43m)\u001b[49m\n\u001b[1;32m    222\u001b[0m     \u001b[38;5;28;01mif\u001b[39;00m num_last_tokens \u001b[38;5;241m>\u001b[39m \u001b[38;5;241m0\u001b[39m:\n\u001b[1;32m    223\u001b[0m         hidden_states \u001b[38;5;241m=\u001b[39m hidden_states[:, \u001b[38;5;241m-\u001b[39mnum_last_tokens:]\n",
            "File \u001b[0;32m~/GpiT/.conda/lib/python3.11/site-packages/torch/nn/modules/module.py:1518\u001b[0m, in \u001b[0;36mModule._wrapped_call_impl\u001b[0;34m(self, *args, **kwargs)\u001b[0m\n\u001b[1;32m   1516\u001b[0m     \u001b[38;5;28;01mreturn\u001b[39;00m \u001b[38;5;28mself\u001b[39m\u001b[38;5;241m.\u001b[39m_compiled_call_impl(\u001b[38;5;241m*\u001b[39margs, \u001b[38;5;241m*\u001b[39m\u001b[38;5;241m*\u001b[39mkwargs)  \u001b[38;5;66;03m# type: ignore[misc]\u001b[39;00m\n\u001b[1;32m   1517\u001b[0m \u001b[38;5;28;01melse\u001b[39;00m:\n\u001b[0;32m-> 1518\u001b[0m     \u001b[38;5;28;01mreturn\u001b[39;00m \u001b[38;5;28;43mself\u001b[39;49m\u001b[38;5;241;43m.\u001b[39;49m\u001b[43m_call_impl\u001b[49m\u001b[43m(\u001b[49m\u001b[38;5;241;43m*\u001b[39;49m\u001b[43margs\u001b[49m\u001b[43m,\u001b[49m\u001b[43m \u001b[49m\u001b[38;5;241;43m*\u001b[39;49m\u001b[38;5;241;43m*\u001b[39;49m\u001b[43mkwargs\u001b[49m\u001b[43m)\u001b[49m\n",
            "File \u001b[0;32m~/GpiT/.conda/lib/python3.11/site-packages/torch/nn/modules/module.py:1527\u001b[0m, in \u001b[0;36mModule._call_impl\u001b[0;34m(self, *args, **kwargs)\u001b[0m\n\u001b[1;32m   1522\u001b[0m \u001b[38;5;66;03m# If we don't have any hooks, we want to skip the rest of the logic in\u001b[39;00m\n\u001b[1;32m   1523\u001b[0m \u001b[38;5;66;03m# this function, and just call forward.\u001b[39;00m\n\u001b[1;32m   1524\u001b[0m \u001b[38;5;28;01mif\u001b[39;00m \u001b[38;5;129;01mnot\u001b[39;00m (\u001b[38;5;28mself\u001b[39m\u001b[38;5;241m.\u001b[39m_backward_hooks \u001b[38;5;129;01mor\u001b[39;00m \u001b[38;5;28mself\u001b[39m\u001b[38;5;241m.\u001b[39m_backward_pre_hooks \u001b[38;5;129;01mor\u001b[39;00m \u001b[38;5;28mself\u001b[39m\u001b[38;5;241m.\u001b[39m_forward_hooks \u001b[38;5;129;01mor\u001b[39;00m \u001b[38;5;28mself\u001b[39m\u001b[38;5;241m.\u001b[39m_forward_pre_hooks\n\u001b[1;32m   1525\u001b[0m         \u001b[38;5;129;01mor\u001b[39;00m _global_backward_pre_hooks \u001b[38;5;129;01mor\u001b[39;00m _global_backward_hooks\n\u001b[1;32m   1526\u001b[0m         \u001b[38;5;129;01mor\u001b[39;00m _global_forward_hooks \u001b[38;5;129;01mor\u001b[39;00m _global_forward_pre_hooks):\n\u001b[0;32m-> 1527\u001b[0m     \u001b[38;5;28;01mreturn\u001b[39;00m \u001b[43mforward_call\u001b[49m\u001b[43m(\u001b[49m\u001b[38;5;241;43m*\u001b[39;49m\u001b[43margs\u001b[49m\u001b[43m,\u001b[49m\u001b[43m \u001b[49m\u001b[38;5;241;43m*\u001b[39;49m\u001b[38;5;241;43m*\u001b[39;49m\u001b[43mkwargs\u001b[49m\u001b[43m)\u001b[49m\n\u001b[1;32m   1529\u001b[0m \u001b[38;5;28;01mtry\u001b[39;00m:\n\u001b[1;32m   1530\u001b[0m     result \u001b[38;5;241m=\u001b[39m \u001b[38;5;28;01mNone\u001b[39;00m\n",
            "File \u001b[0;32m~/GpiT/.conda/lib/python3.11/site-packages/mamba_ssm/models/mixer_seq_simple.py:152\u001b[0m, in \u001b[0;36mMixerModel.forward\u001b[0;34m(self, input_ids, inference_params)\u001b[0m\n\u001b[1;32m    150\u001b[0m residual \u001b[38;5;241m=\u001b[39m \u001b[38;5;28;01mNone\u001b[39;00m\n\u001b[1;32m    151\u001b[0m \u001b[38;5;28;01mfor\u001b[39;00m layer \u001b[38;5;129;01min\u001b[39;00m \u001b[38;5;28mself\u001b[39m\u001b[38;5;241m.\u001b[39mlayers:\n\u001b[0;32m--> 152\u001b[0m     hidden_states, residual \u001b[38;5;241m=\u001b[39m \u001b[43mlayer\u001b[49m\u001b[43m(\u001b[49m\n\u001b[1;32m    153\u001b[0m \u001b[43m        \u001b[49m\u001b[43mhidden_states\u001b[49m\u001b[43m,\u001b[49m\u001b[43m \u001b[49m\u001b[43mresidual\u001b[49m\u001b[43m,\u001b[49m\u001b[43m \u001b[49m\u001b[43minference_params\u001b[49m\u001b[38;5;241;43m=\u001b[39;49m\u001b[43minference_params\u001b[49m\n\u001b[1;32m    154\u001b[0m \u001b[43m    \u001b[49m\u001b[43m)\u001b[49m\n\u001b[1;32m    155\u001b[0m \u001b[38;5;28;01mif\u001b[39;00m \u001b[38;5;129;01mnot\u001b[39;00m \u001b[38;5;28mself\u001b[39m\u001b[38;5;241m.\u001b[39mfused_add_norm:\n\u001b[1;32m    156\u001b[0m     residual \u001b[38;5;241m=\u001b[39m (hidden_states \u001b[38;5;241m+\u001b[39m residual) \u001b[38;5;28;01mif\u001b[39;00m residual \u001b[38;5;129;01mis\u001b[39;00m \u001b[38;5;129;01mnot\u001b[39;00m \u001b[38;5;28;01mNone\u001b[39;00m \u001b[38;5;28;01melse\u001b[39;00m hidden_states\n",
            "File \u001b[0;32m~/GpiT/.conda/lib/python3.11/site-packages/torch/nn/modules/module.py:1518\u001b[0m, in \u001b[0;36mModule._wrapped_call_impl\u001b[0;34m(self, *args, **kwargs)\u001b[0m\n\u001b[1;32m   1516\u001b[0m     \u001b[38;5;28;01mreturn\u001b[39;00m \u001b[38;5;28mself\u001b[39m\u001b[38;5;241m.\u001b[39m_compiled_call_impl(\u001b[38;5;241m*\u001b[39margs, \u001b[38;5;241m*\u001b[39m\u001b[38;5;241m*\u001b[39mkwargs)  \u001b[38;5;66;03m# type: ignore[misc]\u001b[39;00m\n\u001b[1;32m   1517\u001b[0m \u001b[38;5;28;01melse\u001b[39;00m:\n\u001b[0;32m-> 1518\u001b[0m     \u001b[38;5;28;01mreturn\u001b[39;00m \u001b[38;5;28;43mself\u001b[39;49m\u001b[38;5;241;43m.\u001b[39;49m\u001b[43m_call_impl\u001b[49m\u001b[43m(\u001b[49m\u001b[38;5;241;43m*\u001b[39;49m\u001b[43margs\u001b[49m\u001b[43m,\u001b[49m\u001b[43m \u001b[49m\u001b[38;5;241;43m*\u001b[39;49m\u001b[38;5;241;43m*\u001b[39;49m\u001b[43mkwargs\u001b[49m\u001b[43m)\u001b[49m\n",
            "File \u001b[0;32m~/GpiT/.conda/lib/python3.11/site-packages/torch/nn/modules/module.py:1581\u001b[0m, in \u001b[0;36mModule._call_impl\u001b[0;34m(self, *args, **kwargs)\u001b[0m\n\u001b[1;32m   1579\u001b[0m     hook_result \u001b[38;5;241m=\u001b[39m hook(\u001b[38;5;28mself\u001b[39m, args, kwargs, result)\n\u001b[1;32m   1580\u001b[0m \u001b[38;5;28;01melse\u001b[39;00m:\n\u001b[0;32m-> 1581\u001b[0m     hook_result \u001b[38;5;241m=\u001b[39m \u001b[43mhook\u001b[49m\u001b[43m(\u001b[49m\u001b[38;5;28;43mself\u001b[39;49m\u001b[43m,\u001b[49m\u001b[43m \u001b[49m\u001b[43margs\u001b[49m\u001b[43m,\u001b[49m\u001b[43m \u001b[49m\u001b[43mresult\u001b[49m\u001b[43m)\u001b[49m\n\u001b[1;32m   1583\u001b[0m \u001b[38;5;28;01mif\u001b[39;00m hook_result \u001b[38;5;129;01mis\u001b[39;00m \u001b[38;5;129;01mnot\u001b[39;00m \u001b[38;5;28;01mNone\u001b[39;00m:\n\u001b[1;32m   1584\u001b[0m     result \u001b[38;5;241m=\u001b[39m hook_result\n",
            "Cell \u001b[0;32mIn[2], line 28\u001b[0m, in \u001b[0;36mMambaModel.activation_hook\u001b[0;34m(self, module, input, output)\u001b[0m\n\u001b[1;32m     26\u001b[0m name_or_path \u001b[38;5;241m=\u001b[39m \u001b[38;5;124m\"\u001b[39m\u001b[38;5;124mmamba\u001b[39m\u001b[38;5;124m\"\u001b[39m\n\u001b[1;32m     27\u001b[0m name \u001b[38;5;241m=\u001b[39m \u001b[38;5;124m\"\u001b[39m\u001b[38;5;124mmamba-130m\u001b[39m\u001b[38;5;124m\"\u001b[39m\n\u001b[0;32m---> 28\u001b[0m \u001b[38;5;28;01mdef\u001b[39;00m \u001b[38;5;21mactivation_hook\u001b[39m(\u001b[38;5;28mself\u001b[39m, module,\u001b[38;5;28minput\u001b[39m, output):\n\u001b[1;32m     29\u001b[0m     \u001b[38;5;28;01mif\u001b[39;00m \u001b[38;5;28mlen\u001b[39m(output)\u001b[38;5;241m>\u001b[39m\u001b[38;5;241m1\u001b[39m:\n\u001b[1;32m     30\u001b[0m         output \u001b[38;5;241m=\u001b[39m output[\u001b[38;5;241m0\u001b[39m]\n",
            "\u001b[0;31mKeyboardInterrupt\u001b[0m: "
          ]
        }
      ],
      "source": [
        "train.execute()"
      ]
    },
    {
      "cell_type": "code",
      "execution_count": null,
      "metadata": {},
      "outputs": [],
      "source": []
    }
  ],
  "metadata": {
    "colab": {
      "provenance": []
    },
    "kernelspec": {
      "display_name": "Python 3 (ipykernel)",
      "language": "python",
      "name": "python3"
    },
    "language_info": {
      "codemirror_mode": {
        "name": "ipython",
        "version": 3
      },
      "file_extension": ".py",
      "mimetype": "text/x-python",
      "name": "python",
      "nbconvert_exporter": "python",
      "pygments_lexer": "ipython3",
      "version": "3.11.5"
    },
    "vscode": {
      "interpreter": {
        "hash": "ca27fca65bbd5c56c827a2643e94bc7b2b551ee6ee2fe84566f2c789012bce4f"
      }
    }
  },
  "nbformat": 4,
  "nbformat_minor": 0
}
